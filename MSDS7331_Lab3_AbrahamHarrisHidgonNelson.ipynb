{
 "cells": [
  {
   "cell_type": "markdown",
   "metadata": {},
   "source": [
    "<h1><center> Building Recommender Systems: Latest MovieLens Dataset (small 100k) </center></h1>\n",
    "<h2><center> Southern Methodist University: Masters of Data Science </center></h2>\n",
    "<h3><center> MSDS 7331: Data Mining - Lab 3 </center></h3>\n",
    "<h4><center> Jethin Abraham, Laurie Harris, Daniel Higdon, Jack Nelson </center></h4>"
   ]
  },
  {
   "cell_type": "code",
   "execution_count": 1,
   "metadata": {},
   "outputs": [
    {
     "name": "stdout",
     "output_type": "stream",
     "text": [
      "This non-commercial license of GraphLab Create for academic use is assigned to nelsonjohn@mail.smu.edu and will expire on December 02, 2018.\n"
     ]
    },
    {
     "name": "stderr",
     "output_type": "stream",
     "text": [
      "[INFO] graphlab.cython.cy_server: GraphLab Create v2.1 started. Logging: /tmp/graphlab_server_1512631158.log\n"
     ]
    }
   ],
   "source": [
    "import zipfile\n",
    "import os\n",
    "from urllib import urlretrieve\n",
    "import graphlab as gl\n",
    "import pandas as pd\n",
    "import datetime as dt\n",
    "import matplotlib.pyplot as plt\n",
    "%matplotlib inline\n",
    "import numpy as np\n",
    "import seaborn as sns"
   ]
  },
  {
   "cell_type": "markdown",
   "metadata": {},
   "source": [
    "<h2> Business Understanding 1 </h2>  \n",
    "Describe the purpose of the data set you selected (i.e. why was this data collected in the first place?).  How will you measure the effectiveness of a good algorithm?  Why does your chosen validation method make sense for the specific dataset and the stakeholders needs?"
   ]
  },
  {
   "cell_type": "markdown",
   "metadata": {},
   "source": [
    "<h3> Data Background and Purpose </h3>\n",
    "The data set we are using to build a \"recommender\" system is made available by MovieLens<sup>[1]</sup>. MovieLens itself is a research site which is run by GroupLens. So, what, or who, is GroupLens? GroupLens is a research lab run by faculty from the University of Minnesota department of computer science and engineering. GroupLens' mission statement, found on their website (www.grouplens.org/about/what-is-grouplens/) is:\n",
    "\n",
    "\"We advance the theory and practice of social computing by building and understanding systems used by real people.\"\n",
    "\n",
    "Students, faculty, and staff are involved in the running and research which is accomplished by GroupLens.\n",
    "\n",
    "The MovieLens \"product\", which they created and maintain is a non-commercial research site which uses \"collaborative filtering\" to recommend movies to its users. By providing a recommendation service MovieLens can introduce users to movies they may not be familiar with, but may enjoy based on their past movie ratings. In return, the users are providing MovieLens with a richer data set on which to perform research and teach students.\n",
    "\n",
    "<h3> Data Summary </h3>\n",
    "While this is discussed in more detail in the \"Data Understanding\" section, a high-level understanding is important to understanding the business value of the data. The data is actually a collection of four data sets which can be joined together to identify users, the movies they've seen, how they rated them, and how they described the movies through the use of \"tags\" (typically short, free-form text descriptions). The ratings were collected between January 9, 1995 and October 16, 2016. It is important to note that MovieLens specifies that this is a \"development\" data set, which means that it may change over time. As such, it would not be appropriate for research results, as changes to underlying data will result in changes to the research outcomes<sup>[1]</sup>.\n",
    "\n",
    "<h3> Model Measurement and Validation </h3>\n",
    "We are going to explore both user based collaborative filtering (or user-item), as well as a item based method (item-item). We must take into account the quality of the results that we are able to achieve with both methods, but our preference would be to use the item-based method. User based methods does not scale as well, and ultimately we would like to scale our model for applications in even larger data sets. To measure the quality of our results we will rely on three metrics. \n",
    "\n",
    "<h4> Metric 1: RMSE </h4>\n",
    "The first is root mean square error, or RMSE. This is simply the root mean square of the difference between the predicted rating and the actual rating (the error). We can calculate this on a per user basis and on a per item basis. Our business case is end-user focused, so we are more concerned with per user RMSE, as we want to best predicut how any given user would score a movie.\n",
    "\n",
    "<h4> Metric 2: Per-User-Recall </h4>\n",
    "The per-user-recall finds how many of the highly rated movies by any given user, did our model find? The formula, from Dr. Larson's notebook<sup>[4]</sup>, is below:\n",
    "\n",
    "$$R(k)=\\frac{|a \\cap p_k|}{|a|} $$\n",
    "\n",
    "<h4> Metric 3: Per-User-Precision </h4>\n",
    "The per-user-precision is similar to per-user-recall, but approaches it from the opposite angle. Per-user-precision says of the items found by the model, how many were highly rated by the user? Again, the formula for per-user-precision, from Dr. Larson's notebook<sup>[4]</sup> is provided below:\n",
    "\n",
    "$$P(k)=\\frac{|a \\cap p_k|}{k} $$\n",
    "\n",
    "<h4> Stakeholder Needs </h4>\n",
    "In summary, the dataset we have chosen was crafted specifically to serve the purpose we have chosen it for, which is to implement collaborative filtering to develop a recommender system. The target audience is end-users, or movie viewers would would like recommendations about what other movies they may enjoy. We will use their past ratings, as well as information about the types of movies they have seen and rated, to develop these predictions. Finally, we will use RMSE, per-user recall, and per-user-precision to measure the accuracy of our model."
   ]
  },
  {
   "cell_type": "markdown",
   "metadata": {},
   "source": [
    "<h2> Data Understanding 1 </h2>  \n",
    "Describe the meaning and type of data (scale, values, etc.) for each attribute in the data file.  Verify data quality: Are there missing values?  Duplicate data?  Outliers?  Are those mistakes?  How do you deal with these problems."
   ]
  },
  {
   "cell_type": "markdown",
   "metadata": {},
   "source": [
    "<h4> Reading in Files </h4>  \n",
    "The MovieLens dataset is actually a collection of 4 comma separated values (csv) files that can you joined with certain ID fields.  This prevents unecessary duplicate data values for storage, similar to how relational databases are designed.  We begin by downloading the zip file from the url provided at https://grouplens.org/datasets/movielens/, opening the downloaded function, and extracting the contents.  A conditional was added for optimization if previously downloaded.  "
   ]
  },
  {
   "cell_type": "code",
   "execution_count": 2,
   "metadata": {},
   "outputs": [
    {
     "name": "stdout",
     "output_type": "stream",
     "text": [
      "MovieLens dataset already extracted and saved on local machine\n"
     ]
    }
   ],
   "source": [
    "#downloading MovieLens Latest Datasets-Small from https://grouplens.org/datasets/movielens/\n",
    "if os.path.isdir('ml-latest-small/'):\n",
    "    print 'MovieLens dataset already extracted and saved on local machine'\n",
    "else:\n",
    "    urlretrieve('http://files.grouplens.org/datasets/movielens/ml-latest-small.zip','ml-latest-small.zip')\n",
    "    zfile = zipfile.ZipFile('ml-latest-small.zip')\n",
    "    zfile.extractall()\n",
    "    os.remove('ml-latest-small.zip')"
   ]
  },
  {
   "cell_type": "markdown",
   "metadata": {},
   "source": [
    "<h4> Data Description and Meaning </h4>  \n",
    "The contents of the zip file is a folder titled 'ml-latest-small' with four csv files inside: 'movies.csv', 'ratings.csv', 'tags.csv', and 'links.csv'.  The four files can be joined together using the following identification fields:\n",
    " - **userId**: <u>Type</u>: string, <u>Description</u>: unique MovieLens users that selected at random from the full set and anonymized.  The field can be used to link 'ratings.csv' and 'tags.csv'\n",
    " - **movieId**: <u>Type</u>: string, <u>Description</u>: unique movies with at least one rating in the dataset.  The field can be used to link 'ratings.csv', 'tags.csv', 'movies.csv', and 'links.csv'  \n",
    " \n",
    "A description of each csv file and fields are as follows:  \n",
    "  \n",
    "<i><u>movies.csv</u></i>  \n",
    "csv file of movies and their genres   \n",
    " - **movidId**: <u>Type</u>: string, <u>Description</u>: unique identifier for a movie  \n",
    " - **title**: <u>Type</u>: string, <u>Description</u>: textual title of of a movie  \n",
    " - **genres**: <u>Type</u>: list, <Description</u>: pipe-separated list for genre(s) describing a movie\n",
    "     - 18 genres possible values to select from {Action, Adventure, Animation, Children's, Comedy, Crime, Documentary, Drama, Fantasy, Film-Noir, Horror, Musical, Mystery, Romance, Sci-Fi, Thriller, War, Western}\n",
    "     - Not every movie lists a genre  \n",
    "     \n",
    "<i><u>ratings.csv</u></i>  \n",
    "csv file of ratings for movies by MovieLens users   \n",
    " - **userId**: <u>Type</u>: string, <u>Description</u>: unique identifier for a MovieLens user  \n",
    " - **movieId**: <u>Type</u>: string, <u>Description</u>: unique identifier for a movie  \n",
    " - **rating**: <u>Type</u>: float, <u>Description</u>: rating given to a movie by MovieLens user on a 5-star scale with half-star increments  \n",
    " - **timestamp**: <u>Type</u>: int, <u>Description</u>: timestamp of rating represented as seconds since midnight Coordinated Universal Time (UTC) of January 1, 1970  \n",
    "  \n",
    "<i><u>tags.csv</u></i>  \n",
    "csv file of tags for movies chosen by MovieLens users  \n",
    " - **userId**: <u>Type</u>: string, <u>Description</u>: unique identifier for a MovieLens user  \n",
    " - **movieId**: <u>Type</u>: string, <u>Description</u>: unique identifier for a movie  \n",
    " - **tag**: <u>Type</u>: string, <u>Description</u>: a word or short phrase generated by a MovieLens user for a particular movie whose meaning user-specific  \n",
    "  \n",
    "<i><u>links.csv</u></i>  \n",
    "csv file to link movie information from other movie databases  \n",
    " - **movieId**: <u>Type</u>: string, <u>Description</u>: unique identifier for a movie\n",
    " - **imdbId**: <u>Type</u>: string, <u>Description</u>: unique identifier for a movie used by http://www.imdb.com  \n",
    " - **tmdbId**: <u>Type</u>: string, <u>Description</u>: unique identifier for a movie used by http://www.themoviedb.org  "
   ]
  },
  {
   "cell_type": "markdown",
   "metadata": {},
   "source": [
    "<h4> Verify Data Quality </h4>  \n",
    "\n",
    "Now that we understand the dataset files as well as the type and meaning of each attribute.  Let's load each csv file into a GraphLab SFrame and view its output in the Canvas.  <u><i>Links.csv</i></u> will not be loaded since we are not using imdb or tmdb in this notebook.  \n",
    "  \n",
    "<h4><u><i>movies.csv</i></u></h4>  "
   ]
  },
  {
   "cell_type": "code",
   "execution_count": 3,
   "metadata": {},
   "outputs": [
    {
     "data": {
      "text/html": [
       "<pre>Finished parsing file /Users/JackNelson/Documents/SMU/MSDS7331/Project3/Github/ml-latest-small/movies.csv</pre>"
      ],
      "text/plain": [
       "Finished parsing file /Users/JackNelson/Documents/SMU/MSDS7331/Project3/Github/ml-latest-small/movies.csv"
      ]
     },
     "metadata": {},
     "output_type": "display_data"
    },
    {
     "data": {
      "text/html": [
       "<pre>Parsing completed. Parsed 100 lines in 0.184108 secs.</pre>"
      ],
      "text/plain": [
       "Parsing completed. Parsed 100 lines in 0.184108 secs."
      ]
     },
     "metadata": {},
     "output_type": "display_data"
    },
    {
     "data": {
      "text/html": [
       "<pre>Finished parsing file /Users/JackNelson/Documents/SMU/MSDS7331/Project3/Github/ml-latest-small/movies.csv</pre>"
      ],
      "text/plain": [
       "Finished parsing file /Users/JackNelson/Documents/SMU/MSDS7331/Project3/Github/ml-latest-small/movies.csv"
      ]
     },
     "metadata": {},
     "output_type": "display_data"
    },
    {
     "data": {
      "text/html": [
       "<pre>Parsing completed. Parsed 9125 lines in 0.023696 secs.</pre>"
      ],
      "text/plain": [
       "Parsing completed. Parsed 9125 lines in 0.023696 secs."
      ]
     },
     "metadata": {},
     "output_type": "display_data"
    },
    {
     "data": {
      "text/html": [
       "<div style=\"max-height:1000px;max-width:1500px;overflow:auto;\"><table frame=\"box\" rules=\"cols\">\n",
       "    <tr>\n",
       "        <th style=\"padding-left: 1em; padding-right: 1em; text-align: center\">movieId</th>\n",
       "        <th style=\"padding-left: 1em; padding-right: 1em; text-align: center\">title</th>\n",
       "        <th style=\"padding-left: 1em; padding-right: 1em; text-align: center\">genres</th>\n",
       "    </tr>\n",
       "    <tr>\n",
       "        <td style=\"padding-left: 1em; padding-right: 1em; text-align: center; vertical-align: top\">1</td>\n",
       "        <td style=\"padding-left: 1em; padding-right: 1em; text-align: center; vertical-align: top\">Toy Story (1995)</td>\n",
       "        <td style=\"padding-left: 1em; padding-right: 1em; text-align: center; vertical-align: top\">Adventure|Animation|Child<br>ren|Comedy|Fantasy ...</td>\n",
       "    </tr>\n",
       "    <tr>\n",
       "        <td style=\"padding-left: 1em; padding-right: 1em; text-align: center; vertical-align: top\">2</td>\n",
       "        <td style=\"padding-left: 1em; padding-right: 1em; text-align: center; vertical-align: top\">Jumanji (1995)</td>\n",
       "        <td style=\"padding-left: 1em; padding-right: 1em; text-align: center; vertical-align: top\">Adventure|Children|Fantas<br>y ...</td>\n",
       "    </tr>\n",
       "    <tr>\n",
       "        <td style=\"padding-left: 1em; padding-right: 1em; text-align: center; vertical-align: top\">3</td>\n",
       "        <td style=\"padding-left: 1em; padding-right: 1em; text-align: center; vertical-align: top\">Grumpier Old Men (1995)</td>\n",
       "        <td style=\"padding-left: 1em; padding-right: 1em; text-align: center; vertical-align: top\">Comedy|Romance</td>\n",
       "    </tr>\n",
       "    <tr>\n",
       "        <td style=\"padding-left: 1em; padding-right: 1em; text-align: center; vertical-align: top\">4</td>\n",
       "        <td style=\"padding-left: 1em; padding-right: 1em; text-align: center; vertical-align: top\">Waiting to Exhale (1995)</td>\n",
       "        <td style=\"padding-left: 1em; padding-right: 1em; text-align: center; vertical-align: top\">Comedy|Drama|Romance</td>\n",
       "    </tr>\n",
       "    <tr>\n",
       "        <td style=\"padding-left: 1em; padding-right: 1em; text-align: center; vertical-align: top\">5</td>\n",
       "        <td style=\"padding-left: 1em; padding-right: 1em; text-align: center; vertical-align: top\">Father of the Bride Part<br>II (1995) ...</td>\n",
       "        <td style=\"padding-left: 1em; padding-right: 1em; text-align: center; vertical-align: top\">Comedy</td>\n",
       "    </tr>\n",
       "    <tr>\n",
       "        <td style=\"padding-left: 1em; padding-right: 1em; text-align: center; vertical-align: top\">6</td>\n",
       "        <td style=\"padding-left: 1em; padding-right: 1em; text-align: center; vertical-align: top\">Heat (1995)</td>\n",
       "        <td style=\"padding-left: 1em; padding-right: 1em; text-align: center; vertical-align: top\">Action|Crime|Thriller</td>\n",
       "    </tr>\n",
       "    <tr>\n",
       "        <td style=\"padding-left: 1em; padding-right: 1em; text-align: center; vertical-align: top\">7</td>\n",
       "        <td style=\"padding-left: 1em; padding-right: 1em; text-align: center; vertical-align: top\">Sabrina (1995)</td>\n",
       "        <td style=\"padding-left: 1em; padding-right: 1em; text-align: center; vertical-align: top\">Comedy|Romance</td>\n",
       "    </tr>\n",
       "    <tr>\n",
       "        <td style=\"padding-left: 1em; padding-right: 1em; text-align: center; vertical-align: top\">8</td>\n",
       "        <td style=\"padding-left: 1em; padding-right: 1em; text-align: center; vertical-align: top\">Tom and Huck (1995)</td>\n",
       "        <td style=\"padding-left: 1em; padding-right: 1em; text-align: center; vertical-align: top\">Adventure|Children</td>\n",
       "    </tr>\n",
       "    <tr>\n",
       "        <td style=\"padding-left: 1em; padding-right: 1em; text-align: center; vertical-align: top\">9</td>\n",
       "        <td style=\"padding-left: 1em; padding-right: 1em; text-align: center; vertical-align: top\">Sudden Death (1995)</td>\n",
       "        <td style=\"padding-left: 1em; padding-right: 1em; text-align: center; vertical-align: top\">Action</td>\n",
       "    </tr>\n",
       "    <tr>\n",
       "        <td style=\"padding-left: 1em; padding-right: 1em; text-align: center; vertical-align: top\">10</td>\n",
       "        <td style=\"padding-left: 1em; padding-right: 1em; text-align: center; vertical-align: top\">GoldenEye (1995)</td>\n",
       "        <td style=\"padding-left: 1em; padding-right: 1em; text-align: center; vertical-align: top\">Action|Adventure|Thriller</td>\n",
       "    </tr>\n",
       "</table>\n",
       "[9125 rows x 3 columns]<br/>Note: Only the head of the SFrame is printed.<br/>You can use print_rows(num_rows=m, num_columns=n) to print more rows and columns.\n",
       "</div>"
      ],
      "text/plain": [
       "Columns:\n",
       "\tmovieId\tstr\n",
       "\ttitle\tstr\n",
       "\tgenres\tstr\n",
       "\n",
       "Rows: 9125\n",
       "\n",
       "Data:\n",
       "+---------+-------------------------------+-------------------------------+\n",
       "| movieId |             title             |             genres            |\n",
       "+---------+-------------------------------+-------------------------------+\n",
       "|    1    |        Toy Story (1995)       | Adventure|Animation|Childr... |\n",
       "|    2    |         Jumanji (1995)        |   Adventure|Children|Fantasy  |\n",
       "|    3    |    Grumpier Old Men (1995)    |         Comedy|Romance        |\n",
       "|    4    |    Waiting to Exhale (1995)   |      Comedy|Drama|Romance     |\n",
       "|    5    | Father of the Bride Part I... |             Comedy            |\n",
       "|    6    |          Heat (1995)          |     Action|Crime|Thriller     |\n",
       "|    7    |         Sabrina (1995)        |         Comedy|Romance        |\n",
       "|    8    |      Tom and Huck (1995)      |       Adventure|Children      |\n",
       "|    9    |      Sudden Death (1995)      |             Action            |\n",
       "|    10   |        GoldenEye (1995)       |   Action|Adventure|Thriller   |\n",
       "+---------+-------------------------------+-------------------------------+\n",
       "[9125 rows x 3 columns]\n",
       "Note: Only the head of the SFrame is printed.\n",
       "You can use print_rows(num_rows=m, num_columns=n) to print more rows and columns."
      ]
     },
     "execution_count": 3,
     "metadata": {},
     "output_type": "execute_result"
    }
   ],
   "source": [
    "movies_sf = gl.SFrame.read_csv('ml-latest-small/movies.csv', column_type_hints={'movieId':str})\n",
    "movies_sf"
   ]
  },
  {
   "cell_type": "code",
   "execution_count": 4,
   "metadata": {
    "scrolled": false
   },
   "outputs": [
    {
     "name": "stdout",
     "output_type": "stream",
     "text": [
      "Canvas is accessible via web browser at the URL: http://localhost:62570/index.html\n",
      "Opening Canvas in default web browser.\n"
     ]
    }
   ],
   "source": [
    "movies_sf.show()"
   ]
  },
  {
   "cell_type": "markdown",
   "metadata": {},
   "source": [
    "![title](screenshots/movies_sf.png)  \n",
    "*Screenshot from GraphLab Canvas window*"
   ]
  },
  {
   "cell_type": "markdown",
   "metadata": {},
   "source": [
    "Note that the pipe-separated list for the **genres** attribute did not read in as a list, but a string.  This is because the csv file is not in a format for GraphLab to recognize a list (current format: 'genre1|genre2|genre3', desired format: '[genre1, genre2, genre3]').  Since no clean way to make this conversion was identified in GraphLab, we will utilize pandas and the split function.  A new csv file, 'movies2.csv', is saved for GraphLab to read in.  The original pipe-separated list is kept in the new csv file as there may be benefit to recommending movies with the exact same set of genres.     "
   ]
  },
  {
   "cell_type": "code",
   "execution_count": 5,
   "metadata": {
    "scrolled": true
   },
   "outputs": [],
   "source": [
    "temp = pd.read_csv('ml-latest-small/movies.csv')\n",
    "\n",
    "genre_list = [0]*len(temp['genres'])\n",
    "\n",
    "for i in range(len(temp['genres'])):\n",
    "    genre_list[i] = temp['genres'][i].split('|')\n",
    "    \n",
    "temp['genre_list'] = genre_list\n",
    "temp.to_csv('ml-latest-small/movies2.csv')"
   ]
  },
  {
   "cell_type": "markdown",
   "metadata": {},
   "source": [
    "The new csv file loaded over the existing GraphLab SFrame and viewed on the Canvas."
   ]
  },
  {
   "cell_type": "code",
   "execution_count": 6,
   "metadata": {
    "scrolled": false
   },
   "outputs": [
    {
     "data": {
      "text/html": [
       "<pre>Finished parsing file /Users/JackNelson/Documents/SMU/MSDS7331/Project3/Github/ml-latest-small/movies2.csv</pre>"
      ],
      "text/plain": [
       "Finished parsing file /Users/JackNelson/Documents/SMU/MSDS7331/Project3/Github/ml-latest-small/movies2.csv"
      ]
     },
     "metadata": {},
     "output_type": "display_data"
    },
    {
     "data": {
      "text/html": [
       "<pre>Parsing completed. Parsed 100 lines in 0.080423 secs.</pre>"
      ],
      "text/plain": [
       "Parsing completed. Parsed 100 lines in 0.080423 secs."
      ]
     },
     "metadata": {},
     "output_type": "display_data"
    },
    {
     "data": {
      "text/html": [
       "<pre>These column type hints were not used: X1</pre>"
      ],
      "text/plain": [
       "These column type hints were not used: X1"
      ]
     },
     "metadata": {},
     "output_type": "display_data"
    },
    {
     "data": {
      "text/html": [
       "<pre>Finished parsing file /Users/JackNelson/Documents/SMU/MSDS7331/Project3/Github/ml-latest-small/movies2.csv</pre>"
      ],
      "text/plain": [
       "Finished parsing file /Users/JackNelson/Documents/SMU/MSDS7331/Project3/Github/ml-latest-small/movies2.csv"
      ]
     },
     "metadata": {},
     "output_type": "display_data"
    },
    {
     "data": {
      "text/html": [
       "<pre>Parsing completed. Parsed 9125 lines in 0.053633 secs.</pre>"
      ],
      "text/plain": [
       "Parsing completed. Parsed 9125 lines in 0.053633 secs."
      ]
     },
     "metadata": {},
     "output_type": "display_data"
    },
    {
     "data": {
      "text/html": [
       "<div style=\"max-height:1000px;max-width:1500px;overflow:auto;\"><table frame=\"box\" rules=\"cols\">\n",
       "    <tr>\n",
       "        <th style=\"padding-left: 1em; padding-right: 1em; text-align: center\">movieId</th>\n",
       "        <th style=\"padding-left: 1em; padding-right: 1em; text-align: center\">title</th>\n",
       "        <th style=\"padding-left: 1em; padding-right: 1em; text-align: center\">genres</th>\n",
       "        <th style=\"padding-left: 1em; padding-right: 1em; text-align: center\">genre_list</th>\n",
       "    </tr>\n",
       "    <tr>\n",
       "        <td style=\"padding-left: 1em; padding-right: 1em; text-align: center; vertical-align: top\">1</td>\n",
       "        <td style=\"padding-left: 1em; padding-right: 1em; text-align: center; vertical-align: top\">Toy Story (1995)</td>\n",
       "        <td style=\"padding-left: 1em; padding-right: 1em; text-align: center; vertical-align: top\">Adventure|Animation|Child<br>ren|Comedy|Fantasy ...</td>\n",
       "        <td style=\"padding-left: 1em; padding-right: 1em; text-align: center; vertical-align: top\">[Adventure, Animation,<br>Children, Comedy, ...</td>\n",
       "    </tr>\n",
       "    <tr>\n",
       "        <td style=\"padding-left: 1em; padding-right: 1em; text-align: center; vertical-align: top\">2</td>\n",
       "        <td style=\"padding-left: 1em; padding-right: 1em; text-align: center; vertical-align: top\">Jumanji (1995)</td>\n",
       "        <td style=\"padding-left: 1em; padding-right: 1em; text-align: center; vertical-align: top\">Adventure|Children|Fantas<br>y ...</td>\n",
       "        <td style=\"padding-left: 1em; padding-right: 1em; text-align: center; vertical-align: top\">[Adventure, Children,<br>Fantasy] ...</td>\n",
       "    </tr>\n",
       "    <tr>\n",
       "        <td style=\"padding-left: 1em; padding-right: 1em; text-align: center; vertical-align: top\">3</td>\n",
       "        <td style=\"padding-left: 1em; padding-right: 1em; text-align: center; vertical-align: top\">Grumpier Old Men (1995)</td>\n",
       "        <td style=\"padding-left: 1em; padding-right: 1em; text-align: center; vertical-align: top\">Comedy|Romance</td>\n",
       "        <td style=\"padding-left: 1em; padding-right: 1em; text-align: center; vertical-align: top\">[Comedy, Romance]</td>\n",
       "    </tr>\n",
       "    <tr>\n",
       "        <td style=\"padding-left: 1em; padding-right: 1em; text-align: center; vertical-align: top\">4</td>\n",
       "        <td style=\"padding-left: 1em; padding-right: 1em; text-align: center; vertical-align: top\">Waiting to Exhale (1995)</td>\n",
       "        <td style=\"padding-left: 1em; padding-right: 1em; text-align: center; vertical-align: top\">Comedy|Drama|Romance</td>\n",
       "        <td style=\"padding-left: 1em; padding-right: 1em; text-align: center; vertical-align: top\">[Comedy, Drama, Romance]</td>\n",
       "    </tr>\n",
       "    <tr>\n",
       "        <td style=\"padding-left: 1em; padding-right: 1em; text-align: center; vertical-align: top\">5</td>\n",
       "        <td style=\"padding-left: 1em; padding-right: 1em; text-align: center; vertical-align: top\">Father of the Bride Part<br>II (1995) ...</td>\n",
       "        <td style=\"padding-left: 1em; padding-right: 1em; text-align: center; vertical-align: top\">Comedy</td>\n",
       "        <td style=\"padding-left: 1em; padding-right: 1em; text-align: center; vertical-align: top\">[Comedy]</td>\n",
       "    </tr>\n",
       "    <tr>\n",
       "        <td style=\"padding-left: 1em; padding-right: 1em; text-align: center; vertical-align: top\">6</td>\n",
       "        <td style=\"padding-left: 1em; padding-right: 1em; text-align: center; vertical-align: top\">Heat (1995)</td>\n",
       "        <td style=\"padding-left: 1em; padding-right: 1em; text-align: center; vertical-align: top\">Action|Crime|Thriller</td>\n",
       "        <td style=\"padding-left: 1em; padding-right: 1em; text-align: center; vertical-align: top\">[Action, Crime, Thriller]</td>\n",
       "    </tr>\n",
       "    <tr>\n",
       "        <td style=\"padding-left: 1em; padding-right: 1em; text-align: center; vertical-align: top\">7</td>\n",
       "        <td style=\"padding-left: 1em; padding-right: 1em; text-align: center; vertical-align: top\">Sabrina (1995)</td>\n",
       "        <td style=\"padding-left: 1em; padding-right: 1em; text-align: center; vertical-align: top\">Comedy|Romance</td>\n",
       "        <td style=\"padding-left: 1em; padding-right: 1em; text-align: center; vertical-align: top\">[Comedy, Romance]</td>\n",
       "    </tr>\n",
       "    <tr>\n",
       "        <td style=\"padding-left: 1em; padding-right: 1em; text-align: center; vertical-align: top\">8</td>\n",
       "        <td style=\"padding-left: 1em; padding-right: 1em; text-align: center; vertical-align: top\">Tom and Huck (1995)</td>\n",
       "        <td style=\"padding-left: 1em; padding-right: 1em; text-align: center; vertical-align: top\">Adventure|Children</td>\n",
       "        <td style=\"padding-left: 1em; padding-right: 1em; text-align: center; vertical-align: top\">[Adventure, Children]</td>\n",
       "    </tr>\n",
       "    <tr>\n",
       "        <td style=\"padding-left: 1em; padding-right: 1em; text-align: center; vertical-align: top\">9</td>\n",
       "        <td style=\"padding-left: 1em; padding-right: 1em; text-align: center; vertical-align: top\">Sudden Death (1995)</td>\n",
       "        <td style=\"padding-left: 1em; padding-right: 1em; text-align: center; vertical-align: top\">Action</td>\n",
       "        <td style=\"padding-left: 1em; padding-right: 1em; text-align: center; vertical-align: top\">[Action]</td>\n",
       "    </tr>\n",
       "    <tr>\n",
       "        <td style=\"padding-left: 1em; padding-right: 1em; text-align: center; vertical-align: top\">10</td>\n",
       "        <td style=\"padding-left: 1em; padding-right: 1em; text-align: center; vertical-align: top\">GoldenEye (1995)</td>\n",
       "        <td style=\"padding-left: 1em; padding-right: 1em; text-align: center; vertical-align: top\">Action|Adventure|Thriller</td>\n",
       "        <td style=\"padding-left: 1em; padding-right: 1em; text-align: center; vertical-align: top\">[Action, Adventure,<br>Thriller] ...</td>\n",
       "    </tr>\n",
       "</table>\n",
       "[9125 rows x 4 columns]<br/>Note: Only the head of the SFrame is printed.<br/>You can use print_rows(num_rows=m, num_columns=n) to print more rows and columns.\n",
       "</div>"
      ],
      "text/plain": [
       "Columns:\n",
       "\tmovieId\tstr\n",
       "\ttitle\tstr\n",
       "\tgenres\tstr\n",
       "\tgenre_list\tlist\n",
       "\n",
       "Rows: 9125\n",
       "\n",
       "Data:\n",
       "+---------+-------------------------------+-------------------------------+\n",
       "| movieId |             title             |             genres            |\n",
       "+---------+-------------------------------+-------------------------------+\n",
       "|    1    |        Toy Story (1995)       | Adventure|Animation|Childr... |\n",
       "|    2    |         Jumanji (1995)        |   Adventure|Children|Fantasy  |\n",
       "|    3    |    Grumpier Old Men (1995)    |         Comedy|Romance        |\n",
       "|    4    |    Waiting to Exhale (1995)   |      Comedy|Drama|Romance     |\n",
       "|    5    | Father of the Bride Part I... |             Comedy            |\n",
       "|    6    |          Heat (1995)          |     Action|Crime|Thriller     |\n",
       "|    7    |         Sabrina (1995)        |         Comedy|Romance        |\n",
       "|    8    |      Tom and Huck (1995)      |       Adventure|Children      |\n",
       "|    9    |      Sudden Death (1995)      |             Action            |\n",
       "|    10   |        GoldenEye (1995)       |   Action|Adventure|Thriller   |\n",
       "+---------+-------------------------------+-------------------------------+\n",
       "+--------------------------------+\n",
       "|           genre_list           |\n",
       "+--------------------------------+\n",
       "| [Adventure, Animation, Chi...  |\n",
       "| [Adventure, Children, Fantasy] |\n",
       "|       [Comedy, Romance]        |\n",
       "|    [Comedy, Drama, Romance]    |\n",
       "|            [Comedy]            |\n",
       "|   [Action, Crime, Thriller]    |\n",
       "|       [Comedy, Romance]        |\n",
       "|     [Adventure, Children]      |\n",
       "|            [Action]            |\n",
       "| [Action, Adventure, Thriller]  |\n",
       "+--------------------------------+\n",
       "[9125 rows x 4 columns]\n",
       "Note: Only the head of the SFrame is printed.\n",
       "You can use print_rows(num_rows=m, num_columns=n) to print more rows and columns."
      ]
     },
     "execution_count": 6,
     "metadata": {},
     "output_type": "execute_result"
    }
   ],
   "source": [
    "movies_sf = gl.SFrame.read_csv('ml-latest-small/movies2.csv', column_type_hints={'movieId':str}).remove_column('X1')\n",
    "movies_sf"
   ]
  },
  {
   "cell_type": "code",
   "execution_count": 7,
   "metadata": {},
   "outputs": [
    {
     "name": "stdout",
     "output_type": "stream",
     "text": [
      "Canvas is updated and available in a tab in the default browser.\n"
     ]
    }
   ],
   "source": [
    "movies_sf.show()"
   ]
  },
  {
   "cell_type": "markdown",
   "metadata": {},
   "source": [
    "![title](screenshots/movies_sf_genrelist.png)  \n",
    "*Screenshot from GraphLab Canvas window*"
   ]
  },
  {
   "cell_type": "markdown",
   "metadata": {},
   "source": [
    "Now that the movie genres are properly classified as a list, we check to make sure there are no duplicates in the movieId field.  Each line should represent an independent movie to ensure no unecessary duplicates will be created when we join it with other SFrames.  We will investigate using a user-defined function GetDuplicates for simplicity."
   ]
  },
  {
   "cell_type": "code",
   "execution_count": 8,
   "metadata": {},
   "outputs": [],
   "source": [
    "def GetDuplicates(sf,name):\n",
    "    dup = sf.groupby([name], gl.aggregate.COUNT(name))\n",
    "    return(dup[dup['Count'] > 1])"
   ]
  },
  {
   "cell_type": "code",
   "execution_count": 9,
   "metadata": {
    "scrolled": true
   },
   "outputs": [
    {
     "data": {
      "text/html": [
       "<div style=\"max-height:1000px;max-width:1500px;overflow:auto;\"><table frame=\"box\" rules=\"cols\">\n",
       "    <tr>\n",
       "        <th style=\"padding-left: 1em; padding-right: 1em; text-align: center\">movieId</th>\n",
       "        <th style=\"padding-left: 1em; padding-right: 1em; text-align: center\">Count</th>\n",
       "    </tr>\n",
       "</table>\n",
       "[? rows x 2 columns]<br/>Note: Only the head of the SFrame is printed. This SFrame is lazily evaluated.<br/>You can use sf.materialize() to force materialization.\n",
       "</div>"
      ],
      "text/plain": [
       "Columns:\n",
       "\tmovieId\tstr\n",
       "\tCount\tint\n",
       "\n",
       "Rows: Unknown\n",
       "\n",
       "Data:\n",
       "\t[]"
      ]
     },
     "execution_count": 9,
     "metadata": {},
     "output_type": "execute_result"
    }
   ],
   "source": [
    "GetDuplicates(movies_sf,'movieId')"
   ]
  },
  {
   "cell_type": "markdown",
   "metadata": {},
   "source": [
    "We can see there are no duplicate movieId values from the output.  Consequently, we will check to see if there are any duplicate movie titles for the same reason."
   ]
  },
  {
   "cell_type": "code",
   "execution_count": 10,
   "metadata": {
    "scrolled": false
   },
   "outputs": [
    {
     "data": {
      "text/html": [
       "<div style=\"max-height:1000px;max-width:1500px;overflow:auto;\"><table frame=\"box\" rules=\"cols\">\n",
       "    <tr>\n",
       "        <th style=\"padding-left: 1em; padding-right: 1em; text-align: center\">title</th>\n",
       "        <th style=\"padding-left: 1em; padding-right: 1em; text-align: center\">Count</th>\n",
       "    </tr>\n",
       "    <tr>\n",
       "        <td style=\"padding-left: 1em; padding-right: 1em; text-align: center; vertical-align: top\">Hamlet (2000)</td>\n",
       "        <td style=\"padding-left: 1em; padding-right: 1em; text-align: center; vertical-align: top\">2</td>\n",
       "    </tr>\n",
       "    <tr>\n",
       "        <td style=\"padding-left: 1em; padding-right: 1em; text-align: center; vertical-align: top\">War of the Worlds (2005)</td>\n",
       "        <td style=\"padding-left: 1em; padding-right: 1em; text-align: center; vertical-align: top\">2</td>\n",
       "    </tr>\n",
       "</table>\n",
       "[? rows x 2 columns]<br/>Note: Only the head of the SFrame is printed. This SFrame is lazily evaluated.<br/>You can use sf.materialize() to force materialization.\n",
       "</div>"
      ],
      "text/plain": [
       "Columns:\n",
       "\ttitle\tstr\n",
       "\tCount\tint\n",
       "\n",
       "Rows: Unknown\n",
       "\n",
       "Data:\n",
       "+--------------------------+-------+\n",
       "|          title           | Count |\n",
       "+--------------------------+-------+\n",
       "|      Hamlet (2000)       |   2   |\n",
       "| War of the Worlds (2005) |   2   |\n",
       "+--------------------------+-------+\n",
       "[? rows x 2 columns]\n",
       "Note: Only the head of the SFrame is printed. This SFrame is lazily evaluated.\n",
       "You can use sf.materialize() to force materialization."
      ]
     },
     "execution_count": 10,
     "metadata": {},
     "output_type": "execute_result"
    }
   ],
   "source": [
    "GetDuplicates(movies_sf,'title')"
   ]
  },
  {
   "cell_type": "markdown",
   "metadata": {},
   "source": [
    "We find that there are two duplicate movie titles.  This isn't uncommon if a relatively older movie was remade recently.  However, this is unlikely the case since the movie title field contains the year the movie was released.  Therefore, duplicates with the same title and year release will be assumed to be the same movie.  This SFrame as well as other subsequent SFrames with a movieId field will need to be recoded for one of the two movieId.  We will look at the genres for each movie to see which movieId to use. "
   ]
  },
  {
   "cell_type": "code",
   "execution_count": 11,
   "metadata": {
    "scrolled": true
   },
   "outputs": [
    {
     "data": {
      "text/html": [
       "<div style=\"max-height:1000px;max-width:1500px;overflow:auto;\"><table frame=\"box\" rules=\"cols\">\n",
       "    <tr>\n",
       "        <th style=\"padding-left: 1em; padding-right: 1em; text-align: center\">movieId</th>\n",
       "        <th style=\"padding-left: 1em; padding-right: 1em; text-align: center\">title</th>\n",
       "        <th style=\"padding-left: 1em; padding-right: 1em; text-align: center\">genres</th>\n",
       "        <th style=\"padding-left: 1em; padding-right: 1em; text-align: center\">genre_list</th>\n",
       "    </tr>\n",
       "    <tr>\n",
       "        <td style=\"padding-left: 1em; padding-right: 1em; text-align: center; vertical-align: top\">3598</td>\n",
       "        <td style=\"padding-left: 1em; padding-right: 1em; text-align: center; vertical-align: top\">Hamlet (2000)</td>\n",
       "        <td style=\"padding-left: 1em; padding-right: 1em; text-align: center; vertical-align: top\">Crime|Drama|Romance|Thril<br>ler ...</td>\n",
       "        <td style=\"padding-left: 1em; padding-right: 1em; text-align: center; vertical-align: top\">[Crime, Drama, Romance,<br>Thriller] ...</td>\n",
       "    </tr>\n",
       "    <tr>\n",
       "        <td style=\"padding-left: 1em; padding-right: 1em; text-align: center; vertical-align: top\">34048</td>\n",
       "        <td style=\"padding-left: 1em; padding-right: 1em; text-align: center; vertical-align: top\">War of the Worlds (2005)</td>\n",
       "        <td style=\"padding-left: 1em; padding-right: 1em; text-align: center; vertical-align: top\">Action|Adventure|Sci-<br>Fi|Thriller ...</td>\n",
       "        <td style=\"padding-left: 1em; padding-right: 1em; text-align: center; vertical-align: top\">[Action, Adventure, Sci-<br>Fi, Thriller] ...</td>\n",
       "    </tr>\n",
       "    <tr>\n",
       "        <td style=\"padding-left: 1em; padding-right: 1em; text-align: center; vertical-align: top\">64997</td>\n",
       "        <td style=\"padding-left: 1em; padding-right: 1em; text-align: center; vertical-align: top\">War of the Worlds (2005)</td>\n",
       "        <td style=\"padding-left: 1em; padding-right: 1em; text-align: center; vertical-align: top\">Action|Sci-Fi</td>\n",
       "        <td style=\"padding-left: 1em; padding-right: 1em; text-align: center; vertical-align: top\">[Action, Sci-Fi]</td>\n",
       "    </tr>\n",
       "    <tr>\n",
       "        <td style=\"padding-left: 1em; padding-right: 1em; text-align: center; vertical-align: top\">65665</td>\n",
       "        <td style=\"padding-left: 1em; padding-right: 1em; text-align: center; vertical-align: top\">Hamlet (2000)</td>\n",
       "        <td style=\"padding-left: 1em; padding-right: 1em; text-align: center; vertical-align: top\">Drama</td>\n",
       "        <td style=\"padding-left: 1em; padding-right: 1em; text-align: center; vertical-align: top\">[Drama]</td>\n",
       "    </tr>\n",
       "</table>\n",
       "[4 rows x 4 columns]<br/>\n",
       "</div>"
      ],
      "text/plain": [
       "Columns:\n",
       "\tmovieId\tstr\n",
       "\ttitle\tstr\n",
       "\tgenres\tstr\n",
       "\tgenre_list\tlist\n",
       "\n",
       "Rows: 4\n",
       "\n",
       "Data:\n",
       "+---------+--------------------------+-------------------------------+\n",
       "| movieId |          title           |             genres            |\n",
       "+---------+--------------------------+-------------------------------+\n",
       "|   3598  |      Hamlet (2000)       |  Crime|Drama|Romance|Thriller |\n",
       "|  34048  | War of the Worlds (2005) | Action|Adventure|Sci-Fi|Th... |\n",
       "|  64997  | War of the Worlds (2005) |         Action|Sci-Fi         |\n",
       "|  65665  |      Hamlet (2000)       |             Drama             |\n",
       "+---------+--------------------------+-------------------------------+\n",
       "+-------------------------------+\n",
       "|           genre_list          |\n",
       "+-------------------------------+\n",
       "| [Crime, Drama, Romance, Th... |\n",
       "| [Action, Adventure, Sci-Fi... |\n",
       "|        [Action, Sci-Fi]       |\n",
       "|            [Drama]            |\n",
       "+-------------------------------+\n",
       "[4 rows x 4 columns]"
      ]
     },
     "execution_count": 11,
     "metadata": {},
     "output_type": "execute_result"
    }
   ],
   "source": [
    "dup_titles = ['Hamlet (2000)', 'War of the Worlds (2005)']\n",
    "movies_sf.filter_by(dup_titles, 'title')"
   ]
  },
  {
   "cell_type": "markdown",
   "metadata": {},
   "source": [
    "movieId 3598 for 'Hamlet (2000)' and 34048 for 'War of the Worlds (2005)' contain more genres than their counterparts, so we will use those as they may provide more information.  In total, there will be 9,123 movies in this dataset after cleaning."
   ]
  },
  {
   "cell_type": "code",
   "execution_count": 12,
   "metadata": {},
   "outputs": [
    {
     "data": {
      "text/html": [
       "<div style=\"max-height:1000px;max-width:1500px;overflow:auto;\"><table frame=\"box\" rules=\"cols\">\n",
       "    <tr>\n",
       "        <th style=\"padding-left: 1em; padding-right: 1em; text-align: center\">movieId</th>\n",
       "        <th style=\"padding-left: 1em; padding-right: 1em; text-align: center\">title</th>\n",
       "        <th style=\"padding-left: 1em; padding-right: 1em; text-align: center\">genres</th>\n",
       "        <th style=\"padding-left: 1em; padding-right: 1em; text-align: center\">genre_list</th>\n",
       "    </tr>\n",
       "    <tr>\n",
       "        <td style=\"padding-left: 1em; padding-right: 1em; text-align: center; vertical-align: top\">1</td>\n",
       "        <td style=\"padding-left: 1em; padding-right: 1em; text-align: center; vertical-align: top\">Toy Story (1995)</td>\n",
       "        <td style=\"padding-left: 1em; padding-right: 1em; text-align: center; vertical-align: top\">Adventure|Animation|Child<br>ren|Comedy|Fantasy ...</td>\n",
       "        <td style=\"padding-left: 1em; padding-right: 1em; text-align: center; vertical-align: top\">[Adventure, Animation,<br>Children, Comedy, ...</td>\n",
       "    </tr>\n",
       "    <tr>\n",
       "        <td style=\"padding-left: 1em; padding-right: 1em; text-align: center; vertical-align: top\">2</td>\n",
       "        <td style=\"padding-left: 1em; padding-right: 1em; text-align: center; vertical-align: top\">Jumanji (1995)</td>\n",
       "        <td style=\"padding-left: 1em; padding-right: 1em; text-align: center; vertical-align: top\">Adventure|Children|Fantas<br>y ...</td>\n",
       "        <td style=\"padding-left: 1em; padding-right: 1em; text-align: center; vertical-align: top\">[Adventure, Children,<br>Fantasy] ...</td>\n",
       "    </tr>\n",
       "    <tr>\n",
       "        <td style=\"padding-left: 1em; padding-right: 1em; text-align: center; vertical-align: top\">3</td>\n",
       "        <td style=\"padding-left: 1em; padding-right: 1em; text-align: center; vertical-align: top\">Grumpier Old Men (1995)</td>\n",
       "        <td style=\"padding-left: 1em; padding-right: 1em; text-align: center; vertical-align: top\">Comedy|Romance</td>\n",
       "        <td style=\"padding-left: 1em; padding-right: 1em; text-align: center; vertical-align: top\">[Comedy, Romance]</td>\n",
       "    </tr>\n",
       "    <tr>\n",
       "        <td style=\"padding-left: 1em; padding-right: 1em; text-align: center; vertical-align: top\">4</td>\n",
       "        <td style=\"padding-left: 1em; padding-right: 1em; text-align: center; vertical-align: top\">Waiting to Exhale (1995)</td>\n",
       "        <td style=\"padding-left: 1em; padding-right: 1em; text-align: center; vertical-align: top\">Comedy|Drama|Romance</td>\n",
       "        <td style=\"padding-left: 1em; padding-right: 1em; text-align: center; vertical-align: top\">[Comedy, Drama, Romance]</td>\n",
       "    </tr>\n",
       "    <tr>\n",
       "        <td style=\"padding-left: 1em; padding-right: 1em; text-align: center; vertical-align: top\">5</td>\n",
       "        <td style=\"padding-left: 1em; padding-right: 1em; text-align: center; vertical-align: top\">Father of the Bride Part<br>II (1995) ...</td>\n",
       "        <td style=\"padding-left: 1em; padding-right: 1em; text-align: center; vertical-align: top\">Comedy</td>\n",
       "        <td style=\"padding-left: 1em; padding-right: 1em; text-align: center; vertical-align: top\">[Comedy]</td>\n",
       "    </tr>\n",
       "    <tr>\n",
       "        <td style=\"padding-left: 1em; padding-right: 1em; text-align: center; vertical-align: top\">6</td>\n",
       "        <td style=\"padding-left: 1em; padding-right: 1em; text-align: center; vertical-align: top\">Heat (1995)</td>\n",
       "        <td style=\"padding-left: 1em; padding-right: 1em; text-align: center; vertical-align: top\">Action|Crime|Thriller</td>\n",
       "        <td style=\"padding-left: 1em; padding-right: 1em; text-align: center; vertical-align: top\">[Action, Crime, Thriller]</td>\n",
       "    </tr>\n",
       "    <tr>\n",
       "        <td style=\"padding-left: 1em; padding-right: 1em; text-align: center; vertical-align: top\">7</td>\n",
       "        <td style=\"padding-left: 1em; padding-right: 1em; text-align: center; vertical-align: top\">Sabrina (1995)</td>\n",
       "        <td style=\"padding-left: 1em; padding-right: 1em; text-align: center; vertical-align: top\">Comedy|Romance</td>\n",
       "        <td style=\"padding-left: 1em; padding-right: 1em; text-align: center; vertical-align: top\">[Comedy, Romance]</td>\n",
       "    </tr>\n",
       "    <tr>\n",
       "        <td style=\"padding-left: 1em; padding-right: 1em; text-align: center; vertical-align: top\">8</td>\n",
       "        <td style=\"padding-left: 1em; padding-right: 1em; text-align: center; vertical-align: top\">Tom and Huck (1995)</td>\n",
       "        <td style=\"padding-left: 1em; padding-right: 1em; text-align: center; vertical-align: top\">Adventure|Children</td>\n",
       "        <td style=\"padding-left: 1em; padding-right: 1em; text-align: center; vertical-align: top\">[Adventure, Children]</td>\n",
       "    </tr>\n",
       "    <tr>\n",
       "        <td style=\"padding-left: 1em; padding-right: 1em; text-align: center; vertical-align: top\">9</td>\n",
       "        <td style=\"padding-left: 1em; padding-right: 1em; text-align: center; vertical-align: top\">Sudden Death (1995)</td>\n",
       "        <td style=\"padding-left: 1em; padding-right: 1em; text-align: center; vertical-align: top\">Action</td>\n",
       "        <td style=\"padding-left: 1em; padding-right: 1em; text-align: center; vertical-align: top\">[Action]</td>\n",
       "    </tr>\n",
       "    <tr>\n",
       "        <td style=\"padding-left: 1em; padding-right: 1em; text-align: center; vertical-align: top\">10</td>\n",
       "        <td style=\"padding-left: 1em; padding-right: 1em; text-align: center; vertical-align: top\">GoldenEye (1995)</td>\n",
       "        <td style=\"padding-left: 1em; padding-right: 1em; text-align: center; vertical-align: top\">Action|Adventure|Thriller</td>\n",
       "        <td style=\"padding-left: 1em; padding-right: 1em; text-align: center; vertical-align: top\">[Action, Adventure,<br>Thriller] ...</td>\n",
       "    </tr>\n",
       "</table>\n",
       "[? rows x 4 columns]<br/>Note: Only the head of the SFrame is printed. This SFrame is lazily evaluated.<br/>You can use sf.materialize() to force materialization.\n",
       "</div>"
      ],
      "text/plain": [
       "Columns:\n",
       "\tmovieId\tstr\n",
       "\ttitle\tstr\n",
       "\tgenres\tstr\n",
       "\tgenre_list\tlist\n",
       "\n",
       "Rows: Unknown\n",
       "\n",
       "Data:\n",
       "+---------+-------------------------------+-------------------------------+\n",
       "| movieId |             title             |             genres            |\n",
       "+---------+-------------------------------+-------------------------------+\n",
       "|    1    |        Toy Story (1995)       | Adventure|Animation|Childr... |\n",
       "|    2    |         Jumanji (1995)        |   Adventure|Children|Fantasy  |\n",
       "|    3    |    Grumpier Old Men (1995)    |         Comedy|Romance        |\n",
       "|    4    |    Waiting to Exhale (1995)   |      Comedy|Drama|Romance     |\n",
       "|    5    | Father of the Bride Part I... |             Comedy            |\n",
       "|    6    |          Heat (1995)          |     Action|Crime|Thriller     |\n",
       "|    7    |         Sabrina (1995)        |         Comedy|Romance        |\n",
       "|    8    |      Tom and Huck (1995)      |       Adventure|Children      |\n",
       "|    9    |      Sudden Death (1995)      |             Action            |\n",
       "|    10   |        GoldenEye (1995)       |   Action|Adventure|Thriller   |\n",
       "+---------+-------------------------------+-------------------------------+\n",
       "+--------------------------------+\n",
       "|           genre_list           |\n",
       "+--------------------------------+\n",
       "| [Adventure, Animation, Chi...  |\n",
       "| [Adventure, Children, Fantasy] |\n",
       "|       [Comedy, Romance]        |\n",
       "|    [Comedy, Drama, Romance]    |\n",
       "|            [Comedy]            |\n",
       "|   [Action, Crime, Thriller]    |\n",
       "|       [Comedy, Romance]        |\n",
       "|     [Adventure, Children]      |\n",
       "|            [Action]            |\n",
       "| [Action, Adventure, Thriller]  |\n",
       "+--------------------------------+\n",
       "[? rows x 4 columns]\n",
       "Note: Only the head of the SFrame is printed. This SFrame is lazily evaluated.\n",
       "You can use sf.materialize() to force materialization."
      ]
     },
     "execution_count": 12,
     "metadata": {},
     "output_type": "execute_result"
    }
   ],
   "source": [
    "dup_Ids = ['64997','65665']\n",
    "movies_sf = movies_sf.filter_by(dup_Ids, 'movieId', exclude=True)\n",
    "movies_sf"
   ]
  },
  {
   "cell_type": "code",
   "execution_count": 13,
   "metadata": {},
   "outputs": [
    {
     "name": "stdout",
     "output_type": "stream",
     "text": [
      "Canvas is updated and available in a tab in the default browser.\n"
     ]
    }
   ],
   "source": [
    "movies_sf.show()"
   ]
  },
  {
   "cell_type": "markdown",
   "metadata": {},
   "source": [
    "![title](screenshots/movies_sf_clean.png)  \n",
    "*Screenshot from GraphLab Canvas window*"
   ]
  },
  {
   "cell_type": "markdown",
   "metadata": {},
   "source": [
    "<h4><u><i>ratings.csv</i></u></h4>"
   ]
  },
  {
   "cell_type": "code",
   "execution_count": 14,
   "metadata": {
    "scrolled": false
   },
   "outputs": [
    {
     "data": {
      "text/html": [
       "<pre>Finished parsing file /Users/JackNelson/Documents/SMU/MSDS7331/Project3/Github/ml-latest-small/ratings.csv</pre>"
      ],
      "text/plain": [
       "Finished parsing file /Users/JackNelson/Documents/SMU/MSDS7331/Project3/Github/ml-latest-small/ratings.csv"
      ]
     },
     "metadata": {},
     "output_type": "display_data"
    },
    {
     "data": {
      "text/html": [
       "<pre>Parsing completed. Parsed 100 lines in 0.170468 secs.</pre>"
      ],
      "text/plain": [
       "Parsing completed. Parsed 100 lines in 0.170468 secs."
      ]
     },
     "metadata": {},
     "output_type": "display_data"
    },
    {
     "data": {
      "text/html": [
       "<pre>Finished parsing file /Users/JackNelson/Documents/SMU/MSDS7331/Project3/Github/ml-latest-small/ratings.csv</pre>"
      ],
      "text/plain": [
       "Finished parsing file /Users/JackNelson/Documents/SMU/MSDS7331/Project3/Github/ml-latest-small/ratings.csv"
      ]
     },
     "metadata": {},
     "output_type": "display_data"
    },
    {
     "data": {
      "text/html": [
       "<pre>Parsing completed. Parsed 100004 lines in 0.112618 secs.</pre>"
      ],
      "text/plain": [
       "Parsing completed. Parsed 100004 lines in 0.112618 secs."
      ]
     },
     "metadata": {},
     "output_type": "display_data"
    },
    {
     "data": {
      "text/html": [
       "<div style=\"max-height:1000px;max-width:1500px;overflow:auto;\"><table frame=\"box\" rules=\"cols\">\n",
       "    <tr>\n",
       "        <th style=\"padding-left: 1em; padding-right: 1em; text-align: center\">userId</th>\n",
       "        <th style=\"padding-left: 1em; padding-right: 1em; text-align: center\">movieId</th>\n",
       "        <th style=\"padding-left: 1em; padding-right: 1em; text-align: center\">rating</th>\n",
       "        <th style=\"padding-left: 1em; padding-right: 1em; text-align: center\">timestamp</th>\n",
       "    </tr>\n",
       "    <tr>\n",
       "        <td style=\"padding-left: 1em; padding-right: 1em; text-align: center; vertical-align: top\">1</td>\n",
       "        <td style=\"padding-left: 1em; padding-right: 1em; text-align: center; vertical-align: top\">31</td>\n",
       "        <td style=\"padding-left: 1em; padding-right: 1em; text-align: center; vertical-align: top\">2.5</td>\n",
       "        <td style=\"padding-left: 1em; padding-right: 1em; text-align: center; vertical-align: top\">2009-12-13 21:52:24</td>\n",
       "    </tr>\n",
       "    <tr>\n",
       "        <td style=\"padding-left: 1em; padding-right: 1em; text-align: center; vertical-align: top\">1</td>\n",
       "        <td style=\"padding-left: 1em; padding-right: 1em; text-align: center; vertical-align: top\">1029</td>\n",
       "        <td style=\"padding-left: 1em; padding-right: 1em; text-align: center; vertical-align: top\">3.0</td>\n",
       "        <td style=\"padding-left: 1em; padding-right: 1em; text-align: center; vertical-align: top\">2009-12-13 21:52:59</td>\n",
       "    </tr>\n",
       "    <tr>\n",
       "        <td style=\"padding-left: 1em; padding-right: 1em; text-align: center; vertical-align: top\">1</td>\n",
       "        <td style=\"padding-left: 1em; padding-right: 1em; text-align: center; vertical-align: top\">1061</td>\n",
       "        <td style=\"padding-left: 1em; padding-right: 1em; text-align: center; vertical-align: top\">3.0</td>\n",
       "        <td style=\"padding-left: 1em; padding-right: 1em; text-align: center; vertical-align: top\">2009-12-13 21:53:02</td>\n",
       "    </tr>\n",
       "    <tr>\n",
       "        <td style=\"padding-left: 1em; padding-right: 1em; text-align: center; vertical-align: top\">1</td>\n",
       "        <td style=\"padding-left: 1em; padding-right: 1em; text-align: center; vertical-align: top\">1129</td>\n",
       "        <td style=\"padding-left: 1em; padding-right: 1em; text-align: center; vertical-align: top\">2.0</td>\n",
       "        <td style=\"padding-left: 1em; padding-right: 1em; text-align: center; vertical-align: top\">2009-12-13 21:53:05</td>\n",
       "    </tr>\n",
       "    <tr>\n",
       "        <td style=\"padding-left: 1em; padding-right: 1em; text-align: center; vertical-align: top\">1</td>\n",
       "        <td style=\"padding-left: 1em; padding-right: 1em; text-align: center; vertical-align: top\">1172</td>\n",
       "        <td style=\"padding-left: 1em; padding-right: 1em; text-align: center; vertical-align: top\">4.0</td>\n",
       "        <td style=\"padding-left: 1em; padding-right: 1em; text-align: center; vertical-align: top\">2009-12-13 21:53:25</td>\n",
       "    </tr>\n",
       "    <tr>\n",
       "        <td style=\"padding-left: 1em; padding-right: 1em; text-align: center; vertical-align: top\">1</td>\n",
       "        <td style=\"padding-left: 1em; padding-right: 1em; text-align: center; vertical-align: top\">1263</td>\n",
       "        <td style=\"padding-left: 1em; padding-right: 1em; text-align: center; vertical-align: top\">2.0</td>\n",
       "        <td style=\"padding-left: 1em; padding-right: 1em; text-align: center; vertical-align: top\">2009-12-13 21:52:31</td>\n",
       "    </tr>\n",
       "    <tr>\n",
       "        <td style=\"padding-left: 1em; padding-right: 1em; text-align: center; vertical-align: top\">1</td>\n",
       "        <td style=\"padding-left: 1em; padding-right: 1em; text-align: center; vertical-align: top\">1287</td>\n",
       "        <td style=\"padding-left: 1em; padding-right: 1em; text-align: center; vertical-align: top\">2.0</td>\n",
       "        <td style=\"padding-left: 1em; padding-right: 1em; text-align: center; vertical-align: top\">2009-12-13 21:53:07</td>\n",
       "    </tr>\n",
       "    <tr>\n",
       "        <td style=\"padding-left: 1em; padding-right: 1em; text-align: center; vertical-align: top\">1</td>\n",
       "        <td style=\"padding-left: 1em; padding-right: 1em; text-align: center; vertical-align: top\">1293</td>\n",
       "        <td style=\"padding-left: 1em; padding-right: 1em; text-align: center; vertical-align: top\">2.0</td>\n",
       "        <td style=\"padding-left: 1em; padding-right: 1em; text-align: center; vertical-align: top\">2009-12-13 21:52:28</td>\n",
       "    </tr>\n",
       "    <tr>\n",
       "        <td style=\"padding-left: 1em; padding-right: 1em; text-align: center; vertical-align: top\">1</td>\n",
       "        <td style=\"padding-left: 1em; padding-right: 1em; text-align: center; vertical-align: top\">1339</td>\n",
       "        <td style=\"padding-left: 1em; padding-right: 1em; text-align: center; vertical-align: top\">3.5</td>\n",
       "        <td style=\"padding-left: 1em; padding-right: 1em; text-align: center; vertical-align: top\">2009-12-13 21:52:05</td>\n",
       "    </tr>\n",
       "    <tr>\n",
       "        <td style=\"padding-left: 1em; padding-right: 1em; text-align: center; vertical-align: top\">1</td>\n",
       "        <td style=\"padding-left: 1em; padding-right: 1em; text-align: center; vertical-align: top\">1343</td>\n",
       "        <td style=\"padding-left: 1em; padding-right: 1em; text-align: center; vertical-align: top\">2.0</td>\n",
       "        <td style=\"padding-left: 1em; padding-right: 1em; text-align: center; vertical-align: top\">2009-12-13 21:52:11</td>\n",
       "    </tr>\n",
       "</table>\n",
       "[100004 rows x 4 columns]<br/>Note: Only the head of the SFrame is printed.<br/>You can use print_rows(num_rows=m, num_columns=n) to print more rows and columns.\n",
       "</div>"
      ],
      "text/plain": [
       "Columns:\n",
       "\tuserId\tstr\n",
       "\tmovieId\tstr\n",
       "\trating\tfloat\n",
       "\ttimestamp\tdatetime\n",
       "\n",
       "Rows: 100004\n",
       "\n",
       "Data:\n",
       "+--------+---------+--------+---------------------+\n",
       "| userId | movieId | rating |      timestamp      |\n",
       "+--------+---------+--------+---------------------+\n",
       "|   1    |    31   |  2.5   | 2009-12-13 21:52:24 |\n",
       "|   1    |   1029  |  3.0   | 2009-12-13 21:52:59 |\n",
       "|   1    |   1061  |  3.0   | 2009-12-13 21:53:02 |\n",
       "|   1    |   1129  |  2.0   | 2009-12-13 21:53:05 |\n",
       "|   1    |   1172  |  4.0   | 2009-12-13 21:53:25 |\n",
       "|   1    |   1263  |  2.0   | 2009-12-13 21:52:31 |\n",
       "|   1    |   1287  |  2.0   | 2009-12-13 21:53:07 |\n",
       "|   1    |   1293  |  2.0   | 2009-12-13 21:52:28 |\n",
       "|   1    |   1339  |  3.5   | 2009-12-13 21:52:05 |\n",
       "|   1    |   1343  |  2.0   | 2009-12-13 21:52:11 |\n",
       "+--------+---------+--------+---------------------+\n",
       "[100004 rows x 4 columns]\n",
       "Note: Only the head of the SFrame is printed.\n",
       "You can use print_rows(num_rows=m, num_columns=n) to print more rows and columns."
      ]
     },
     "execution_count": 14,
     "metadata": {},
     "output_type": "execute_result"
    }
   ],
   "source": [
    "ratings_sf = gl.SFrame.read_csv('ml-latest-small/ratings.csv', column_type_hints={'movieId':str,'userId':str})\n",
    "\n",
    "#convert timestamp seconds value to a user-readable datetime format\n",
    "ratings_sf['timestamp'] = ratings_sf['timestamp'].apply(lambda x: dt.datetime.fromtimestamp(x))\n",
    "#movieId duplicate title fix\n",
    "ratings_sf['movieId'].apply(lambda x: '3598' if x == '65665' else x)\n",
    "ratings_sf['movieId'].apply(lambda x: '34048' if x == '64997' else x)\n",
    "\n",
    "ratings_sf"
   ]
  },
  {
   "cell_type": "code",
   "execution_count": 15,
   "metadata": {
    "scrolled": true
   },
   "outputs": [
    {
     "name": "stdout",
     "output_type": "stream",
     "text": [
      "Canvas is updated and available in a tab in the default browser.\n"
     ]
    }
   ],
   "source": [
    "ratings_sf.show()"
   ]
  },
  {
   "cell_type": "markdown",
   "metadata": {},
   "source": [
    "![title](screenshots/ratings_sf.png)  \n",
    "*Screenshot from GraphLab Canvas window*\n",
    "\n",
    "We see from the Canvas output that each data type was read in correctly and there are no missing/undefined values.  Also note that users can rate multiple movies and movies can be rated by multiple users so there is no need to check for duplicates."
   ]
  },
  {
   "cell_type": "markdown",
   "metadata": {},
   "source": [
    "<h4><u><i>tags.csv</i></u></h4>"
   ]
  },
  {
   "cell_type": "code",
   "execution_count": 16,
   "metadata": {},
   "outputs": [
    {
     "data": {
      "text/html": [
       "<pre>Finished parsing file /Users/JackNelson/Documents/SMU/MSDS7331/Project3/Github/ml-latest-small/tags.csv</pre>"
      ],
      "text/plain": [
       "Finished parsing file /Users/JackNelson/Documents/SMU/MSDS7331/Project3/Github/ml-latest-small/tags.csv"
      ]
     },
     "metadata": {},
     "output_type": "display_data"
    },
    {
     "data": {
      "text/html": [
       "<pre>Parsing completed. Parsed 100 lines in 0.087365 secs.</pre>"
      ],
      "text/plain": [
       "Parsing completed. Parsed 100 lines in 0.087365 secs."
      ]
     },
     "metadata": {},
     "output_type": "display_data"
    },
    {
     "data": {
      "text/html": [
       "<pre>Finished parsing file /Users/JackNelson/Documents/SMU/MSDS7331/Project3/Github/ml-latest-small/tags.csv</pre>"
      ],
      "text/plain": [
       "Finished parsing file /Users/JackNelson/Documents/SMU/MSDS7331/Project3/Github/ml-latest-small/tags.csv"
      ]
     },
     "metadata": {},
     "output_type": "display_data"
    },
    {
     "data": {
      "text/html": [
       "<pre>Parsing completed. Parsed 1296 lines in 0.012562 secs.</pre>"
      ],
      "text/plain": [
       "Parsing completed. Parsed 1296 lines in 0.012562 secs."
      ]
     },
     "metadata": {},
     "output_type": "display_data"
    },
    {
     "data": {
      "text/html": [
       "<div style=\"max-height:1000px;max-width:1500px;overflow:auto;\"><table frame=\"box\" rules=\"cols\">\n",
       "    <tr>\n",
       "        <th style=\"padding-left: 1em; padding-right: 1em; text-align: center\">userId</th>\n",
       "        <th style=\"padding-left: 1em; padding-right: 1em; text-align: center\">movieId</th>\n",
       "        <th style=\"padding-left: 1em; padding-right: 1em; text-align: center\">tag</th>\n",
       "        <th style=\"padding-left: 1em; padding-right: 1em; text-align: center\">timestamp</th>\n",
       "    </tr>\n",
       "    <tr>\n",
       "        <td style=\"padding-left: 1em; padding-right: 1em; text-align: center; vertical-align: top\">15</td>\n",
       "        <td style=\"padding-left: 1em; padding-right: 1em; text-align: center; vertical-align: top\">339</td>\n",
       "        <td style=\"padding-left: 1em; padding-right: 1em; text-align: center; vertical-align: top\">sandra 'boring' bullock</td>\n",
       "        <td style=\"padding-left: 1em; padding-right: 1em; text-align: center; vertical-align: top\">2006-01-29 07:29:30</td>\n",
       "    </tr>\n",
       "    <tr>\n",
       "        <td style=\"padding-left: 1em; padding-right: 1em; text-align: center; vertical-align: top\">15</td>\n",
       "        <td style=\"padding-left: 1em; padding-right: 1em; text-align: center; vertical-align: top\">1955</td>\n",
       "        <td style=\"padding-left: 1em; padding-right: 1em; text-align: center; vertical-align: top\">dentist</td>\n",
       "        <td style=\"padding-left: 1em; padding-right: 1em; text-align: center; vertical-align: top\">2007-10-26 17:44:21</td>\n",
       "    </tr>\n",
       "    <tr>\n",
       "        <td style=\"padding-left: 1em; padding-right: 1em; text-align: center; vertical-align: top\">15</td>\n",
       "        <td style=\"padding-left: 1em; padding-right: 1em; text-align: center; vertical-align: top\">7478</td>\n",
       "        <td style=\"padding-left: 1em; padding-right: 1em; text-align: center; vertical-align: top\">Cambodia</td>\n",
       "        <td style=\"padding-left: 1em; padding-right: 1em; text-align: center; vertical-align: top\">2007-02-03 22:49:57</td>\n",
       "    </tr>\n",
       "    <tr>\n",
       "        <td style=\"padding-left: 1em; padding-right: 1em; text-align: center; vertical-align: top\">15</td>\n",
       "        <td style=\"padding-left: 1em; padding-right: 1em; text-align: center; vertical-align: top\">32892</td>\n",
       "        <td style=\"padding-left: 1em; padding-right: 1em; text-align: center; vertical-align: top\">Russian</td>\n",
       "        <td style=\"padding-left: 1em; padding-right: 1em; text-align: center; vertical-align: top\">2007-02-04 16:59:26</td>\n",
       "    </tr>\n",
       "    <tr>\n",
       "        <td style=\"padding-left: 1em; padding-right: 1em; text-align: center; vertical-align: top\">15</td>\n",
       "        <td style=\"padding-left: 1em; padding-right: 1em; text-align: center; vertical-align: top\">34162</td>\n",
       "        <td style=\"padding-left: 1em; padding-right: 1em; text-align: center; vertical-align: top\">forgettable</td>\n",
       "        <td style=\"padding-left: 1em; padding-right: 1em; text-align: center; vertical-align: top\">2006-03-03 08:16:05</td>\n",
       "    </tr>\n",
       "    <tr>\n",
       "        <td style=\"padding-left: 1em; padding-right: 1em; text-align: center; vertical-align: top\">15</td>\n",
       "        <td style=\"padding-left: 1em; padding-right: 1em; text-align: center; vertical-align: top\">35957</td>\n",
       "        <td style=\"padding-left: 1em; padding-right: 1em; text-align: center; vertical-align: top\">short</td>\n",
       "        <td style=\"padding-left: 1em; padding-right: 1em; text-align: center; vertical-align: top\">2006-03-03 08:17:53</td>\n",
       "    </tr>\n",
       "    <tr>\n",
       "        <td style=\"padding-left: 1em; padding-right: 1em; text-align: center; vertical-align: top\">15</td>\n",
       "        <td style=\"padding-left: 1em; padding-right: 1em; text-align: center; vertical-align: top\">37729</td>\n",
       "        <td style=\"padding-left: 1em; padding-right: 1em; text-align: center; vertical-align: top\">dull story</td>\n",
       "        <td style=\"padding-left: 1em; padding-right: 1em; text-align: center; vertical-align: top\">2006-03-03 08:16:46</td>\n",
       "    </tr>\n",
       "    <tr>\n",
       "        <td style=\"padding-left: 1em; padding-right: 1em; text-align: center; vertical-align: top\">15</td>\n",
       "        <td style=\"padding-left: 1em; padding-right: 1em; text-align: center; vertical-align: top\">45950</td>\n",
       "        <td style=\"padding-left: 1em; padding-right: 1em; text-align: center; vertical-align: top\">powerpoint</td>\n",
       "        <td style=\"padding-left: 1em; padding-right: 1em; text-align: center; vertical-align: top\">2007-01-24 00:24:51</td>\n",
       "    </tr>\n",
       "    <tr>\n",
       "        <td style=\"padding-left: 1em; padding-right: 1em; text-align: center; vertical-align: top\">15</td>\n",
       "        <td style=\"padding-left: 1em; padding-right: 1em; text-align: center; vertical-align: top\">100365</td>\n",
       "        <td style=\"padding-left: 1em; padding-right: 1em; text-align: center; vertical-align: top\">activist</td>\n",
       "        <td style=\"padding-left: 1em; padding-right: 1em; text-align: center; vertical-align: top\">2015-03-09 00:43:40</td>\n",
       "    </tr>\n",
       "    <tr>\n",
       "        <td style=\"padding-left: 1em; padding-right: 1em; text-align: center; vertical-align: top\">15</td>\n",
       "        <td style=\"padding-left: 1em; padding-right: 1em; text-align: center; vertical-align: top\">100365</td>\n",
       "        <td style=\"padding-left: 1em; padding-right: 1em; text-align: center; vertical-align: top\">documentary</td>\n",
       "        <td style=\"padding-left: 1em; padding-right: 1em; text-align: center; vertical-align: top\">2015-03-09 00:43:40</td>\n",
       "    </tr>\n",
       "</table>\n",
       "[1296 rows x 4 columns]<br/>Note: Only the head of the SFrame is printed.<br/>You can use print_rows(num_rows=m, num_columns=n) to print more rows and columns.\n",
       "</div>"
      ],
      "text/plain": [
       "Columns:\n",
       "\tuserId\tstr\n",
       "\tmovieId\tstr\n",
       "\ttag\tstr\n",
       "\ttimestamp\tdatetime\n",
       "\n",
       "Rows: 1296\n",
       "\n",
       "Data:\n",
       "+--------+---------+-------------------------+---------------------+\n",
       "| userId | movieId |           tag           |      timestamp      |\n",
       "+--------+---------+-------------------------+---------------------+\n",
       "|   15   |   339   | sandra 'boring' bullock | 2006-01-29 07:29:30 |\n",
       "|   15   |   1955  |         dentist         | 2007-10-26 17:44:21 |\n",
       "|   15   |   7478  |         Cambodia        | 2007-02-03 22:49:57 |\n",
       "|   15   |  32892  |         Russian         | 2007-02-04 16:59:26 |\n",
       "|   15   |  34162  |       forgettable       | 2006-03-03 08:16:05 |\n",
       "|   15   |  35957  |          short          | 2006-03-03 08:17:53 |\n",
       "|   15   |  37729  |        dull story       | 2006-03-03 08:16:46 |\n",
       "|   15   |  45950  |        powerpoint       | 2007-01-24 00:24:51 |\n",
       "|   15   |  100365 |         activist        | 2015-03-09 00:43:40 |\n",
       "|   15   |  100365 |       documentary       | 2015-03-09 00:43:40 |\n",
       "+--------+---------+-------------------------+---------------------+\n",
       "[1296 rows x 4 columns]\n",
       "Note: Only the head of the SFrame is printed.\n",
       "You can use print_rows(num_rows=m, num_columns=n) to print more rows and columns."
      ]
     },
     "execution_count": 16,
     "metadata": {},
     "output_type": "execute_result"
    }
   ],
   "source": [
    "tags_sf = gl.SFrame.read_csv('ml-latest-small/tags.csv', column_type_hints={'movieId':str,'userId':str})\n",
    "\n",
    "#convert timestamp seconds value to a user-readable datetime format\n",
    "tags_sf['timestamp'] = tags_sf['timestamp'].apply(lambda x: dt.datetime.fromtimestamp(x))\n",
    "#movieId duplicate title fix\n",
    "tags_sf['movieId'].apply(lambda x: '3598' if x == '65665' else x)\n",
    "tags_sf['movieId'].apply(lambda x: '34048' if x == '64997' else x)\n",
    "\n",
    "tags_sf"
   ]
  },
  {
   "cell_type": "code",
   "execution_count": 17,
   "metadata": {},
   "outputs": [
    {
     "name": "stdout",
     "output_type": "stream",
     "text": [
      "Canvas is updated and available in a tab in the default browser.\n"
     ]
    }
   ],
   "source": [
    "tags_sf.show()"
   ]
  },
  {
   "cell_type": "markdown",
   "metadata": {},
   "source": [
    "![title](screenshots/tags_sf.png)  \n",
    "*Screenshot from GraphLab Canvas window*\n",
    "\n",
    "Just as in <u><i>ratings.csv</i></u>, we see from the Canvas output that each data type was read in correctly and there are no missing/undefined values.  Again, note that users can tag multiple movies and movies can be tagged by multiple users so there is no need to check for duplicates."
   ]
  },
  {
   "cell_type": "markdown",
   "metadata": {},
   "source": [
    "<h2> Data Understanding 2 </h2>  \n",
    "Visualize any important attributes appropriately.  Important: Provide an interpretation for any charts or graphs."
   ]
  },
  {
   "cell_type": "markdown",
   "metadata": {},
   "source": [
    "<h3> Simple Statistics </h3>\n",
    "\n",
    "We can see some simple statistics for attributes in the Canvas.  For instance, in <u><i>movies.csv</i></u>, the most frequent items for both **genres** and **genre_list** are *Drama* and *Comedy*.  They appear to separate themselves from the rest of the group by a reasonable margin.  \n",
    "\n",
    "Furthermore, in <u><i>ratings.csv</i></u>, **ratings** range from 0.5 to 5.0 with a mean rating of approximately 3.5 and a median of 4.0 suggesting that ratings are skewed to the left.  The histogram in the Canvas (see below)  shows a small number of ratings on the low extreme shifting the mean.  A power user within MovieLens is also identified in **userId**, userId *547* has provided about 2.4% of the ratings, roughly 500 ratings than anyone else in the dataset.  \n",
    "  \n",
    "![title](screenshots/histogram_Value of rating.png) \n",
    "  \n",
    "Consistent with <u><i>ratings.csv</i></u>, the same power user, **userId** *547*, is identified in the canvas for <u><i>tags.csv</i></u>.  However, the margin between for which this userId provides **tags** than anyone else is significantly wider.  userId *547* contributes approximately 30% of all tags in the dataset, 200 more than the next highest contributor.  The last noteworthy item from simple statistics in <u><i>tags.csv</i></u> is from **movieId**.  movieId *260* appears to be tagged more than any other movieId by a reasonable margin but upon further investigation, it only contains 9 more tags than the next movieId."
   ]
  },
  {
   "cell_type": "markdown",
   "metadata": {},
   "source": [
    "<h3> Top Rated and Popular Attributes </h3>  \n",
    "  \n",
    "Before we delve into finding highly rated movies by popularity for certain attributes, ploting functions are created for visualizations.  **HorzBarChart()** will create a horizontal bar chart two columns in a SFrame.  And **RatingStripPlot()** will create a strip plot for ratings separated by a attribute in the ratings SFrame.  Jittering is added on both axes to view the spread of values are not continuous.  Both **utf8encoding()** and **frenchepatch()** are patch functions created to work around complications when formatting labels on plots.  Unrecognized characters stayed as byte literals that either needed to be encoded to a 'utf-8' format or replaced since the character is in a different language (i.e. the acute e character)."
   ]
  },
  {
   "cell_type": "code",
   "execution_count": 18,
   "metadata": {},
   "outputs": [],
   "source": [
    "def HorzBarChart(x, y, x_label, plot_title):\n",
    "    y_pos = np.arange(len(y))\n",
    "    plt.barh(y_pos, x)\n",
    "    plt.yticks(y_pos, y)\n",
    "    plt.xlabel(x_label)\n",
    "    plt.title(plot_title)\n",
    "    plt.show()\n",
    "    \n",
    "def RatingStripPlot(sf, y_axis_field, plot_title, plot_order=None):\n",
    "    sf['rating_jitter'] = sf['rating'].apply(lambda x: x + np.random.uniform(-0.25,0.25))\n",
    "    ax = sns.stripplot(x='rating_jitter', y=y_axis_field, data=sf.to_dataframe(), order=plot_order, jitter=True)\n",
    "    ax.set(xlabel='Rating', ylabel='', title=plot_title)\n",
    "    plt.show()\n",
    "    \n",
    "def utf8encoding(x_list):\n",
    "    x_list = [x.encode('utf-8') for x in x_list]\n",
    "    return(x_list)\n",
    "\n",
    "def frenchepatch(x_list):\n",
    "    y_list = []\n",
    "    for x in x_list:\n",
    "        result = ''\n",
    "        x = x.split('\\xc3\\xa9')\n",
    "        for item in x:\n",
    "            result += item\n",
    "            result += 'e' if (len(x) != 1 and item != x[-1]) else \"\"\n",
    "        y_list.append(result)\n",
    "    return(y_list)"
   ]
  },
  {
   "cell_type": "markdown",
   "metadata": {},
   "source": [
    "<h4> Top Rated Movies </h4>  \n",
    "\n",
    "To get the ratings for the top rated movies, the following steps are taken:\n",
    "- An SFrame, **average_rating**, with an average rating and count of ratings by **movieId** using **groupby()** is generated.  \n",
    "  \n",
    "- It is then joined with **movies_sf** by **movieId** to get the readable title for that movie.  To avoid outliers where a movie only has a handful of ratings but the average rating is screwed by one or two high ratings, the **average_rating** SFrame is filtered for movies with more than 50 ratings before the top 10 movies are chosen with **topk()**. The result is saved as **top_rated**.   \n",
    "\n",
    "- **top_rated** is joined back with **ratings_sf** to get all the ratings for the top 10 movies with more than 50 ratings.  It is saved as **top_ratings** for plotting with **RatingStripPlot()**.   "
   ]
  },
  {
   "cell_type": "code",
   "execution_count": 19,
   "metadata": {
    "scrolled": true
   },
   "outputs": [
    {
     "data": {
      "image/png": "[encoded data removed]",
      "text/plain": [
       "<matplotlib.figure.Figure at 0x1a10cce550>"
      ]
     },
     "metadata": {},
     "output_type": "display_data"
    }
   ],
   "source": [
    "average_rating = ratings_sf.groupby(key_columns='movieId', operations={'avg_rating': gl.aggregate.MEAN('rating'),\n",
    "                                                                       'count': gl.aggregate.COUNT()})\n",
    "\n",
    "top_rated = average_rating[(average_rating['count'] > 50)].join(movies_sf['movieId','title']).topk('avg_rating')\n",
    "\n",
    "top_ratings = top_rated.join(ratings_sf['movieId','rating'])\n",
    "RatingStripPlot(top_ratings, 'title', 'Top Rated Movies',)"
   ]
  },
  {
   "cell_type": "markdown",
   "metadata": {},
   "source": [
    "It appears the 70' and '90s were good decades for cinema.  Both produced 3 movies in the top ten.  In addition, The Godfather series has its first 2 movies in the top 6 movies.  As interesting as this plot is, not much inference can be drawn.  All we know with the plot is that MovieLens users liked these relatively popular movies.  Lets move forward by filtering based on various attributes to gain a better understanding of the data.   "
   ]
  },
  {
   "cell_type": "markdown",
   "metadata": {},
   "source": [
    "<h4> Most Rated Movies </h4>  \n",
    "\n",
    "To begin, we look at ratings based on popularity by following a similar process listed above when we were finding the ratings for the top 10 movies with the highest average rating.  The key differences in the process are as follows:  \n",
    "- **average_rating** is not created and we use **count** to find the top 10 movies with the most ratings.\n",
    "- **top_rated** is sorted to order movies when the **HorzBarChart()** function is used to plot the top 10 most rated movies.\n",
    "- The **order** option is used in **RatingStripPlot()** to view movie ratings in the same order as the horizontal bar plot."
   ]
  },
  {
   "cell_type": "code",
   "execution_count": 20,
   "metadata": {
    "scrolled": false
   },
   "outputs": [
    {
     "data": {
      "image/png": "[encoded data removed]",
      "text/plain": [
       "<matplotlib.figure.Figure at 0x1a10903f10>"
      ]
     },
     "metadata": {},
     "output_type": "display_data"
    },
    {
     "data": {
      "image/png": "[encoded data removed]",
      "text/plain": [
       "<matplotlib.figure.Figure at 0x1a11c18510>"
      ]
     },
     "metadata": {},
     "output_type": "display_data"
    }
   ],
   "source": [
    "movie_rating_count = ratings_sf.groupby(key_columns='movieId', operations={'count': gl.aggregate.COUNT()})\n",
    "\n",
    "most_rated = movie_rating_count.join(movies_sf['movieId','title']).topk('count').sort('count')\n",
    "\n",
    "HorzBarChart(most_rated['count'], utf8encoding(most_rated['title']), 'Ratings', 'Most Rated Movies')\n",
    "\n",
    "most_rated_ratings = most_rated.join(ratings_sf['movieId','rating'])\n",
    "RatingStripPlot(most_rated_ratings, 'title', 'Most Rated Movie Ratings', \n",
    "                utf8encoding(list(most_rated.sort('count',ascending=False)['title'])))"
   ]
  },
  {
   "cell_type": "markdown",
   "metadata": {},
   "source": [
    "Based on popularity, it can be surmised that during the entire implementation of MovieLens, its hayday with the most number of active users rating movies was a period during or shortly after the early 90s.  9 out of 10 of the top rated movies were released in the 90s.  More specificially, 8 of the 9 released in a period from 1991-1995.  The validity of this hypothesis will be further investigated during the use of the **timestamp** attribute within <u><i>ratings.csv</i></u>."
   ]
  },
  {
   "cell_type": "markdown",
   "metadata": {},
   "source": [
    "<h4> Most Tagged Movies </h4>  \n",
    "\n",
    "Similar to ratings, tags can also be a viable measure of movie popularity.  To view plots and how they differ from ratings, the same procedure is followed but instead of the <u><i>ratings.csv</i></u> to get the top 10 movies, <u><i>tags.csv</i></u> is used. "
   ]
  },
  {
   "cell_type": "code",
   "execution_count": 21,
   "metadata": {
    "scrolled": false
   },
   "outputs": [
    {
     "data": {
      "image/png": "[encoded data removed]",
      "text/plain": [
       "<matplotlib.figure.Figure at 0x1a11bd1a90>"
      ]
     },
     "metadata": {},
     "output_type": "display_data"
    },
    {
     "data": {
      "image/png": "[encoded data removed]",
      "text/plain": [
       "<matplotlib.figure.Figure at 0x1a11a847d0>"
      ]
     },
     "metadata": {},
     "output_type": "display_data"
    }
   ],
   "source": [
    "movie_tag_count = tags_sf.groupby(key_columns='movieId', operations={'count': gl.aggregate.COUNT()})\n",
    "\n",
    "most_tagged = movie_tag_count.join(movies_sf['movieId','title']).topk('count').sort('count')\n",
    "\n",
    "HorzBarChart(most_tagged['count'], frenchepatch((most_tagged['title'])), 'Tags', 'Most Tagged Movies')\n",
    "\n",
    "most_tagged_ratings = most_tagged.join(ratings_sf['movieId','rating'])\n",
    "RatingStripPlot(most_tagged_ratings, 'title', 'Most Tagged Movie Ratings', \n",
    "               utf8encoding(frenchepatch(list(most_tagged.sort('count',ascending=False)['title']))))"
   ]
  },
  {
   "cell_type": "markdown",
   "metadata": {},
   "source": [
    "Quite a different story can be pieced together from tag popularity.  7 out of the 10 movies were released from 1998-2008.  A plethora of reason come to mind as to this deviation.  The tags feature could have not been implemented until the late 90s, hence why we do not see the same movies in rating popularity.  Pending a MovieLens user can add multiple tags to a movie, it is possible the identified power user, userId *547*, was primarily active during a period when these top 10 tagged movies were released or the user preferred to tag movies from the time period.  Domain knowledge of the MovieLens database would be requied to confirm any of these assumptions.  However, the assumptions will be further investigated using the **timestamp** attribute within <u><i>tags.csv</i></u>."
   ]
  },
  {
   "cell_type": "markdown",
   "metadata": {},
   "source": [
    "<h3>Time Related Attributes</h3>  \n",
    "\n",
    "As done for previous sections, the plotting function **TagsRatingsTimeSeries()** is generated to plot both tag frequency and rating frequency for a given time horizon.  There are two separate scales on the y axis for each attribute since they reside on different scales.  The plot will allow us to further investigate hypotheses gathered from the *Most Rated* and *Most Tagged* sections."
   ]
  },
  {
   "cell_type": "code",
   "execution_count": 22,
   "metadata": {},
   "outputs": [],
   "source": [
    "def TagsRatingsTimeSeries(ratings_x, ratings_y, tags_x, tags_y, x_label, plot_title):\n",
    "    f, ax1 = plt.subplots(figsize=(20,5))\n",
    "    ax1.plot(ratings_x, ratings_y, 'b')\n",
    "    ax2 = ax1.twinx()\n",
    "    ax2.plot(tags_x, tags_y, 'g')\n",
    "    ax1.set(xlabel = x_label, ylabel = 'Number of Ratings')\n",
    "    ax2.set(ylabel = 'Number of Tags', title = plot_title)\n",
    "    plt.show()"
   ]
  },
  {
   "cell_type": "markdown",
   "metadata": {},
   "source": [
    "<h4>Ratings and Tags by Year</h4>  \n",
    "\n",
    "A time horizon of year coinsides nicely with the previous visualizations made since release years were noted.  To plot rating and tag frequencies by year, the original SFrame goes through a series of steps to properly aggregate it:  \n",
    "- The year is extracted from the datetime attribute, **timestamp**, by using **split_datetime()**.\n",
    "- The newly created attribute **timestamp.year** is used to group ratings or tags using **groupby()**.\n",
    "- The manipulated SFrame is sorted by **timestamp.year** and stored as a new SFrame for plotting with **TagsRatingsTimeSeries**."
   ]
  },
  {
   "cell_type": "code",
   "execution_count": 23,
   "metadata": {},
   "outputs": [],
   "source": [
    "tags_year = tags_sf.split_datetime('timestamp',limit=['year']\n",
    "                                  ).groupby(key_columns='timestamp.year', operations={'count': gl.aggregate.COUNT()}\n",
    "                                           ).sort(['timestamp.year'])\n",
    "\n",
    "ratings_year = ratings_sf.split_datetime('timestamp',limit=['year']\n",
    "                                        ).groupby(key_columns='timestamp.year', operations={'count': gl.aggregate.COUNT()}\n",
    "                                              ).sort(['timestamp.year'])"
   ]
  },
  {
   "cell_type": "code",
   "execution_count": 24,
   "metadata": {
    "scrolled": true
   },
   "outputs": [
    {
     "data": {
      "image/png": "[encoded data removed]",
      "text/plain": [
       "<matplotlib.figure.Figure at 0x1a115a9610>"
      ]
     },
     "metadata": {},
     "output_type": "display_data"
    }
   ],
   "source": [
    "TagsRatingsTimeSeries(ratings_year['timestamp.year'], ratings_year['count'], \n",
    "                      tags_year['timestamp.year'], tags_year['count'], \n",
    "                      'Year', 'Ratings and Tags by Year')"
   ]
  },
  {
   "cell_type": "markdown",
   "metadata": {},
   "source": [
    "We observe a spike in **ratings** during *2000* of 14,000, more than twice as many than in most other years.  This is a bit later than our predicted range of when more ratings were being made but not far off.  Practical reasoning can find justification as there may be a delay after a movie release before it can be consumed outside of theaters.  At which point, there may be an even longer delay depending on when a MovieLens user decided to watch it.  \n",
    "\n",
    "Moreover, we see that **tags** aren't recorded in MovieLens until *2006*.  This is consistent with an option determined in *Most Tagged* where the shift in time period for movie tag popularity versus movie rating popularity could be because the tagging feature was not implemented until later on in MovieLens' existence.  Lastly, there is a spike in 2015 of roughly 375 tags recorded in *2015*.  Power user userId *547* recorded about 400 tags over the course of the dataset.  It would be interesting to see if this power user is the reasoning behind the spike."
   ]
  },
  {
   "cell_type": "markdown",
   "metadata": {},
   "source": [
    "<h4> Genres </h4>  \n",
    "\n",
    "During simple statistics, we uncovered that *Drama* and *Comedy* appeared to be the most popular type of movie released.  We will plot rating frequency to see if this unbalanced mix of genres carries over.  Similar steps are followed as with rating frequency and tag frequency by movie, but a couple additional steps are indicated below:\n",
    "- Since multiple genres can describe a movie, each genre in **genre_list** must be converted into separate row with the **stack()** function.\n",
    "- **stacked_movies** is used to obtain **ratings** for each genre on a particular movie since we all not filtering top genres and the **movieId** attribute is required to join with **ratings_sf**"
   ]
  },
  {
   "cell_type": "code",
   "execution_count": 25,
   "metadata": {},
   "outputs": [
    {
     "data": {
      "image/png": "[encoded data removed]",
      "text/plain": [
       "<matplotlib.figure.Figure at 0x1a11996590>"
      ]
     },
     "metadata": {},
     "output_type": "display_data"
    },
    {
     "data": {
      "image/png": "[encoded data removed]",
      "text/plain": [
       "<matplotlib.figure.Figure at 0x1a216bf4d0>"
      ]
     },
     "metadata": {},
     "output_type": "display_data"
    }
   ],
   "source": [
    "stacked_movies = movies_sf['movieId','title','genre_list'].stack('genre_list', new_column_name='genre')\n",
    "\n",
    "most_rated_genre = movie_rating_count.join(stacked_movies['movieId','genre'])\n",
    "most_rated_genre = most_rated_genre.groupby(key_columns='genre', operations={'count': gl.aggregate.COUNT()}).sort('count')\n",
    "\n",
    "HorzBarChart(most_rated_genre['count'], most_rated_genre['genre'], 'Ratings', 'Most Rated Genres')\n",
    "\n",
    "genre_ratings = stacked_movies.join(ratings_sf['movieId','rating'])\n",
    "RatingStripPlot(genre_ratings, 'genre', 'Genre Ratings', \n",
    "               list(most_rated_genre.sort('count',ascending=False)['genre']))\n",
    "    "
   ]
  },
  {
   "cell_type": "markdown",
   "metadata": {},
   "source": [
    "It appears the unbalanced genres mix carries over in the number of ratings per movie genre.  Additionally, it appears movie genre popularity does not equate to movie quality.  The ratings by genre span across the entire range of potential ratings.  Each genre appears to produce blockbuster hits and duds with similar frequency even with an unbalanced mix of movie genres being produced."
   ]
  },
  {
   "cell_type": "markdown",
   "metadata": {},
   "source": [
    "<h2> Modeling and Evaluation 1 </h2>  \n",
    "Train and adjust parameters."
   ]
  },
  {
   "cell_type": "markdown",
   "metadata": {},
   "source": [
    "<h3> Cross Validation </h3>  \n",
    "\n"
   ]
  },
  {
   "cell_type": "code",
   "execution_count": 103,
   "metadata": {},
   "outputs": [],
   "source": [
    "title_ratings = ratings_sf.join(movies_sf)['userId','movieId','title','rating','genres','genre_list']\n",
    "train, test = gl.recommender.util.random_split_by_user(title_ratings,\n",
    "                                                    user_id=\"userId\", item_id=\"title\",\n",
    "                                                    max_num_users=100, item_test_proportion=0.2)"
   ]
  },
  {
   "cell_type": "markdown",
   "metadata": {},
   "source": [
    "<h3> Item-Item Recommendation Systems </h3>"
   ]
  },
  {
   "cell_type": "code",
   "execution_count": 130,
   "metadata": {},
   "outputs": [],
   "source": [
    "def item_sim_parameter_search(params,train,test):\n",
    "    search_summary = gl.SFrame({'item_id':[str()], 'only_top_k':[int()], 'similarity_type':[str()],\n",
    "                                         'rmse_overall':[float()]})[:0]\n",
    "    for item in params['item_id']:\n",
    "        for k in params['only_top_k']:\n",
    "            for sim_type in params['similarity_type']:\n",
    "                rec = gl.recommender.item_similarity_recommender.create(train, user_id='userId', item_id=item,\n",
    "                                                                       target='rating', only_top_k=k,\n",
    "                                                                       similarity_type=sim_type)\n",
    "                rec_results = rec.evaluate(test)\n",
    "                rec_summary = gl.SFrame({'item_id':[item], 'only_top_k':[k], 'similarity_type':[sim_type],\n",
    "                                         'rmse_overall':[rec_results['rmse_overall']]})\n",
    "                search_summary = search_summary.append(rec_summary)\n",
    "    return(search_summary)\n",
    "           "
   ]
  },
  {
   "cell_type": "markdown",
   "metadata": {},
   "source": [
    "<h4> Models based on Movie Title and Genres </h4>"
   ]
  },
  {
   "cell_type": "code",
   "execution_count": 129,
   "metadata": {},
   "outputs": [],
   "source": [
    "params = {'user_id': 'userId', \n",
    "          'item_id': ['title','genres'], \n",
    "          'target': 'rating',\n",
    "          'only_top_k': [5, 15, 25], \n",
    "          'similarity_type': ['cosine','pearson','jaccard']}"
   ]
  },
  {
   "cell_type": "code",
   "execution_count": 131,
   "metadata": {},
   "outputs": [
    {
     "data": {
      "text/html": [
       "<pre>Recsys training: model = item_similarity</pre>"
      ],
      "text/plain": [
       "Recsys training: model = item_similarity"
      ]
     },
     "metadata": {},
     "output_type": "display_data"
    },
    {
     "data": {
      "text/html": [
       "<pre>Warning: Ignoring columns movieId, genres, genre_list;</pre>"
      ],
      "text/plain": [
       "Warning: Ignoring columns movieId, genres, genre_list;"
      ]
     },
     "metadata": {},
     "output_type": "display_data"
    },
    {
     "data": {
      "text/html": [
       "<pre>    To use these columns in scoring predictions, use a model that allows the use of additional features.</pre>"
      ],
      "text/plain": [
       "    To use these columns in scoring predictions, use a model that allows the use of additional features."
      ]
     },
     "metadata": {},
     "output_type": "display_data"
    },
    {
     "data": {
      "text/html": [
       "<pre>Preparing data set.</pre>"
      ],
      "text/plain": [
       "Preparing data set."
      ]
     },
     "metadata": {},
     "output_type": "display_data"
    },
    {
     "data": {
      "text/html": [
       "<pre>    Data has 96765 observations with 671 users and 8968 items.</pre>"
      ],
      "text/plain": [
       "    Data has 96765 observations with 671 users and 8968 items."
      ]
     },
     "metadata": {},
     "output_type": "display_data"
    },
    {
     "data": {
      "text/html": [
       "<pre>    Data prepared in: 0.21956s</pre>"
      ],
      "text/plain": [
       "    Data prepared in: 0.21956s"
      ]
     },
     "metadata": {},
     "output_type": "display_data"
    },
    {
     "data": {
      "text/html": [
       "<pre>Training model from provided data.</pre>"
      ],
      "text/plain": [
       "Training model from provided data."
      ]
     },
     "metadata": {},
     "output_type": "display_data"
    },
    {
     "data": {
      "text/html": [
       "<pre>Gathering per-item and per-user statistics.</pre>"
      ],
      "text/plain": [
       "Gathering per-item and per-user statistics."
      ]
     },
     "metadata": {},
     "output_type": "display_data"
    },
    {
     "data": {
      "text/html": [
       "<pre>+--------------------------------+------------+</pre>"
      ],
      "text/plain": [
       "+--------------------------------+------------+"
      ]
     },
     "metadata": {},
     "output_type": "display_data"
    },
    {
     "data": {
      "text/html": [
       "<pre>| Elapsed Time (Item Statistics) | % Complete |</pre>"
      ],
      "text/plain": [
       "| Elapsed Time (Item Statistics) | % Complete |"
      ]
     },
     "metadata": {},
     "output_type": "display_data"
    },
    {
     "data": {
      "text/html": [
       "<pre>+--------------------------------+------------+</pre>"
      ],
      "text/plain": [
       "+--------------------------------+------------+"
      ]
     },
     "metadata": {},
     "output_type": "display_data"
    },
    {
     "data": {
      "text/html": [
       "<pre>| 6.03ms                         | 100        |</pre>"
      ],
      "text/plain": [
       "| 6.03ms                         | 100        |"
      ]
     },
     "metadata": {},
     "output_type": "display_data"
    },
    {
     "data": {
      "text/html": [
       "<pre>+--------------------------------+------------+</pre>"
      ],
      "text/plain": [
       "+--------------------------------+------------+"
      ]
     },
     "metadata": {},
     "output_type": "display_data"
    },
    {
     "data": {
      "text/html": [
       "<pre>Setting up lookup tables.</pre>"
      ],
      "text/plain": [
       "Setting up lookup tables."
      ]
     },
     "metadata": {},
     "output_type": "display_data"
    },
    {
     "data": {
      "text/html": [
       "<pre>Processing data in one pass using dense lookup tables.</pre>"
      ],
      "text/plain": [
       "Processing data in one pass using dense lookup tables."
      ]
     },
     "metadata": {},
     "output_type": "display_data"
    },
    {
     "data": {
      "text/html": [
       "<pre>+-------------------------------------+------------------+-----------------+</pre>"
      ],
      "text/plain": [
       "+-------------------------------------+------------------+-----------------+"
      ]
     },
     "metadata": {},
     "output_type": "display_data"
    },
    {
     "data": {
      "text/html": [
       "<pre>| Elapsed Time (Constructing Lookups) | Total % Complete | Items Processed |</pre>"
      ],
      "text/plain": [
       "| Elapsed Time (Constructing Lookups) | Total % Complete | Items Processed |"
      ]
     },
     "metadata": {},
     "output_type": "display_data"
    },
    {
     "data": {
      "text/html": [
       "<pre>+-------------------------------------+------------------+-----------------+</pre>"
      ],
      "text/plain": [
       "+-------------------------------------+------------------+-----------------+"
      ]
     },
     "metadata": {},
     "output_type": "display_data"
    },
    {
     "data": {
      "text/html": [
       "<pre>| 264.132ms                           | 0                | 0               |</pre>"
      ],
      "text/plain": [
       "| 264.132ms                           | 0                | 0               |"
      ]
     },
     "metadata": {},
     "output_type": "display_data"
    },
    {
     "data": {
      "text/html": [
       "<pre>| 1.10s                               | 100              | 8968            |</pre>"
      ],
      "text/plain": [
       "| 1.10s                               | 100              | 8968            |"
      ]
     },
     "metadata": {},
     "output_type": "display_data"
    },
    {
     "data": {
      "text/html": [
       "<pre>+-------------------------------------+------------------+-----------------+</pre>"
      ],
      "text/plain": [
       "+-------------------------------------+------------------+-----------------+"
      ]
     },
     "metadata": {},
     "output_type": "display_data"
    },
    {
     "data": {
      "text/html": [
       "<pre>Finalizing lookup tables.</pre>"
      ],
      "text/plain": [
       "Finalizing lookup tables."
      ]
     },
     "metadata": {},
     "output_type": "display_data"
    },
    {
     "data": {
      "text/html": [
       "<pre>Generating candidate set for working with new users.</pre>"
      ],
      "text/plain": [
       "Generating candidate set for working with new users."
      ]
     },
     "metadata": {},
     "output_type": "display_data"
    },
    {
     "data": {
      "text/html": [
       "<pre>Finished training in 1.13661s</pre>"
      ],
      "text/plain": [
       "Finished training in 1.13661s"
      ]
     },
     "metadata": {},
     "output_type": "display_data"
    },
    {
     "name": "stdout",
     "output_type": "stream",
     "text": [
      "\n",
      "Precision and recall summary statistics by cutoff\n",
      "+--------+----------------+-----------------+\n",
      "| cutoff | mean_precision |   mean_recall   |\n",
      "+--------+----------------+-----------------+\n",
      "|   1    |      0.38      | 0.0211509747923 |\n",
      "|   2    |     0.345      |  0.033439911596 |\n",
      "|   3    | 0.316666666667 | 0.0490502922327 |\n",
      "|   4    |     0.2975     | 0.0574555205317 |\n",
      "|   5    |     0.282      | 0.0696731805541 |\n",
      "|   6    | 0.276666666667 | 0.0798405986284 |\n",
      "|   7    |      0.26      | 0.0871165403423 |\n",
      "|   8    |    0.25875     | 0.0982930293807 |\n",
      "|   9    | 0.252222222222 |  0.107860056305 |\n",
      "|   10   |     0.241      |  0.116721288653 |\n",
      "+--------+----------------+-----------------+\n",
      "[10 rows x 3 columns]\n",
      "\n",
      "('\\nOverall RMSE: ', 3.7464707301664943)\n",
      "\n",
      "Per User RMSE (best)\n",
      "+--------+-------+---------------+\n",
      "| userId | count |      rmse     |\n",
      "+--------+-------+---------------+\n",
      "|  325   |   5   | 2.31300670124 |\n",
      "+--------+-------+---------------+\n",
      "[1 rows x 3 columns]\n",
      "\n",
      "\n",
      "Per User RMSE (worst)\n",
      "+--------+-------+---------------+\n",
      "| userId | count |      rmse     |\n",
      "+--------+-------+---------------+\n",
      "|  546   |   15  | 4.78280396592 |\n",
      "+--------+-------+---------------+\n",
      "[1 rows x 3 columns]\n",
      "\n",
      "\n",
      "Per Item RMSE (best)\n",
      "+------------------+-------+----------------+\n",
      "|      title       | count |      rmse      |\n",
      "+------------------+-------+----------------+\n",
      "| Ring, The (2002) |   1   | 0.486052578146 |\n",
      "+------------------+-------+----------------+\n",
      "[1 rows x 3 columns]\n",
      "\n",
      "\n",
      "Per Item RMSE (worst)\n",
      "+--------------------------+-------+------+\n",
      "|          title           | count | rmse |\n",
      "+--------------------------+-------+------+\n",
      "| On the Waterfront (1954) |   1   | 5.0  |\n",
      "+--------------------------+-------+------+\n",
      "[1 rows x 3 columns]\n",
      "\n"
     ]
    },
    {
     "data": {
      "text/html": [
       "<pre>Recsys training: model = item_similarity</pre>"
      ],
      "text/plain": [
       "Recsys training: model = item_similarity"
      ]
     },
     "metadata": {},
     "output_type": "display_data"
    },
    {
     "data": {
      "text/html": [
       "<pre>Warning: Ignoring columns movieId, genres, genre_list;</pre>"
      ],
      "text/plain": [
       "Warning: Ignoring columns movieId, genres, genre_list;"
      ]
     },
     "metadata": {},
     "output_type": "display_data"
    },
    {
     "data": {
      "text/html": [
       "<pre>    To use these columns in scoring predictions, use a model that allows the use of additional features.</pre>"
      ],
      "text/plain": [
       "    To use these columns in scoring predictions, use a model that allows the use of additional features."
      ]
     },
     "metadata": {},
     "output_type": "display_data"
    },
    {
     "data": {
      "text/html": [
       "<pre>Preparing data set.</pre>"
      ],
      "text/plain": [
       "Preparing data set."
      ]
     },
     "metadata": {},
     "output_type": "display_data"
    },
    {
     "data": {
      "text/html": [
       "<pre>    Data has 96765 observations with 671 users and 8968 items.</pre>"
      ],
      "text/plain": [
       "    Data has 96765 observations with 671 users and 8968 items."
      ]
     },
     "metadata": {},
     "output_type": "display_data"
    },
    {
     "data": {
      "text/html": [
       "<pre>    Data prepared in: 0.257756s</pre>"
      ],
      "text/plain": [
       "    Data prepared in: 0.257756s"
      ]
     },
     "metadata": {},
     "output_type": "display_data"
    },
    {
     "data": {
      "text/html": [
       "<pre>Training model from provided data.</pre>"
      ],
      "text/plain": [
       "Training model from provided data."
      ]
     },
     "metadata": {},
     "output_type": "display_data"
    },
    {
     "data": {
      "text/html": [
       "<pre>Gathering per-item and per-user statistics.</pre>"
      ],
      "text/plain": [
       "Gathering per-item and per-user statistics."
      ]
     },
     "metadata": {},
     "output_type": "display_data"
    },
    {
     "data": {
      "text/html": [
       "<pre>+--------------------------------+------------+</pre>"
      ],
      "text/plain": [
       "+--------------------------------+------------+"
      ]
     },
     "metadata": {},
     "output_type": "display_data"
    },
    {
     "data": {
      "text/html": [
       "<pre>| Elapsed Time (Item Statistics) | % Complete |</pre>"
      ],
      "text/plain": [
       "| Elapsed Time (Item Statistics) | % Complete |"
      ]
     },
     "metadata": {},
     "output_type": "display_data"
    },
    {
     "data": {
      "text/html": [
       "<pre>+--------------------------------+------------+</pre>"
      ],
      "text/plain": [
       "+--------------------------------+------------+"
      ]
     },
     "metadata": {},
     "output_type": "display_data"
    },
    {
     "data": {
      "text/html": [
       "<pre>| 12.868ms                       | 100        |</pre>"
      ],
      "text/plain": [
       "| 12.868ms                       | 100        |"
      ]
     },
     "metadata": {},
     "output_type": "display_data"
    },
    {
     "data": {
      "text/html": [
       "<pre>+--------------------------------+------------+</pre>"
      ],
      "text/plain": [
       "+--------------------------------+------------+"
      ]
     },
     "metadata": {},
     "output_type": "display_data"
    },
    {
     "data": {
      "text/html": [
       "<pre>Setting up lookup tables.</pre>"
      ],
      "text/plain": [
       "Setting up lookup tables."
      ]
     },
     "metadata": {},
     "output_type": "display_data"
    },
    {
     "data": {
      "text/html": [
       "<pre>Processing data in one pass using dense lookup tables.</pre>"
      ],
      "text/plain": [
       "Processing data in one pass using dense lookup tables."
      ]
     },
     "metadata": {},
     "output_type": "display_data"
    },
    {
     "data": {
      "text/html": [
       "<pre>+-------------------------------------+------------------+-----------------+</pre>"
      ],
      "text/plain": [
       "+-------------------------------------+------------------+-----------------+"
      ]
     },
     "metadata": {},
     "output_type": "display_data"
    },
    {
     "data": {
      "text/html": [
       "<pre>| Elapsed Time (Constructing Lookups) | Total % Complete | Items Processed |</pre>"
      ],
      "text/plain": [
       "| Elapsed Time (Constructing Lookups) | Total % Complete | Items Processed |"
      ]
     },
     "metadata": {},
     "output_type": "display_data"
    },
    {
     "data": {
      "text/html": [
       "<pre>+-------------------------------------+------------------+-----------------+</pre>"
      ],
      "text/plain": [
       "+-------------------------------------+------------------+-----------------+"
      ]
     },
     "metadata": {},
     "output_type": "display_data"
    },
    {
     "data": {
      "text/html": [
       "<pre>| 218.768ms                           | 0                | 0               |</pre>"
      ],
      "text/plain": [
       "| 218.768ms                           | 0                | 0               |"
      ]
     },
     "metadata": {},
     "output_type": "display_data"
    },
    {
     "data": {
      "text/html": [
       "<pre>| 1.27s                               | 99.75            | 8958            |</pre>"
      ],
      "text/plain": [
       "| 1.27s                               | 99.75            | 8958            |"
      ]
     },
     "metadata": {},
     "output_type": "display_data"
    },
    {
     "data": {
      "text/html": [
       "<pre>| 1.77s                               | 100              | 8968            |</pre>"
      ],
      "text/plain": [
       "| 1.77s                               | 100              | 8968            |"
      ]
     },
     "metadata": {},
     "output_type": "display_data"
    },
    {
     "data": {
      "text/html": [
       "<pre>+-------------------------------------+------------------+-----------------+</pre>"
      ],
      "text/plain": [
       "+-------------------------------------+------------------+-----------------+"
      ]
     },
     "metadata": {},
     "output_type": "display_data"
    },
    {
     "data": {
      "text/html": [
       "<pre>Finalizing lookup tables.</pre>"
      ],
      "text/plain": [
       "Finalizing lookup tables."
      ]
     },
     "metadata": {},
     "output_type": "display_data"
    },
    {
     "data": {
      "text/html": [
       "<pre>Generating candidate set for working with new users.</pre>"
      ],
      "text/plain": [
       "Generating candidate set for working with new users."
      ]
     },
     "metadata": {},
     "output_type": "display_data"
    },
    {
     "data": {
      "text/html": [
       "<pre>Finished training in 1.79365s</pre>"
      ],
      "text/plain": [
       "Finished training in 1.79365s"
      ]
     },
     "metadata": {},
     "output_type": "display_data"
    },
    {
     "name": "stdout",
     "output_type": "stream",
     "text": [
      "\n",
      "Precision and recall summary statistics by cutoff\n",
      "+--------+----------------+-------------+\n",
      "| cutoff | mean_precision | mean_recall |\n",
      "+--------+----------------+-------------+\n",
      "|   1    |      0.0       |     0.0     |\n",
      "|   2    |      0.0       |     0.0     |\n",
      "|   3    |      0.0       |     0.0     |\n",
      "|   4    |      0.0       |     0.0     |\n",
      "|   5    |      0.0       |     0.0     |\n",
      "|   6    |      0.0       |     0.0     |\n",
      "|   7    |      0.0       |     0.0     |\n",
      "|   8    |      0.0       |     0.0     |\n",
      "|   9    |      0.0       |     0.0     |\n",
      "|   10   |      0.0       |     0.0     |\n",
      "+--------+----------------+-------------+\n",
      "[10 rows x 3 columns]\n",
      "\n",
      "('\\nOverall RMSE: ', 1.1103903773539292)\n",
      "\n",
      "Per User RMSE (best)\n",
      "+--------+-------+----------------+\n",
      "| userId | count |      rmse      |\n",
      "+--------+-------+----------------+\n",
      "|   42   |   15  | 0.439535891404 |\n",
      "+--------+-------+----------------+\n",
      "[1 rows x 3 columns]\n",
      "\n",
      "\n",
      "Per User RMSE (worst)\n",
      "+--------+-------+---------------+\n",
      "| userId | count |      rmse     |\n",
      "+--------+-------+---------------+\n",
      "|  450   |   21  | 2.18468303111 |\n",
      "+--------+-------+---------------+\n",
      "[1 rows x 3 columns]\n",
      "\n",
      "\n",
      "Per Item RMSE (best)\n",
      "+------------------+-------+------+\n",
      "|      title       | count | rmse |\n",
      "+------------------+-------+------+\n",
      "| Trip, The (2010) |   1   | 0.0  |\n",
      "+------------------+-------+------+\n",
      "[1 rows x 3 columns]\n",
      "\n",
      "\n",
      "Per Item RMSE (worst)\n",
      "+--------------------------+-------+------+\n",
      "|          title           | count | rmse |\n",
      "+--------------------------+-------+------+\n",
      "| Schneider vs. Bax (2015) |   1   | 5.0  |\n",
      "+--------------------------+-------+------+\n",
      "[1 rows x 3 columns]\n",
      "\n"
     ]
    },
    {
     "data": {
      "text/html": [
       "<pre>Recsys training: model = item_similarity</pre>"
      ],
      "text/plain": [
       "Recsys training: model = item_similarity"
      ]
     },
     "metadata": {},
     "output_type": "display_data"
    },
    {
     "data": {
      "text/html": [
       "<pre>Warning: Ignoring columns movieId, genres, genre_list;</pre>"
      ],
      "text/plain": [
       "Warning: Ignoring columns movieId, genres, genre_list;"
      ]
     },
     "metadata": {},
     "output_type": "display_data"
    },
    {
     "data": {
      "text/html": [
       "<pre>    To use these columns in scoring predictions, use a model that allows the use of additional features.</pre>"
      ],
      "text/plain": [
       "    To use these columns in scoring predictions, use a model that allows the use of additional features."
      ]
     },
     "metadata": {},
     "output_type": "display_data"
    },
    {
     "data": {
      "text/html": [
       "<pre>Preparing data set.</pre>"
      ],
      "text/plain": [
       "Preparing data set."
      ]
     },
     "metadata": {},
     "output_type": "display_data"
    },
    {
     "data": {
      "text/html": [
       "<pre>    Data has 96765 observations with 671 users and 8968 items.</pre>"
      ],
      "text/plain": [
       "    Data has 96765 observations with 671 users and 8968 items."
      ]
     },
     "metadata": {},
     "output_type": "display_data"
    },
    {
     "data": {
      "text/html": [
       "<pre>    Data prepared in: 0.245559s</pre>"
      ],
      "text/plain": [
       "    Data prepared in: 0.245559s"
      ]
     },
     "metadata": {},
     "output_type": "display_data"
    },
    {
     "data": {
      "text/html": [
       "<pre>Training model from provided data.</pre>"
      ],
      "text/plain": [
       "Training model from provided data."
      ]
     },
     "metadata": {},
     "output_type": "display_data"
    },
    {
     "data": {
      "text/html": [
       "<pre>Gathering per-item and per-user statistics.</pre>"
      ],
      "text/plain": [
       "Gathering per-item and per-user statistics."
      ]
     },
     "metadata": {},
     "output_type": "display_data"
    },
    {
     "data": {
      "text/html": [
       "<pre>+--------------------------------+------------+</pre>"
      ],
      "text/plain": [
       "+--------------------------------+------------+"
      ]
     },
     "metadata": {},
     "output_type": "display_data"
    },
    {
     "data": {
      "text/html": [
       "<pre>| Elapsed Time (Item Statistics) | % Complete |</pre>"
      ],
      "text/plain": [
       "| Elapsed Time (Item Statistics) | % Complete |"
      ]
     },
     "metadata": {},
     "output_type": "display_data"
    },
    {
     "data": {
      "text/html": [
       "<pre>+--------------------------------+------------+</pre>"
      ],
      "text/plain": [
       "+--------------------------------+------------+"
      ]
     },
     "metadata": {},
     "output_type": "display_data"
    },
    {
     "data": {
      "text/html": [
       "<pre>| 6.518ms                        | 100        |</pre>"
      ],
      "text/plain": [
       "| 6.518ms                        | 100        |"
      ]
     },
     "metadata": {},
     "output_type": "display_data"
    },
    {
     "data": {
      "text/html": [
       "<pre>+--------------------------------+------------+</pre>"
      ],
      "text/plain": [
       "+--------------------------------+------------+"
      ]
     },
     "metadata": {},
     "output_type": "display_data"
    },
    {
     "data": {
      "text/html": [
       "<pre>Setting up lookup tables.</pre>"
      ],
      "text/plain": [
       "Setting up lookup tables."
      ]
     },
     "metadata": {},
     "output_type": "display_data"
    },
    {
     "data": {
      "text/html": [
       "<pre>Processing data in one pass using dense lookup tables.</pre>"
      ],
      "text/plain": [
       "Processing data in one pass using dense lookup tables."
      ]
     },
     "metadata": {},
     "output_type": "display_data"
    },
    {
     "data": {
      "text/html": [
       "<pre>+-------------------------------------+------------------+-----------------+</pre>"
      ],
      "text/plain": [
       "+-------------------------------------+------------------+-----------------+"
      ]
     },
     "metadata": {},
     "output_type": "display_data"
    },
    {
     "data": {
      "text/html": [
       "<pre>| Elapsed Time (Constructing Lookups) | Total % Complete | Items Processed |</pre>"
      ],
      "text/plain": [
       "| Elapsed Time (Constructing Lookups) | Total % Complete | Items Processed |"
      ]
     },
     "metadata": {},
     "output_type": "display_data"
    },
    {
     "data": {
      "text/html": [
       "<pre>+-------------------------------------+------------------+-----------------+</pre>"
      ],
      "text/plain": [
       "+-------------------------------------+------------------+-----------------+"
      ]
     },
     "metadata": {},
     "output_type": "display_data"
    },
    {
     "data": {
      "text/html": [
       "<pre>| 222.492ms                           | 0                | 0               |</pre>"
      ],
      "text/plain": [
       "| 222.492ms                           | 0                | 0               |"
      ]
     },
     "metadata": {},
     "output_type": "display_data"
    },
    {
     "data": {
      "text/html": [
       "<pre>| 932.869ms                           | 100              | 8968            |</pre>"
      ],
      "text/plain": [
       "| 932.869ms                           | 100              | 8968            |"
      ]
     },
     "metadata": {},
     "output_type": "display_data"
    },
    {
     "data": {
      "text/html": [
       "<pre>+-------------------------------------+------------------+-----------------+</pre>"
      ],
      "text/plain": [
       "+-------------------------------------+------------------+-----------------+"
      ]
     },
     "metadata": {},
     "output_type": "display_data"
    },
    {
     "data": {
      "text/html": [
       "<pre>Finalizing lookup tables.</pre>"
      ],
      "text/plain": [
       "Finalizing lookup tables."
      ]
     },
     "metadata": {},
     "output_type": "display_data"
    },
    {
     "data": {
      "text/html": [
       "<pre>Generating candidate set for working with new users.</pre>"
      ],
      "text/plain": [
       "Generating candidate set for working with new users."
      ]
     },
     "metadata": {},
     "output_type": "display_data"
    },
    {
     "data": {
      "text/html": [
       "<pre>Finished training in 0.960594s</pre>"
      ],
      "text/plain": [
       "Finished training in 0.960594s"
      ]
     },
     "metadata": {},
     "output_type": "display_data"
    },
    {
     "name": "stdout",
     "output_type": "stream",
     "text": [
      "\n",
      "Precision and recall summary statistics by cutoff\n",
      "+--------+----------------+-----------------+\n",
      "| cutoff | mean_precision |   mean_recall   |\n",
      "+--------+----------------+-----------------+\n",
      "|   1    |      0.35      | 0.0216213398074 |\n",
      "|   2    |      0.3       |  0.033332659359 |\n",
      "|   3    |      0.27      | 0.0446337925201 |\n",
      "|   4    |      0.27      | 0.0567646227897 |\n",
      "|   5    |      0.26      | 0.0718987033942 |\n",
      "|   6    | 0.251666666667 | 0.0834286004398 |\n",
      "|   7    | 0.247142857143 | 0.0907511395771 |\n",
      "|   8    |     0.2375     |  0.100425767289 |\n",
      "|   9    | 0.234444444444 |  0.111302948421 |\n",
      "|   10   |     0.232      |  0.121457625401 |\n",
      "+--------+----------------+-----------------+\n",
      "[10 rows x 3 columns]\n",
      "\n",
      "('\\nOverall RMSE: ', 3.7595697509750936)\n",
      "\n",
      "Per User RMSE (best)\n",
      "+--------+-------+---------------+\n",
      "| userId | count |      rmse     |\n",
      "+--------+-------+---------------+\n",
      "|  325   |   5   | 2.31300670124 |\n",
      "+--------+-------+---------------+\n",
      "[1 rows x 3 columns]\n",
      "\n",
      "\n",
      "Per User RMSE (worst)\n",
      "+--------+-------+---------------+\n",
      "| userId | count |      rmse     |\n",
      "+--------+-------+---------------+\n",
      "|  546   |   15  | 4.80944085712 |\n",
      "+--------+-------+---------------+\n",
      "[1 rows x 3 columns]\n",
      "\n",
      "\n",
      "Per Item RMSE (best)\n",
      "+------------------+-------+----------------+\n",
      "|      title       | count |      rmse      |\n",
      "+------------------+-------+----------------+\n",
      "| Ring, The (2002) |   1   | 0.498124098236 |\n",
      "+------------------+-------+----------------+\n",
      "[1 rows x 3 columns]\n",
      "\n",
      "\n",
      "Per Item RMSE (worst)\n",
      "+--------------------------+-------+------+\n",
      "|          title           | count | rmse |\n",
      "+--------------------------+-------+------+\n",
      "| On the Waterfront (1954) |   1   | 5.0  |\n",
      "+--------------------------+-------+------+\n",
      "[1 rows x 3 columns]\n",
      "\n"
     ]
    },
    {
     "data": {
      "text/html": [
       "<pre>Recsys training: model = item_similarity</pre>"
      ],
      "text/plain": [
       "Recsys training: model = item_similarity"
      ]
     },
     "metadata": {},
     "output_type": "display_data"
    },
    {
     "data": {
      "text/html": [
       "<pre>Warning: Ignoring columns movieId, genres, genre_list;</pre>"
      ],
      "text/plain": [
       "Warning: Ignoring columns movieId, genres, genre_list;"
      ]
     },
     "metadata": {},
     "output_type": "display_data"
    },
    {
     "data": {
      "text/html": [
       "<pre>    To use these columns in scoring predictions, use a model that allows the use of additional features.</pre>"
      ],
      "text/plain": [
       "    To use these columns in scoring predictions, use a model that allows the use of additional features."
      ]
     },
     "metadata": {},
     "output_type": "display_data"
    },
    {
     "data": {
      "text/html": [
       "<pre>Preparing data set.</pre>"
      ],
      "text/plain": [
       "Preparing data set."
      ]
     },
     "metadata": {},
     "output_type": "display_data"
    },
    {
     "data": {
      "text/html": [
       "<pre>    Data has 96765 observations with 671 users and 8968 items.</pre>"
      ],
      "text/plain": [
       "    Data has 96765 observations with 671 users and 8968 items."
      ]
     },
     "metadata": {},
     "output_type": "display_data"
    },
    {
     "data": {
      "text/html": [
       "<pre>    Data prepared in: 0.238551s</pre>"
      ],
      "text/plain": [
       "    Data prepared in: 0.238551s"
      ]
     },
     "metadata": {},
     "output_type": "display_data"
    },
    {
     "data": {
      "text/html": [
       "<pre>Training model from provided data.</pre>"
      ],
      "text/plain": [
       "Training model from provided data."
      ]
     },
     "metadata": {},
     "output_type": "display_data"
    },
    {
     "data": {
      "text/html": [
       "<pre>Gathering per-item and per-user statistics.</pre>"
      ],
      "text/plain": [
       "Gathering per-item and per-user statistics."
      ]
     },
     "metadata": {},
     "output_type": "display_data"
    },
    {
     "data": {
      "text/html": [
       "<pre>+--------------------------------+------------+</pre>"
      ],
      "text/plain": [
       "+--------------------------------+------------+"
      ]
     },
     "metadata": {},
     "output_type": "display_data"
    },
    {
     "data": {
      "text/html": [
       "<pre>| Elapsed Time (Item Statistics) | % Complete |</pre>"
      ],
      "text/plain": [
       "| Elapsed Time (Item Statistics) | % Complete |"
      ]
     },
     "metadata": {},
     "output_type": "display_data"
    },
    {
     "data": {
      "text/html": [
       "<pre>+--------------------------------+------------+</pre>"
      ],
      "text/plain": [
       "+--------------------------------+------------+"
      ]
     },
     "metadata": {},
     "output_type": "display_data"
    },
    {
     "data": {
      "text/html": [
       "<pre>| 11.686ms                       | 100        |</pre>"
      ],
      "text/plain": [
       "| 11.686ms                       | 100        |"
      ]
     },
     "metadata": {},
     "output_type": "display_data"
    },
    {
     "data": {
      "text/html": [
       "<pre>+--------------------------------+------------+</pre>"
      ],
      "text/plain": [
       "+--------------------------------+------------+"
      ]
     },
     "metadata": {},
     "output_type": "display_data"
    },
    {
     "data": {
      "text/html": [
       "<pre>Setting up lookup tables.</pre>"
      ],
      "text/plain": [
       "Setting up lookup tables."
      ]
     },
     "metadata": {},
     "output_type": "display_data"
    },
    {
     "data": {
      "text/html": [
       "<pre>Processing data in one pass using dense lookup tables.</pre>"
      ],
      "text/plain": [
       "Processing data in one pass using dense lookup tables."
      ]
     },
     "metadata": {},
     "output_type": "display_data"
    },
    {
     "data": {
      "text/html": [
       "<pre>+-------------------------------------+------------------+-----------------+</pre>"
      ],
      "text/plain": [
       "+-------------------------------------+------------------+-----------------+"
      ]
     },
     "metadata": {},
     "output_type": "display_data"
    },
    {
     "data": {
      "text/html": [
       "<pre>| Elapsed Time (Constructing Lookups) | Total % Complete | Items Processed |</pre>"
      ],
      "text/plain": [
       "| Elapsed Time (Constructing Lookups) | Total % Complete | Items Processed |"
      ]
     },
     "metadata": {},
     "output_type": "display_data"
    },
    {
     "data": {
      "text/html": [
       "<pre>+-------------------------------------+------------------+-----------------+</pre>"
      ],
      "text/plain": [
       "+-------------------------------------+------------------+-----------------+"
      ]
     },
     "metadata": {},
     "output_type": "display_data"
    },
    {
     "data": {
      "text/html": [
       "<pre>| 195.086ms                           | 0                | 0               |</pre>"
      ],
      "text/plain": [
       "| 195.086ms                           | 0                | 0               |"
      ]
     },
     "metadata": {},
     "output_type": "display_data"
    },
    {
     "data": {
      "text/html": [
       "<pre>| 873.462ms                           | 100              | 8968            |</pre>"
      ],
      "text/plain": [
       "| 873.462ms                           | 100              | 8968            |"
      ]
     },
     "metadata": {},
     "output_type": "display_data"
    },
    {
     "data": {
      "text/html": [
       "<pre>+-------------------------------------+------------------+-----------------+</pre>"
      ],
      "text/plain": [
       "+-------------------------------------+------------------+-----------------+"
      ]
     },
     "metadata": {},
     "output_type": "display_data"
    },
    {
     "data": {
      "text/html": [
       "<pre>Finalizing lookup tables.</pre>"
      ],
      "text/plain": [
       "Finalizing lookup tables."
      ]
     },
     "metadata": {},
     "output_type": "display_data"
    },
    {
     "data": {
      "text/html": [
       "<pre>Generating candidate set for working with new users.</pre>"
      ],
      "text/plain": [
       "Generating candidate set for working with new users."
      ]
     },
     "metadata": {},
     "output_type": "display_data"
    },
    {
     "data": {
      "text/html": [
       "<pre>Finished training in 0.922935s</pre>"
      ],
      "text/plain": [
       "Finished training in 0.922935s"
      ]
     },
     "metadata": {},
     "output_type": "display_data"
    },
    {
     "name": "stdout",
     "output_type": "stream",
     "text": [
      "\n",
      "Precision and recall summary statistics by cutoff\n",
      "+--------+----------------+-----------------+\n",
      "| cutoff | mean_precision |   mean_recall   |\n",
      "+--------+----------------+-----------------+\n",
      "|   1    |      0.38      |  0.026392938122 |\n",
      "|   2    |      0.34      | 0.0401373294608 |\n",
      "|   3    | 0.316666666667 | 0.0546826239844 |\n",
      "|   4    |     0.3025     | 0.0673461363623 |\n",
      "|   5    |     0.288      | 0.0763606968533 |\n",
      "|   6    | 0.271666666667 | 0.0839769710979 |\n",
      "|   7    | 0.264285714286 | 0.0903104599287 |\n",
      "|   8    |     0.265      |  0.106044402991 |\n",
      "|   9    | 0.265555555556 |  0.115649387861 |\n",
      "|   10   |     0.259      |  0.121629377136 |\n",
      "+--------+----------------+-----------------+\n",
      "[10 rows x 3 columns]\n",
      "\n",
      "('\\nOverall RMSE: ', 3.7212962128599756)\n",
      "\n",
      "Per User RMSE (best)\n",
      "+--------+-------+---------------+\n",
      "| userId | count |      rmse     |\n",
      "+--------+-------+---------------+\n",
      "|  657   |   5   | 2.21066903196 |\n",
      "+--------+-------+---------------+\n",
      "[1 rows x 3 columns]\n",
      "\n",
      "\n",
      "Per User RMSE (worst)\n",
      "+--------+-------+---------------+\n",
      "| userId | count |      rmse     |\n",
      "+--------+-------+---------------+\n",
      "|  546   |   15  | 4.73689374186 |\n",
      "+--------+-------+---------------+\n",
      "[1 rows x 3 columns]\n",
      "\n",
      "\n",
      "Per Item RMSE (best)\n",
      "+------------------+-------+----------------+\n",
      "|      title       | count |      rmse      |\n",
      "+------------------+-------+----------------+\n",
      "| Ring, The (2002) |   1   | 0.473512526112 |\n",
      "+------------------+-------+----------------+\n",
      "[1 rows x 3 columns]\n",
      "\n",
      "\n",
      "Per Item RMSE (worst)\n",
      "+-------------------------------+-------+------+\n",
      "|             title             | count | rmse |\n",
      "+-------------------------------+-------+------+\n",
      "| The Hobbit: The Battle of ... |   1   | 5.0  |\n",
      "+-------------------------------+-------+------+\n",
      "[1 rows x 3 columns]\n",
      "\n"
     ]
    },
    {
     "data": {
      "text/html": [
       "<pre>Recsys training: model = item_similarity</pre>"
      ],
      "text/plain": [
       "Recsys training: model = item_similarity"
      ]
     },
     "metadata": {},
     "output_type": "display_data"
    },
    {
     "data": {
      "text/html": [
       "<pre>Warning: Ignoring columns movieId, genres, genre_list;</pre>"
      ],
      "text/plain": [
       "Warning: Ignoring columns movieId, genres, genre_list;"
      ]
     },
     "metadata": {},
     "output_type": "display_data"
    },
    {
     "data": {
      "text/html": [
       "<pre>    To use these columns in scoring predictions, use a model that allows the use of additional features.</pre>"
      ],
      "text/plain": [
       "    To use these columns in scoring predictions, use a model that allows the use of additional features."
      ]
     },
     "metadata": {},
     "output_type": "display_data"
    },
    {
     "data": {
      "text/html": [
       "<pre>Preparing data set.</pre>"
      ],
      "text/plain": [
       "Preparing data set."
      ]
     },
     "metadata": {},
     "output_type": "display_data"
    },
    {
     "data": {
      "text/html": [
       "<pre>    Data has 96765 observations with 671 users and 8968 items.</pre>"
      ],
      "text/plain": [
       "    Data has 96765 observations with 671 users and 8968 items."
      ]
     },
     "metadata": {},
     "output_type": "display_data"
    },
    {
     "data": {
      "text/html": [
       "<pre>    Data prepared in: 0.214142s</pre>"
      ],
      "text/plain": [
       "    Data prepared in: 0.214142s"
      ]
     },
     "metadata": {},
     "output_type": "display_data"
    },
    {
     "data": {
      "text/html": [
       "<pre>Training model from provided data.</pre>"
      ],
      "text/plain": [
       "Training model from provided data."
      ]
     },
     "metadata": {},
     "output_type": "display_data"
    },
    {
     "data": {
      "text/html": [
       "<pre>Gathering per-item and per-user statistics.</pre>"
      ],
      "text/plain": [
       "Gathering per-item and per-user statistics."
      ]
     },
     "metadata": {},
     "output_type": "display_data"
    },
    {
     "data": {
      "text/html": [
       "<pre>+--------------------------------+------------+</pre>"
      ],
      "text/plain": [
       "+--------------------------------+------------+"
      ]
     },
     "metadata": {},
     "output_type": "display_data"
    },
    {
     "data": {
      "text/html": [
       "<pre>| Elapsed Time (Item Statistics) | % Complete |</pre>"
      ],
      "text/plain": [
       "| Elapsed Time (Item Statistics) | % Complete |"
      ]
     },
     "metadata": {},
     "output_type": "display_data"
    },
    {
     "data": {
      "text/html": [
       "<pre>+--------------------------------+------------+</pre>"
      ],
      "text/plain": [
       "+--------------------------------+------------+"
      ]
     },
     "metadata": {},
     "output_type": "display_data"
    },
    {
     "data": {
      "text/html": [
       "<pre>| 10.828ms                       | 100        |</pre>"
      ],
      "text/plain": [
       "| 10.828ms                       | 100        |"
      ]
     },
     "metadata": {},
     "output_type": "display_data"
    },
    {
     "data": {
      "text/html": [
       "<pre>+--------------------------------+------------+</pre>"
      ],
      "text/plain": [
       "+--------------------------------+------------+"
      ]
     },
     "metadata": {},
     "output_type": "display_data"
    },
    {
     "data": {
      "text/html": [
       "<pre>Setting up lookup tables.</pre>"
      ],
      "text/plain": [
       "Setting up lookup tables."
      ]
     },
     "metadata": {},
     "output_type": "display_data"
    },
    {
     "data": {
      "text/html": [
       "<pre>Processing data in one pass using dense lookup tables.</pre>"
      ],
      "text/plain": [
       "Processing data in one pass using dense lookup tables."
      ]
     },
     "metadata": {},
     "output_type": "display_data"
    },
    {
     "data": {
      "text/html": [
       "<pre>+-------------------------------------+------------------+-----------------+</pre>"
      ],
      "text/plain": [
       "+-------------------------------------+------------------+-----------------+"
      ]
     },
     "metadata": {},
     "output_type": "display_data"
    },
    {
     "data": {
      "text/html": [
       "<pre>| Elapsed Time (Constructing Lookups) | Total % Complete | Items Processed |</pre>"
      ],
      "text/plain": [
       "| Elapsed Time (Constructing Lookups) | Total % Complete | Items Processed |"
      ]
     },
     "metadata": {},
     "output_type": "display_data"
    },
    {
     "data": {
      "text/html": [
       "<pre>+-------------------------------------+------------------+-----------------+</pre>"
      ],
      "text/plain": [
       "+-------------------------------------+------------------+-----------------+"
      ]
     },
     "metadata": {},
     "output_type": "display_data"
    },
    {
     "data": {
      "text/html": [
       "<pre>| 204.961ms                           | 0                | 0               |</pre>"
      ],
      "text/plain": [
       "| 204.961ms                           | 0                | 0               |"
      ]
     },
     "metadata": {},
     "output_type": "display_data"
    },
    {
     "data": {
      "text/html": [
       "<pre>| 1.28s                               | 100              | 8968            |</pre>"
      ],
      "text/plain": [
       "| 1.28s                               | 100              | 8968            |"
      ]
     },
     "metadata": {},
     "output_type": "display_data"
    },
    {
     "data": {
      "text/html": [
       "<pre>+-------------------------------------+------------------+-----------------+</pre>"
      ],
      "text/plain": [
       "+-------------------------------------+------------------+-----------------+"
      ]
     },
     "metadata": {},
     "output_type": "display_data"
    },
    {
     "data": {
      "text/html": [
       "<pre>Finalizing lookup tables.</pre>"
      ],
      "text/plain": [
       "Finalizing lookup tables."
      ]
     },
     "metadata": {},
     "output_type": "display_data"
    },
    {
     "data": {
      "text/html": [
       "<pre>Generating candidate set for working with new users.</pre>"
      ],
      "text/plain": [
       "Generating candidate set for working with new users."
      ]
     },
     "metadata": {},
     "output_type": "display_data"
    },
    {
     "data": {
      "text/html": [
       "<pre>Finished training in 1.3512s</pre>"
      ],
      "text/plain": [
       "Finished training in 1.3512s"
      ]
     },
     "metadata": {},
     "output_type": "display_data"
    },
    {
     "name": "stdout",
     "output_type": "stream",
     "text": [
      "\n",
      "Precision and recall summary statistics by cutoff\n",
      "+--------+----------------+-------------------+\n",
      "| cutoff | mean_precision |    mean_recall    |\n",
      "+--------+----------------+-------------------+\n",
      "|   1    |      0.0       |        0.0        |\n",
      "|   2    |      0.0       |        0.0        |\n",
      "|   3    |      0.0       |        0.0        |\n",
      "|   4    |      0.0       |        0.0        |\n",
      "|   5    |      0.0       |        0.0        |\n",
      "|   6    |      0.0       |        0.0        |\n",
      "|   7    |      0.0       |        0.0        |\n",
      "|   8    |      0.0       |        0.0        |\n",
      "|   9    |      0.0       |        0.0        |\n",
      "|   10   |     0.001      | 0.000117647058824 |\n",
      "+--------+----------------+-------------------+\n",
      "[10 rows x 3 columns]\n",
      "\n",
      "('\\nOverall RMSE: ', 1.110186156070597)\n",
      "\n",
      "Per User RMSE (best)\n",
      "+--------+-------+----------------+\n",
      "| userId | count |      rmse      |\n",
      "+--------+-------+----------------+\n",
      "|   42   |   15  | 0.439083326624 |\n",
      "+--------+-------+----------------+\n",
      "[1 rows x 3 columns]\n",
      "\n",
      "\n",
      "Per User RMSE (worst)\n",
      "+--------+-------+---------------+\n",
      "| userId | count |      rmse     |\n",
      "+--------+-------+---------------+\n",
      "|  450   |   21  | 2.18467617492 |\n",
      "+--------+-------+---------------+\n",
      "[1 rows x 3 columns]\n",
      "\n",
      "\n",
      "Per Item RMSE (best)\n",
      "+-----------------+-------+------+\n",
      "|      title      | count | rmse |\n",
      "+-----------------+-------+------+\n",
      "| Scream 2 (1997) |   1   | 0.0  |\n",
      "+-----------------+-------+------+\n",
      "[1 rows x 3 columns]\n",
      "\n",
      "\n",
      "Per Item RMSE (worst)\n",
      "+--------------------------+-------+------+\n",
      "|          title           | count | rmse |\n",
      "+--------------------------+-------+------+\n",
      "| Schneider vs. Bax (2015) |   1   | 5.0  |\n",
      "+--------------------------+-------+------+\n",
      "[1 rows x 3 columns]\n",
      "\n"
     ]
    },
    {
     "data": {
      "text/html": [
       "<pre>Recsys training: model = item_similarity</pre>"
      ],
      "text/plain": [
       "Recsys training: model = item_similarity"
      ]
     },
     "metadata": {},
     "output_type": "display_data"
    },
    {
     "data": {
      "text/html": [
       "<pre>Warning: Ignoring columns movieId, genres, genre_list;</pre>"
      ],
      "text/plain": [
       "Warning: Ignoring columns movieId, genres, genre_list;"
      ]
     },
     "metadata": {},
     "output_type": "display_data"
    },
    {
     "data": {
      "text/html": [
       "<pre>    To use these columns in scoring predictions, use a model that allows the use of additional features.</pre>"
      ],
      "text/plain": [
       "    To use these columns in scoring predictions, use a model that allows the use of additional features."
      ]
     },
     "metadata": {},
     "output_type": "display_data"
    },
    {
     "data": {
      "text/html": [
       "<pre>Preparing data set.</pre>"
      ],
      "text/plain": [
       "Preparing data set."
      ]
     },
     "metadata": {},
     "output_type": "display_data"
    },
    {
     "data": {
      "text/html": [
       "<pre>    Data has 96765 observations with 671 users and 8968 items.</pre>"
      ],
      "text/plain": [
       "    Data has 96765 observations with 671 users and 8968 items."
      ]
     },
     "metadata": {},
     "output_type": "display_data"
    },
    {
     "data": {
      "text/html": [
       "<pre>    Data prepared in: 0.233739s</pre>"
      ],
      "text/plain": [
       "    Data prepared in: 0.233739s"
      ]
     },
     "metadata": {},
     "output_type": "display_data"
    },
    {
     "data": {
      "text/html": [
       "<pre>Training model from provided data.</pre>"
      ],
      "text/plain": [
       "Training model from provided data."
      ]
     },
     "metadata": {},
     "output_type": "display_data"
    },
    {
     "data": {
      "text/html": [
       "<pre>Gathering per-item and per-user statistics.</pre>"
      ],
      "text/plain": [
       "Gathering per-item and per-user statistics."
      ]
     },
     "metadata": {},
     "output_type": "display_data"
    },
    {
     "data": {
      "text/html": [
       "<pre>+--------------------------------+------------+</pre>"
      ],
      "text/plain": [
       "+--------------------------------+------------+"
      ]
     },
     "metadata": {},
     "output_type": "display_data"
    },
    {
     "data": {
      "text/html": [
       "<pre>| Elapsed Time (Item Statistics) | % Complete |</pre>"
      ],
      "text/plain": [
       "| Elapsed Time (Item Statistics) | % Complete |"
      ]
     },
     "metadata": {},
     "output_type": "display_data"
    },
    {
     "data": {
      "text/html": [
       "<pre>+--------------------------------+------------+</pre>"
      ],
      "text/plain": [
       "+--------------------------------+------------+"
      ]
     },
     "metadata": {},
     "output_type": "display_data"
    },
    {
     "data": {
      "text/html": [
       "<pre>| 7.795ms                        | 100        |</pre>"
      ],
      "text/plain": [
       "| 7.795ms                        | 100        |"
      ]
     },
     "metadata": {},
     "output_type": "display_data"
    },
    {
     "data": {
      "text/html": [
       "<pre>+--------------------------------+------------+</pre>"
      ],
      "text/plain": [
       "+--------------------------------+------------+"
      ]
     },
     "metadata": {},
     "output_type": "display_data"
    },
    {
     "data": {
      "text/html": [
       "<pre>Setting up lookup tables.</pre>"
      ],
      "text/plain": [
       "Setting up lookup tables."
      ]
     },
     "metadata": {},
     "output_type": "display_data"
    },
    {
     "data": {
      "text/html": [
       "<pre>Processing data in one pass using dense lookup tables.</pre>"
      ],
      "text/plain": [
       "Processing data in one pass using dense lookup tables."
      ]
     },
     "metadata": {},
     "output_type": "display_data"
    },
    {
     "data": {
      "text/html": [
       "<pre>+-------------------------------------+------------------+-----------------+</pre>"
      ],
      "text/plain": [
       "+-------------------------------------+------------------+-----------------+"
      ]
     },
     "metadata": {},
     "output_type": "display_data"
    },
    {
     "data": {
      "text/html": [
       "<pre>| Elapsed Time (Constructing Lookups) | Total % Complete | Items Processed |</pre>"
      ],
      "text/plain": [
       "| Elapsed Time (Constructing Lookups) | Total % Complete | Items Processed |"
      ]
     },
     "metadata": {},
     "output_type": "display_data"
    },
    {
     "data": {
      "text/html": [
       "<pre>+-------------------------------------+------------------+-----------------+</pre>"
      ],
      "text/plain": [
       "+-------------------------------------+------------------+-----------------+"
      ]
     },
     "metadata": {},
     "output_type": "display_data"
    },
    {
     "data": {
      "text/html": [
       "<pre>| 196.223ms                           | 0                | 0               |</pre>"
      ],
      "text/plain": [
       "| 196.223ms                           | 0                | 0               |"
      ]
     },
     "metadata": {},
     "output_type": "display_data"
    },
    {
     "data": {
      "text/html": [
       "<pre>| 806.62ms                            | 100              | 8968            |</pre>"
      ],
      "text/plain": [
       "| 806.62ms                            | 100              | 8968            |"
      ]
     },
     "metadata": {},
     "output_type": "display_data"
    },
    {
     "data": {
      "text/html": [
       "<pre>+-------------------------------------+------------------+-----------------+</pre>"
      ],
      "text/plain": [
       "+-------------------------------------+------------------+-----------------+"
      ]
     },
     "metadata": {},
     "output_type": "display_data"
    },
    {
     "data": {
      "text/html": [
       "<pre>Finalizing lookup tables.</pre>"
      ],
      "text/plain": [
       "Finalizing lookup tables."
      ]
     },
     "metadata": {},
     "output_type": "display_data"
    },
    {
     "data": {
      "text/html": [
       "<pre>Generating candidate set for working with new users.</pre>"
      ],
      "text/plain": [
       "Generating candidate set for working with new users."
      ]
     },
     "metadata": {},
     "output_type": "display_data"
    },
    {
     "data": {
      "text/html": [
       "<pre>Finished training in 0.826563s</pre>"
      ],
      "text/plain": [
       "Finished training in 0.826563s"
      ]
     },
     "metadata": {},
     "output_type": "display_data"
    },
    {
     "name": "stdout",
     "output_type": "stream",
     "text": [
      "\n",
      "Precision and recall summary statistics by cutoff\n",
      "+--------+----------------+-----------------+\n",
      "| cutoff | mean_precision |   mean_recall   |\n",
      "+--------+----------------+-----------------+\n",
      "|   1    |      0.38      | 0.0208267705118 |\n",
      "|   2    |     0.335      | 0.0438321614798 |\n",
      "|   3    | 0.283333333333 |  0.051057268011 |\n",
      "|   4    |     0.265      | 0.0617081717272 |\n",
      "|   5    |     0.274      | 0.0726837375206 |\n",
      "|   6    |      0.26      | 0.0842223269207 |\n",
      "|   7    | 0.251428571429 | 0.0932756993268 |\n",
      "|   8    |    0.25125     |  0.106713494487 |\n",
      "|   9    | 0.243333333333 |  0.114673734717 |\n",
      "|   10   |     0.241      |  0.125310456482 |\n",
      "+--------+----------------+-----------------+\n",
      "[10 rows x 3 columns]\n",
      "\n",
      "('\\nOverall RMSE: ', 3.7549482470312285)\n",
      "\n",
      "Per User RMSE (best)\n",
      "+--------+-------+---------------+\n",
      "| userId | count |      rmse     |\n",
      "+--------+-------+---------------+\n",
      "|  325   |   5   | 2.31300670124 |\n",
      "+--------+-------+---------------+\n",
      "[1 rows x 3 columns]\n",
      "\n",
      "\n",
      "Per User RMSE (worst)\n",
      "+--------+-------+---------------+\n",
      "| userId | count |      rmse     |\n",
      "+--------+-------+---------------+\n",
      "|  546   |   15  | 4.80472642377 |\n",
      "+--------+-------+---------------+\n",
      "[1 rows x 3 columns]\n",
      "\n",
      "\n",
      "Per Item RMSE (best)\n",
      "+------------------+-------+----------------+\n",
      "|      title       | count |      rmse      |\n",
      "+------------------+-------+----------------+\n",
      "| Ring, The (2002) |   1   | 0.494207665475 |\n",
      "+------------------+-------+----------------+\n",
      "[1 rows x 3 columns]\n",
      "\n",
      "\n",
      "Per Item RMSE (worst)\n",
      "+-------------------------------+-------+------+\n",
      "|             title             | count | rmse |\n",
      "+-------------------------------+-------+------+\n",
      "| The Hobbit: The Battle of ... |   1   | 5.0  |\n",
      "+-------------------------------+-------+------+\n",
      "[1 rows x 3 columns]\n",
      "\n"
     ]
    },
    {
     "data": {
      "text/html": [
       "<pre>Recsys training: model = item_similarity</pre>"
      ],
      "text/plain": [
       "Recsys training: model = item_similarity"
      ]
     },
     "metadata": {},
     "output_type": "display_data"
    },
    {
     "data": {
      "text/html": [
       "<pre>Warning: Ignoring columns movieId, genres, genre_list;</pre>"
      ],
      "text/plain": [
       "Warning: Ignoring columns movieId, genres, genre_list;"
      ]
     },
     "metadata": {},
     "output_type": "display_data"
    },
    {
     "data": {
      "text/html": [
       "<pre>    To use these columns in scoring predictions, use a model that allows the use of additional features.</pre>"
      ],
      "text/plain": [
       "    To use these columns in scoring predictions, use a model that allows the use of additional features."
      ]
     },
     "metadata": {},
     "output_type": "display_data"
    },
    {
     "data": {
      "text/html": [
       "<pre>Preparing data set.</pre>"
      ],
      "text/plain": [
       "Preparing data set."
      ]
     },
     "metadata": {},
     "output_type": "display_data"
    },
    {
     "data": {
      "text/html": [
       "<pre>    Data has 96765 observations with 671 users and 8968 items.</pre>"
      ],
      "text/plain": [
       "    Data has 96765 observations with 671 users and 8968 items."
      ]
     },
     "metadata": {},
     "output_type": "display_data"
    },
    {
     "data": {
      "text/html": [
       "<pre>    Data prepared in: 0.224003s</pre>"
      ],
      "text/plain": [
       "    Data prepared in: 0.224003s"
      ]
     },
     "metadata": {},
     "output_type": "display_data"
    },
    {
     "data": {
      "text/html": [
       "<pre>Training model from provided data.</pre>"
      ],
      "text/plain": [
       "Training model from provided data."
      ]
     },
     "metadata": {},
     "output_type": "display_data"
    },
    {
     "data": {
      "text/html": [
       "<pre>Gathering per-item and per-user statistics.</pre>"
      ],
      "text/plain": [
       "Gathering per-item and per-user statistics."
      ]
     },
     "metadata": {},
     "output_type": "display_data"
    },
    {
     "data": {
      "text/html": [
       "<pre>+--------------------------------+------------+</pre>"
      ],
      "text/plain": [
       "+--------------------------------+------------+"
      ]
     },
     "metadata": {},
     "output_type": "display_data"
    },
    {
     "data": {
      "text/html": [
       "<pre>| Elapsed Time (Item Statistics) | % Complete |</pre>"
      ],
      "text/plain": [
       "| Elapsed Time (Item Statistics) | % Complete |"
      ]
     },
     "metadata": {},
     "output_type": "display_data"
    },
    {
     "data": {
      "text/html": [
       "<pre>+--------------------------------+------------+</pre>"
      ],
      "text/plain": [
       "+--------------------------------+------------+"
      ]
     },
     "metadata": {},
     "output_type": "display_data"
    },
    {
     "data": {
      "text/html": [
       "<pre>| 6.651ms                        | 100        |</pre>"
      ],
      "text/plain": [
       "| 6.651ms                        | 100        |"
      ]
     },
     "metadata": {},
     "output_type": "display_data"
    },
    {
     "data": {
      "text/html": [
       "<pre>+--------------------------------+------------+</pre>"
      ],
      "text/plain": [
       "+--------------------------------+------------+"
      ]
     },
     "metadata": {},
     "output_type": "display_data"
    },
    {
     "data": {
      "text/html": [
       "<pre>Setting up lookup tables.</pre>"
      ],
      "text/plain": [
       "Setting up lookup tables."
      ]
     },
     "metadata": {},
     "output_type": "display_data"
    },
    {
     "data": {
      "text/html": [
       "<pre>Processing data in one pass using dense lookup tables.</pre>"
      ],
      "text/plain": [
       "Processing data in one pass using dense lookup tables."
      ]
     },
     "metadata": {},
     "output_type": "display_data"
    },
    {
     "data": {
      "text/html": [
       "<pre>+-------------------------------------+------------------+-----------------+</pre>"
      ],
      "text/plain": [
       "+-------------------------------------+------------------+-----------------+"
      ]
     },
     "metadata": {},
     "output_type": "display_data"
    },
    {
     "data": {
      "text/html": [
       "<pre>| Elapsed Time (Constructing Lookups) | Total % Complete | Items Processed |</pre>"
      ],
      "text/plain": [
       "| Elapsed Time (Constructing Lookups) | Total % Complete | Items Processed |"
      ]
     },
     "metadata": {},
     "output_type": "display_data"
    },
    {
     "data": {
      "text/html": [
       "<pre>+-------------------------------------+------------------+-----------------+</pre>"
      ],
      "text/plain": [
       "+-------------------------------------+------------------+-----------------+"
      ]
     },
     "metadata": {},
     "output_type": "display_data"
    },
    {
     "data": {
      "text/html": [
       "<pre>| 208.957ms                           | 0                | 0               |</pre>"
      ],
      "text/plain": [
       "| 208.957ms                           | 0                | 0               |"
      ]
     },
     "metadata": {},
     "output_type": "display_data"
    },
    {
     "data": {
      "text/html": [
       "<pre>| 938.432ms                           | 100              | 8968            |</pre>"
      ],
      "text/plain": [
       "| 938.432ms                           | 100              | 8968            |"
      ]
     },
     "metadata": {},
     "output_type": "display_data"
    },
    {
     "data": {
      "text/html": [
       "<pre>+-------------------------------------+------------------+-----------------+</pre>"
      ],
      "text/plain": [
       "+-------------------------------------+------------------+-----------------+"
      ]
     },
     "metadata": {},
     "output_type": "display_data"
    },
    {
     "data": {
      "text/html": [
       "<pre>Finalizing lookup tables.</pre>"
      ],
      "text/plain": [
       "Finalizing lookup tables."
      ]
     },
     "metadata": {},
     "output_type": "display_data"
    },
    {
     "data": {
      "text/html": [
       "<pre>Generating candidate set for working with new users.</pre>"
      ],
      "text/plain": [
       "Generating candidate set for working with new users."
      ]
     },
     "metadata": {},
     "output_type": "display_data"
    },
    {
     "data": {
      "text/html": [
       "<pre>Finished training in 0.961813s</pre>"
      ],
      "text/plain": [
       "Finished training in 0.961813s"
      ]
     },
     "metadata": {},
     "output_type": "display_data"
    },
    {
     "name": "stdout",
     "output_type": "stream",
     "text": [
      "\n",
      "Precision and recall summary statistics by cutoff\n",
      "+--------+----------------+-----------------+\n",
      "| cutoff | mean_precision |   mean_recall   |\n",
      "+--------+----------------+-----------------+\n",
      "|   1    |      0.35      | 0.0259508253002 |\n",
      "|   2    |     0.335      | 0.0414113346385 |\n",
      "|   3    |      0.31      | 0.0500480262393 |\n",
      "|   4    |      0.29      | 0.0618395216552 |\n",
      "|   5    |     0.274      | 0.0672554172571 |\n",
      "|   6    | 0.266666666667 | 0.0794289423005 |\n",
      "|   7    | 0.264285714286 | 0.0894825678658 |\n",
      "|   8    |      0.26      |  0.102853665685 |\n",
      "|   9    | 0.257777777778 |  0.113356125664 |\n",
      "|   10   |     0.252      |  0.120544818357 |\n",
      "+--------+----------------+-----------------+\n",
      "[10 rows x 3 columns]\n",
      "\n",
      "('\\nOverall RMSE: ', 3.7014584060958375)\n",
      "\n",
      "Per User RMSE (best)\n",
      "+--------+-------+---------------+\n",
      "| userId | count |      rmse     |\n",
      "+--------+-------+---------------+\n",
      "|  317   |   4   | 2.07707311777 |\n",
      "+--------+-------+---------------+\n",
      "[1 rows x 3 columns]\n",
      "\n",
      "\n",
      "Per User RMSE (worst)\n",
      "+--------+-------+---------------+\n",
      "| userId | count |      rmse     |\n",
      "+--------+-------+---------------+\n",
      "|  546   |   15  | 4.71296883158 |\n",
      "+--------+-------+---------------+\n",
      "[1 rows x 3 columns]\n",
      "\n",
      "\n",
      "Per Item RMSE (best)\n",
      "+------------------+-------+----------------+\n",
      "|      title       | count |      rmse      |\n",
      "+------------------+-------+----------------+\n",
      "| Ring, The (2002) |   1   | 0.473512526112 |\n",
      "+------------------+-------+----------------+\n",
      "[1 rows x 3 columns]\n",
      "\n",
      "\n",
      "Per Item RMSE (worst)\n",
      "+-------------+-------+------+\n",
      "|    title    | count | rmse |\n",
      "+-------------+-------+------+\n",
      "| Kids (1995) |   1   | 5.0  |\n",
      "+-------------+-------+------+\n",
      "[1 rows x 3 columns]\n",
      "\n"
     ]
    },
    {
     "data": {
      "text/html": [
       "<pre>Recsys training: model = item_similarity</pre>"
      ],
      "text/plain": [
       "Recsys training: model = item_similarity"
      ]
     },
     "metadata": {},
     "output_type": "display_data"
    },
    {
     "data": {
      "text/html": [
       "<pre>Warning: Ignoring columns movieId, genres, genre_list;</pre>"
      ],
      "text/plain": [
       "Warning: Ignoring columns movieId, genres, genre_list;"
      ]
     },
     "metadata": {},
     "output_type": "display_data"
    },
    {
     "data": {
      "text/html": [
       "<pre>    To use these columns in scoring predictions, use a model that allows the use of additional features.</pre>"
      ],
      "text/plain": [
       "    To use these columns in scoring predictions, use a model that allows the use of additional features."
      ]
     },
     "metadata": {},
     "output_type": "display_data"
    },
    {
     "data": {
      "text/html": [
       "<pre>Preparing data set.</pre>"
      ],
      "text/plain": [
       "Preparing data set."
      ]
     },
     "metadata": {},
     "output_type": "display_data"
    },
    {
     "data": {
      "text/html": [
       "<pre>    Data has 96765 observations with 671 users and 8968 items.</pre>"
      ],
      "text/plain": [
       "    Data has 96765 observations with 671 users and 8968 items."
      ]
     },
     "metadata": {},
     "output_type": "display_data"
    },
    {
     "data": {
      "text/html": [
       "<pre>    Data prepared in: 0.235078s</pre>"
      ],
      "text/plain": [
       "    Data prepared in: 0.235078s"
      ]
     },
     "metadata": {},
     "output_type": "display_data"
    },
    {
     "data": {
      "text/html": [
       "<pre>Training model from provided data.</pre>"
      ],
      "text/plain": [
       "Training model from provided data."
      ]
     },
     "metadata": {},
     "output_type": "display_data"
    },
    {
     "data": {
      "text/html": [
       "<pre>Gathering per-item and per-user statistics.</pre>"
      ],
      "text/plain": [
       "Gathering per-item and per-user statistics."
      ]
     },
     "metadata": {},
     "output_type": "display_data"
    },
    {
     "data": {
      "text/html": [
       "<pre>+--------------------------------+------------+</pre>"
      ],
      "text/plain": [
       "+--------------------------------+------------+"
      ]
     },
     "metadata": {},
     "output_type": "display_data"
    },
    {
     "data": {
      "text/html": [
       "<pre>| Elapsed Time (Item Statistics) | % Complete |</pre>"
      ],
      "text/plain": [
       "| Elapsed Time (Item Statistics) | % Complete |"
      ]
     },
     "metadata": {},
     "output_type": "display_data"
    },
    {
     "data": {
      "text/html": [
       "<pre>+--------------------------------+------------+</pre>"
      ],
      "text/plain": [
       "+--------------------------------+------------+"
      ]
     },
     "metadata": {},
     "output_type": "display_data"
    },
    {
     "data": {
      "text/html": [
       "<pre>| 17.437ms                       | 100        |</pre>"
      ],
      "text/plain": [
       "| 17.437ms                       | 100        |"
      ]
     },
     "metadata": {},
     "output_type": "display_data"
    },
    {
     "data": {
      "text/html": [
       "<pre>+--------------------------------+------------+</pre>"
      ],
      "text/plain": [
       "+--------------------------------+------------+"
      ]
     },
     "metadata": {},
     "output_type": "display_data"
    },
    {
     "data": {
      "text/html": [
       "<pre>Setting up lookup tables.</pre>"
      ],
      "text/plain": [
       "Setting up lookup tables."
      ]
     },
     "metadata": {},
     "output_type": "display_data"
    },
    {
     "data": {
      "text/html": [
       "<pre>Processing data in one pass using dense lookup tables.</pre>"
      ],
      "text/plain": [
       "Processing data in one pass using dense lookup tables."
      ]
     },
     "metadata": {},
     "output_type": "display_data"
    },
    {
     "data": {
      "text/html": [
       "<pre>+-------------------------------------+------------------+-----------------+</pre>"
      ],
      "text/plain": [
       "+-------------------------------------+------------------+-----------------+"
      ]
     },
     "metadata": {},
     "output_type": "display_data"
    },
    {
     "data": {
      "text/html": [
       "<pre>| Elapsed Time (Constructing Lookups) | Total % Complete | Items Processed |</pre>"
      ],
      "text/plain": [
       "| Elapsed Time (Constructing Lookups) | Total % Complete | Items Processed |"
      ]
     },
     "metadata": {},
     "output_type": "display_data"
    },
    {
     "data": {
      "text/html": [
       "<pre>+-------------------------------------+------------------+-----------------+</pre>"
      ],
      "text/plain": [
       "+-------------------------------------+------------------+-----------------+"
      ]
     },
     "metadata": {},
     "output_type": "display_data"
    },
    {
     "data": {
      "text/html": [
       "<pre>| 207.399ms                           | 0                | 0               |</pre>"
      ],
      "text/plain": [
       "| 207.399ms                           | 0                | 0               |"
      ]
     },
     "metadata": {},
     "output_type": "display_data"
    },
    {
     "data": {
      "text/html": [
       "<pre>| 1.22s                               | 100              | 8968            |</pre>"
      ],
      "text/plain": [
       "| 1.22s                               | 100              | 8968            |"
      ]
     },
     "metadata": {},
     "output_type": "display_data"
    },
    {
     "data": {
      "text/html": [
       "<pre>+-------------------------------------+------------------+-----------------+</pre>"
      ],
      "text/plain": [
       "+-------------------------------------+------------------+-----------------+"
      ]
     },
     "metadata": {},
     "output_type": "display_data"
    },
    {
     "data": {
      "text/html": [
       "<pre>Finalizing lookup tables.</pre>"
      ],
      "text/plain": [
       "Finalizing lookup tables."
      ]
     },
     "metadata": {},
     "output_type": "display_data"
    },
    {
     "data": {
      "text/html": [
       "<pre>Generating candidate set for working with new users.</pre>"
      ],
      "text/plain": [
       "Generating candidate set for working with new users."
      ]
     },
     "metadata": {},
     "output_type": "display_data"
    },
    {
     "data": {
      "text/html": [
       "<pre>Finished training in 1.24517s</pre>"
      ],
      "text/plain": [
       "Finished training in 1.24517s"
      ]
     },
     "metadata": {},
     "output_type": "display_data"
    },
    {
     "name": "stdout",
     "output_type": "stream",
     "text": [
      "\n",
      "Precision and recall summary statistics by cutoff\n",
      "+--------+----------------+-------------+\n",
      "| cutoff | mean_precision | mean_recall |\n",
      "+--------+----------------+-------------+\n",
      "|   1    |      0.0       |     0.0     |\n",
      "|   2    |      0.0       |     0.0     |\n",
      "|   3    |      0.0       |     0.0     |\n",
      "|   4    |      0.0       |     0.0     |\n",
      "|   5    |      0.0       |     0.0     |\n",
      "|   6    |      0.0       |     0.0     |\n",
      "|   7    |      0.0       |     0.0     |\n",
      "|   8    |      0.0       |     0.0     |\n",
      "|   9    |      0.0       |     0.0     |\n",
      "|   10   |      0.0       |     0.0     |\n",
      "+--------+----------------+-------------+\n",
      "[10 rows x 3 columns]\n",
      "\n",
      "('\\nOverall RMSE: ', 1.1100248595666833)\n",
      "\n",
      "Per User RMSE (best)\n",
      "+--------+-------+----------------+\n",
      "| userId | count |      rmse      |\n",
      "+--------+-------+----------------+\n",
      "|   42   |   15  | 0.439292285156 |\n",
      "+--------+-------+----------------+\n",
      "[1 rows x 3 columns]\n",
      "\n",
      "\n",
      "Per User RMSE (worst)\n",
      "+--------+-------+---------------+\n",
      "| userId | count |      rmse     |\n",
      "+--------+-------+---------------+\n",
      "|  450   |   21  | 2.18452568573 |\n",
      "+--------+-------+---------------+\n",
      "[1 rows x 3 columns]\n",
      "\n",
      "\n",
      "Per Item RMSE (best)\n",
      "+------------------+-------+------+\n",
      "|      title       | count | rmse |\n",
      "+------------------+-------+------+\n",
      "| Trip, The (2010) |   1   | 0.0  |\n",
      "+------------------+-------+------+\n",
      "[1 rows x 3 columns]\n",
      "\n",
      "\n",
      "Per Item RMSE (worst)\n",
      "+--------------------------+-------+------+\n",
      "|          title           | count | rmse |\n",
      "+--------------------------+-------+------+\n",
      "| Schneider vs. Bax (2015) |   1   | 5.0  |\n",
      "+--------------------------+-------+------+\n",
      "[1 rows x 3 columns]\n",
      "\n"
     ]
    },
    {
     "data": {
      "text/html": [
       "<pre>Recsys training: model = item_similarity</pre>"
      ],
      "text/plain": [
       "Recsys training: model = item_similarity"
      ]
     },
     "metadata": {},
     "output_type": "display_data"
    },
    {
     "data": {
      "text/html": [
       "<pre>Warning: Ignoring columns movieId, genres, genre_list;</pre>"
      ],
      "text/plain": [
       "Warning: Ignoring columns movieId, genres, genre_list;"
      ]
     },
     "metadata": {},
     "output_type": "display_data"
    },
    {
     "data": {
      "text/html": [
       "<pre>    To use these columns in scoring predictions, use a model that allows the use of additional features.</pre>"
      ],
      "text/plain": [
       "    To use these columns in scoring predictions, use a model that allows the use of additional features."
      ]
     },
     "metadata": {},
     "output_type": "display_data"
    },
    {
     "data": {
      "text/html": [
       "<pre>Preparing data set.</pre>"
      ],
      "text/plain": [
       "Preparing data set."
      ]
     },
     "metadata": {},
     "output_type": "display_data"
    },
    {
     "data": {
      "text/html": [
       "<pre>    Data has 96765 observations with 671 users and 8968 items.</pre>"
      ],
      "text/plain": [
       "    Data has 96765 observations with 671 users and 8968 items."
      ]
     },
     "metadata": {},
     "output_type": "display_data"
    },
    {
     "data": {
      "text/html": [
       "<pre>    Data prepared in: 0.243828s</pre>"
      ],
      "text/plain": [
       "    Data prepared in: 0.243828s"
      ]
     },
     "metadata": {},
     "output_type": "display_data"
    },
    {
     "data": {
      "text/html": [
       "<pre>Training model from provided data.</pre>"
      ],
      "text/plain": [
       "Training model from provided data."
      ]
     },
     "metadata": {},
     "output_type": "display_data"
    },
    {
     "data": {
      "text/html": [
       "<pre>Gathering per-item and per-user statistics.</pre>"
      ],
      "text/plain": [
       "Gathering per-item and per-user statistics."
      ]
     },
     "metadata": {},
     "output_type": "display_data"
    },
    {
     "data": {
      "text/html": [
       "<pre>+--------------------------------+------------+</pre>"
      ],
      "text/plain": [
       "+--------------------------------+------------+"
      ]
     },
     "metadata": {},
     "output_type": "display_data"
    },
    {
     "data": {
      "text/html": [
       "<pre>| Elapsed Time (Item Statistics) | % Complete |</pre>"
      ],
      "text/plain": [
       "| Elapsed Time (Item Statistics) | % Complete |"
      ]
     },
     "metadata": {},
     "output_type": "display_data"
    },
    {
     "data": {
      "text/html": [
       "<pre>+--------------------------------+------------+</pre>"
      ],
      "text/plain": [
       "+--------------------------------+------------+"
      ]
     },
     "metadata": {},
     "output_type": "display_data"
    },
    {
     "data": {
      "text/html": [
       "<pre>| 15.568ms                       | 100        |</pre>"
      ],
      "text/plain": [
       "| 15.568ms                       | 100        |"
      ]
     },
     "metadata": {},
     "output_type": "display_data"
    },
    {
     "data": {
      "text/html": [
       "<pre>+--------------------------------+------------+</pre>"
      ],
      "text/plain": [
       "+--------------------------------+------------+"
      ]
     },
     "metadata": {},
     "output_type": "display_data"
    },
    {
     "data": {
      "text/html": [
       "<pre>Setting up lookup tables.</pre>"
      ],
      "text/plain": [
       "Setting up lookup tables."
      ]
     },
     "metadata": {},
     "output_type": "display_data"
    },
    {
     "data": {
      "text/html": [
       "<pre>Processing data in one pass using dense lookup tables.</pre>"
      ],
      "text/plain": [
       "Processing data in one pass using dense lookup tables."
      ]
     },
     "metadata": {},
     "output_type": "display_data"
    },
    {
     "data": {
      "text/html": [
       "<pre>+-------------------------------------+------------------+-----------------+</pre>"
      ],
      "text/plain": [
       "+-------------------------------------+------------------+-----------------+"
      ]
     },
     "metadata": {},
     "output_type": "display_data"
    },
    {
     "data": {
      "text/html": [
       "<pre>| Elapsed Time (Constructing Lookups) | Total % Complete | Items Processed |</pre>"
      ],
      "text/plain": [
       "| Elapsed Time (Constructing Lookups) | Total % Complete | Items Processed |"
      ]
     },
     "metadata": {},
     "output_type": "display_data"
    },
    {
     "data": {
      "text/html": [
       "<pre>+-------------------------------------+------------------+-----------------+</pre>"
      ],
      "text/plain": [
       "+-------------------------------------+------------------+-----------------+"
      ]
     },
     "metadata": {},
     "output_type": "display_data"
    },
    {
     "data": {
      "text/html": [
       "<pre>| 180.521ms                           | 0                | 0               |</pre>"
      ],
      "text/plain": [
       "| 180.521ms                           | 0                | 0               |"
      ]
     },
     "metadata": {},
     "output_type": "display_data"
    },
    {
     "data": {
      "text/html": [
       "<pre>| 924.307ms                           | 100              | 8968            |</pre>"
      ],
      "text/plain": [
       "| 924.307ms                           | 100              | 8968            |"
      ]
     },
     "metadata": {},
     "output_type": "display_data"
    },
    {
     "data": {
      "text/html": [
       "<pre>+-------------------------------------+------------------+-----------------+</pre>"
      ],
      "text/plain": [
       "+-------------------------------------+------------------+-----------------+"
      ]
     },
     "metadata": {},
     "output_type": "display_data"
    },
    {
     "data": {
      "text/html": [
       "<pre>Finalizing lookup tables.</pre>"
      ],
      "text/plain": [
       "Finalizing lookup tables."
      ]
     },
     "metadata": {},
     "output_type": "display_data"
    },
    {
     "data": {
      "text/html": [
       "<pre>Generating candidate set for working with new users.</pre>"
      ],
      "text/plain": [
       "Generating candidate set for working with new users."
      ]
     },
     "metadata": {},
     "output_type": "display_data"
    },
    {
     "data": {
      "text/html": [
       "<pre>Finished training in 0.971656s</pre>"
      ],
      "text/plain": [
       "Finished training in 0.971656s"
      ]
     },
     "metadata": {},
     "output_type": "display_data"
    },
    {
     "name": "stdout",
     "output_type": "stream",
     "text": [
      "\n",
      "Precision and recall summary statistics by cutoff\n",
      "+--------+----------------+-----------------+\n",
      "| cutoff | mean_precision |   mean_recall   |\n",
      "+--------+----------------+-----------------+\n",
      "|   1    |      0.32      | 0.0161314115984 |\n",
      "|   2    |      0.32      |  0.035762781039 |\n",
      "|   3    | 0.276666666667 | 0.0481951068647 |\n",
      "|   4    |     0.265      | 0.0577307612445 |\n",
      "|   5    |     0.268      | 0.0682813876696 |\n",
      "|   6    | 0.241666666667 | 0.0708890698244 |\n",
      "|   7    | 0.245714285714 | 0.0884297869359 |\n",
      "|   8    |     0.245      | 0.0997566963315 |\n",
      "|   9    |      0.24      |  0.11122593708  |\n",
      "|   10   |     0.234      |  0.121944604056 |\n",
      "+--------+----------------+-----------------+\n",
      "[10 rows x 3 columns]\n",
      "\n",
      "('\\nOverall RMSE: ', 3.751267330672374)\n",
      "\n",
      "Per User RMSE (best)\n",
      "+--------+-------+---------------+\n",
      "| userId | count |      rmse     |\n",
      "+--------+-------+---------------+\n",
      "|  325   |   5   | 2.31037102596 |\n",
      "+--------+-------+---------------+\n",
      "[1 rows x 3 columns]\n",
      "\n",
      "\n",
      "Per User RMSE (worst)\n",
      "+--------+-------+---------------+\n",
      "| userId | count |      rmse     |\n",
      "+--------+-------+---------------+\n",
      "|  546   |   15  | 4.79929017685 |\n",
      "+--------+-------+---------------+\n",
      "[1 rows x 3 columns]\n",
      "\n",
      "\n",
      "Per Item RMSE (best)\n",
      "+------------------+-------+----------------+\n",
      "|      title       | count |      rmse      |\n",
      "+------------------+-------+----------------+\n",
      "| Ring, The (2002) |   1   | 0.490047468983 |\n",
      "+------------------+-------+----------------+\n",
      "[1 rows x 3 columns]\n",
      "\n",
      "\n",
      "Per Item RMSE (worst)\n",
      "+----------------------------+-------+------+\n",
      "|           title            | count | rmse |\n",
      "+----------------------------+-------+------+\n",
      "| Mississippi Burning (1988) |   1   | 5.0  |\n",
      "+----------------------------+-------+------+\n",
      "[1 rows x 3 columns]\n",
      "\n"
     ]
    },
    {
     "data": {
      "text/html": [
       "<pre>Recsys training: model = item_similarity</pre>"
      ],
      "text/plain": [
       "Recsys training: model = item_similarity"
      ]
     },
     "metadata": {},
     "output_type": "display_data"
    },
    {
     "data": {
      "text/html": [
       "<pre>Warning: Ignoring columns movieId, title, genre_list;</pre>"
      ],
      "text/plain": [
       "Warning: Ignoring columns movieId, title, genre_list;"
      ]
     },
     "metadata": {},
     "output_type": "display_data"
    },
    {
     "data": {
      "text/html": [
       "<pre>    To use these columns in scoring predictions, use a model that allows the use of additional features.</pre>"
      ],
      "text/plain": [
       "    To use these columns in scoring predictions, use a model that allows the use of additional features."
      ]
     },
     "metadata": {},
     "output_type": "display_data"
    },
    {
     "data": {
      "text/html": [
       "<pre>Preparing data set.</pre>"
      ],
      "text/plain": [
       "Preparing data set."
      ]
     },
     "metadata": {},
     "output_type": "display_data"
    },
    {
     "data": {
      "text/html": [
       "<pre>    Data has 96765 observations with 671 users and 898 items.</pre>"
      ],
      "text/plain": [
       "    Data has 96765 observations with 671 users and 898 items."
      ]
     },
     "metadata": {},
     "output_type": "display_data"
    },
    {
     "data": {
      "text/html": [
       "<pre>    Data prepared in: 0.230035s</pre>"
      ],
      "text/plain": [
       "    Data prepared in: 0.230035s"
      ]
     },
     "metadata": {},
     "output_type": "display_data"
    },
    {
     "data": {
      "text/html": [
       "<pre>Training model from provided data.</pre>"
      ],
      "text/plain": [
       "Training model from provided data."
      ]
     },
     "metadata": {},
     "output_type": "display_data"
    },
    {
     "data": {
      "text/html": [
       "<pre>Gathering per-item and per-user statistics.</pre>"
      ],
      "text/plain": [
       "Gathering per-item and per-user statistics."
      ]
     },
     "metadata": {},
     "output_type": "display_data"
    },
    {
     "data": {
      "text/html": [
       "<pre>+--------------------------------+------------+</pre>"
      ],
      "text/plain": [
       "+--------------------------------+------------+"
      ]
     },
     "metadata": {},
     "output_type": "display_data"
    },
    {
     "data": {
      "text/html": [
       "<pre>| Elapsed Time (Item Statistics) | % Complete |</pre>"
      ],
      "text/plain": [
       "| Elapsed Time (Item Statistics) | % Complete |"
      ]
     },
     "metadata": {},
     "output_type": "display_data"
    },
    {
     "data": {
      "text/html": [
       "<pre>+--------------------------------+------------+</pre>"
      ],
      "text/plain": [
       "+--------------------------------+------------+"
      ]
     },
     "metadata": {},
     "output_type": "display_data"
    },
    {
     "data": {
      "text/html": [
       "<pre>| 3.684ms                        | 100        |</pre>"
      ],
      "text/plain": [
       "| 3.684ms                        | 100        |"
      ]
     },
     "metadata": {},
     "output_type": "display_data"
    },
    {
     "data": {
      "text/html": [
       "<pre>+--------------------------------+------------+</pre>"
      ],
      "text/plain": [
       "+--------------------------------+------------+"
      ]
     },
     "metadata": {},
     "output_type": "display_data"
    },
    {
     "data": {
      "text/html": [
       "<pre>Setting up lookup tables.</pre>"
      ],
      "text/plain": [
       "Setting up lookup tables."
      ]
     },
     "metadata": {},
     "output_type": "display_data"
    },
    {
     "data": {
      "text/html": [
       "<pre>Processing data in one pass using dense lookup tables.</pre>"
      ],
      "text/plain": [
       "Processing data in one pass using dense lookup tables."
      ]
     },
     "metadata": {},
     "output_type": "display_data"
    },
    {
     "data": {
      "text/html": [
       "<pre>+-------------------------------------+------------------+-----------------+</pre>"
      ],
      "text/plain": [
       "+-------------------------------------+------------------+-----------------+"
      ]
     },
     "metadata": {},
     "output_type": "display_data"
    },
    {
     "data": {
      "text/html": [
       "<pre>| Elapsed Time (Constructing Lookups) | Total % Complete | Items Processed |</pre>"
      ],
      "text/plain": [
       "| Elapsed Time (Constructing Lookups) | Total % Complete | Items Processed |"
      ]
     },
     "metadata": {},
     "output_type": "display_data"
    },
    {
     "data": {
      "text/html": [
       "<pre>+-------------------------------------+------------------+-----------------+</pre>"
      ],
      "text/plain": [
       "+-------------------------------------+------------------+-----------------+"
      ]
     },
     "metadata": {},
     "output_type": "display_data"
    },
    {
     "data": {
      "text/html": [
       "<pre>| 6.543ms                             | 0                | 0               |</pre>"
      ],
      "text/plain": [
       "| 6.543ms                             | 0                | 0               |"
      ]
     },
     "metadata": {},
     "output_type": "display_data"
    },
    {
     "data": {
      "text/html": [
       "<pre>| 52.11ms                             | 100              | 898             |</pre>"
      ],
      "text/plain": [
       "| 52.11ms                             | 100              | 898             |"
      ]
     },
     "metadata": {},
     "output_type": "display_data"
    },
    {
     "data": {
      "text/html": [
       "<pre>+-------------------------------------+------------------+-----------------+</pre>"
      ],
      "text/plain": [
       "+-------------------------------------+------------------+-----------------+"
      ]
     },
     "metadata": {},
     "output_type": "display_data"
    },
    {
     "data": {
      "text/html": [
       "<pre>Finalizing lookup tables.</pre>"
      ],
      "text/plain": [
       "Finalizing lookup tables."
      ]
     },
     "metadata": {},
     "output_type": "display_data"
    },
    {
     "data": {
      "text/html": [
       "<pre>Generating candidate set for working with new users.</pre>"
      ],
      "text/plain": [
       "Generating candidate set for working with new users."
      ]
     },
     "metadata": {},
     "output_type": "display_data"
    },
    {
     "data": {
      "text/html": [
       "<pre>Finished training in 0.06707s</pre>"
      ],
      "text/plain": [
       "Finished training in 0.06707s"
      ]
     },
     "metadata": {},
     "output_type": "display_data"
    },
    {
     "name": "stdout",
     "output_type": "stream",
     "text": [
      "\n",
      "Precision and recall summary statistics by cutoff\n",
      "+--------+----------------+-----------------+\n",
      "| cutoff | mean_precision |   mean_recall   |\n",
      "+--------+----------------+-----------------+\n",
      "|   1    |      0.28      | 0.0218366469005 |\n",
      "|   2    |     0.295      | 0.0455599094714 |\n",
      "|   3    | 0.273333333333 | 0.0611438284914 |\n",
      "|   4    |     0.2625     | 0.0729161775849 |\n",
      "|   5    |     0.264      | 0.0919310063423 |\n",
      "|   6    | 0.248333333333 |  0.100008847399 |\n",
      "|   7    | 0.227142857143 |  0.104336159845 |\n",
      "|   8    |     0.215      |  0.107458204915 |\n",
      "|   9    | 0.206666666667 |  0.116493243466 |\n",
      "|   10   |      0.2       |  0.123919019687 |\n",
      "+--------+----------------+-----------------+\n",
      "[10 rows x 3 columns]\n",
      "\n",
      "('\\nOverall RMSE: ', 3.5967213851128492)\n",
      "\n",
      "Per User RMSE (best)\n",
      "+--------+-------+---------------+\n",
      "| userId | count |      rmse     |\n",
      "+--------+-------+---------------+\n",
      "|  325   |   5   | 2.31300670124 |\n",
      "+--------+-------+---------------+\n",
      "[1 rows x 3 columns]\n",
      "\n",
      "\n",
      "Per User RMSE (worst)\n",
      "+--------+-------+---------------+\n",
      "| userId | count |      rmse     |\n",
      "+--------+-------+---------------+\n",
      "|  546   |   15  | 4.66500889581 |\n",
      "+--------+-------+---------------+\n",
      "[1 rows x 3 columns]\n",
      "\n",
      "\n",
      "Per Item RMSE (best)\n",
      "+------------------------------+-------+----------------+\n",
      "|            genres            | count |      rmse      |\n",
      "+------------------------------+-------+----------------+\n",
      "| Action|Fantasy|Thriller|IMAX |   1   | 0.481315676983 |\n",
      "+------------------------------+-------+----------------+\n",
      "[1 rows x 3 columns]\n",
      "\n",
      "\n",
      "Per Item RMSE (worst)\n",
      "+-----------------------+-------+------+\n",
      "|         genres        | count | rmse |\n",
      "+-----------------------+-------+------+\n",
      "| Drama|Fantasy|Mystery |   2   | 5.0  |\n",
      "+-----------------------+-------+------+\n",
      "[1 rows x 3 columns]\n",
      "\n"
     ]
    },
    {
     "data": {
      "text/html": [
       "<pre>Recsys training: model = item_similarity</pre>"
      ],
      "text/plain": [
       "Recsys training: model = item_similarity"
      ]
     },
     "metadata": {},
     "output_type": "display_data"
    },
    {
     "data": {
      "text/html": [
       "<pre>Warning: Ignoring columns movieId, title, genre_list;</pre>"
      ],
      "text/plain": [
       "Warning: Ignoring columns movieId, title, genre_list;"
      ]
     },
     "metadata": {},
     "output_type": "display_data"
    },
    {
     "data": {
      "text/html": [
       "<pre>    To use these columns in scoring predictions, use a model that allows the use of additional features.</pre>"
      ],
      "text/plain": [
       "    To use these columns in scoring predictions, use a model that allows the use of additional features."
      ]
     },
     "metadata": {},
     "output_type": "display_data"
    },
    {
     "data": {
      "text/html": [
       "<pre>Preparing data set.</pre>"
      ],
      "text/plain": [
       "Preparing data set."
      ]
     },
     "metadata": {},
     "output_type": "display_data"
    },
    {
     "data": {
      "text/html": [
       "<pre>    Data has 96765 observations with 671 users and 898 items.</pre>"
      ],
      "text/plain": [
       "    Data has 96765 observations with 671 users and 898 items."
      ]
     },
     "metadata": {},
     "output_type": "display_data"
    },
    {
     "data": {
      "text/html": [
       "<pre>    Data prepared in: 0.194847s</pre>"
      ],
      "text/plain": [
       "    Data prepared in: 0.194847s"
      ]
     },
     "metadata": {},
     "output_type": "display_data"
    },
    {
     "data": {
      "text/html": [
       "<pre>Training model from provided data.</pre>"
      ],
      "text/plain": [
       "Training model from provided data."
      ]
     },
     "metadata": {},
     "output_type": "display_data"
    },
    {
     "data": {
      "text/html": [
       "<pre>Gathering per-item and per-user statistics.</pre>"
      ],
      "text/plain": [
       "Gathering per-item and per-user statistics."
      ]
     },
     "metadata": {},
     "output_type": "display_data"
    },
    {
     "data": {
      "text/html": [
       "<pre>+--------------------------------+------------+</pre>"
      ],
      "text/plain": [
       "+--------------------------------+------------+"
      ]
     },
     "metadata": {},
     "output_type": "display_data"
    },
    {
     "data": {
      "text/html": [
       "<pre>| Elapsed Time (Item Statistics) | % Complete |</pre>"
      ],
      "text/plain": [
       "| Elapsed Time (Item Statistics) | % Complete |"
      ]
     },
     "metadata": {},
     "output_type": "display_data"
    },
    {
     "data": {
      "text/html": [
       "<pre>+--------------------------------+------------+</pre>"
      ],
      "text/plain": [
       "+--------------------------------+------------+"
      ]
     },
     "metadata": {},
     "output_type": "display_data"
    },
    {
     "data": {
      "text/html": [
       "<pre>| 3.857ms                        | 100        |</pre>"
      ],
      "text/plain": [
       "| 3.857ms                        | 100        |"
      ]
     },
     "metadata": {},
     "output_type": "display_data"
    },
    {
     "data": {
      "text/html": [
       "<pre>+--------------------------------+------------+</pre>"
      ],
      "text/plain": [
       "+--------------------------------+------------+"
      ]
     },
     "metadata": {},
     "output_type": "display_data"
    },
    {
     "data": {
      "text/html": [
       "<pre>Setting up lookup tables.</pre>"
      ],
      "text/plain": [
       "Setting up lookup tables."
      ]
     },
     "metadata": {},
     "output_type": "display_data"
    },
    {
     "data": {
      "text/html": [
       "<pre>Processing data in one pass using dense lookup tables.</pre>"
      ],
      "text/plain": [
       "Processing data in one pass using dense lookup tables."
      ]
     },
     "metadata": {},
     "output_type": "display_data"
    },
    {
     "data": {
      "text/html": [
       "<pre>+-------------------------------------+------------------+-----------------+</pre>"
      ],
      "text/plain": [
       "+-------------------------------------+------------------+-----------------+"
      ]
     },
     "metadata": {},
     "output_type": "display_data"
    },
    {
     "data": {
      "text/html": [
       "<pre>| Elapsed Time (Constructing Lookups) | Total % Complete | Items Processed |</pre>"
      ],
      "text/plain": [
       "| Elapsed Time (Constructing Lookups) | Total % Complete | Items Processed |"
      ]
     },
     "metadata": {},
     "output_type": "display_data"
    },
    {
     "data": {
      "text/html": [
       "<pre>+-------------------------------------+------------------+-----------------+</pre>"
      ],
      "text/plain": [
       "+-------------------------------------+------------------+-----------------+"
      ]
     },
     "metadata": {},
     "output_type": "display_data"
    },
    {
     "data": {
      "text/html": [
       "<pre>| 7.173ms                             | 0                | 0               |</pre>"
      ],
      "text/plain": [
       "| 7.173ms                             | 0                | 0               |"
      ]
     },
     "metadata": {},
     "output_type": "display_data"
    },
    {
     "data": {
      "text/html": [
       "<pre>| 114.193ms                           | 100              | 898             |</pre>"
      ],
      "text/plain": [
       "| 114.193ms                           | 100              | 898             |"
      ]
     },
     "metadata": {},
     "output_type": "display_data"
    },
    {
     "data": {
      "text/html": [
       "<pre>+-------------------------------------+------------------+-----------------+</pre>"
      ],
      "text/plain": [
       "+-------------------------------------+------------------+-----------------+"
      ]
     },
     "metadata": {},
     "output_type": "display_data"
    },
    {
     "data": {
      "text/html": [
       "<pre>Finalizing lookup tables.</pre>"
      ],
      "text/plain": [
       "Finalizing lookup tables."
      ]
     },
     "metadata": {},
     "output_type": "display_data"
    },
    {
     "data": {
      "text/html": [
       "<pre>Generating candidate set for working with new users.</pre>"
      ],
      "text/plain": [
       "Generating candidate set for working with new users."
      ]
     },
     "metadata": {},
     "output_type": "display_data"
    },
    {
     "data": {
      "text/html": [
       "<pre>Finished training in 0.130202s</pre>"
      ],
      "text/plain": [
       "Finished training in 0.130202s"
      ]
     },
     "metadata": {},
     "output_type": "display_data"
    },
    {
     "name": "stdout",
     "output_type": "stream",
     "text": [
      "\n",
      "Precision and recall summary statistics by cutoff\n",
      "+--------+----------------+-------------+\n",
      "| cutoff | mean_precision | mean_recall |\n",
      "+--------+----------------+-------------+\n",
      "|   1    |      0.0       |     0.0     |\n",
      "|   2    |      0.0       |     0.0     |\n",
      "|   3    |      0.0       |     0.0     |\n",
      "|   4    |      0.0       |     0.0     |\n",
      "|   5    |      0.0       |     0.0     |\n",
      "|   6    |      0.0       |     0.0     |\n",
      "|   7    |      0.0       |     0.0     |\n",
      "|   8    |      0.0       |     0.0     |\n",
      "|   9    |      0.0       |     0.0     |\n",
      "|   10   |      0.0       |     0.0     |\n",
      "+--------+----------------+-------------+\n",
      "[10 rows x 3 columns]\n",
      "\n",
      "('\\nOverall RMSE: ', 0.9782724818862618)\n",
      "\n",
      "Per User RMSE (best)\n",
      "+--------+-------+----------------+\n",
      "| userId | count |      rmse      |\n",
      "+--------+-------+----------------+\n",
      "|  506   |   2   | 0.425869749275 |\n",
      "+--------+-------+----------------+\n",
      "[1 rows x 3 columns]\n",
      "\n",
      "\n",
      "Per User RMSE (worst)\n",
      "+--------+-------+---------------+\n",
      "| userId | count |      rmse     |\n",
      "+--------+-------+---------------+\n",
      "|  315   |   9   | 1.91439120497 |\n",
      "+--------+-------+---------------+\n",
      "[1 rows x 3 columns]\n",
      "\n",
      "\n",
      "Per Item RMSE (best)\n",
      "+-----------+-------+-----------------+\n",
      "|   genres  | count |       rmse      |\n",
      "+-----------+-------+-----------------+\n",
      "| Adventure |   1   | 0.0238095238095 |\n",
      "+-----------+-------+-----------------+\n",
      "[1 rows x 3 columns]\n",
      "\n",
      "\n",
      "Per Item RMSE (worst)\n",
      "+-------------------------------+-------+------+\n",
      "|             genres            | count | rmse |\n",
      "+-------------------------------+-------+------+\n",
      "| Drama|Fantasy|Musical|Myst... |   1   | 5.0  |\n",
      "+-------------------------------+-------+------+\n",
      "[1 rows x 3 columns]\n",
      "\n"
     ]
    },
    {
     "data": {
      "text/html": [
       "<pre>Recsys training: model = item_similarity</pre>"
      ],
      "text/plain": [
       "Recsys training: model = item_similarity"
      ]
     },
     "metadata": {},
     "output_type": "display_data"
    },
    {
     "data": {
      "text/html": [
       "<pre>Warning: Ignoring columns movieId, title, genre_list;</pre>"
      ],
      "text/plain": [
       "Warning: Ignoring columns movieId, title, genre_list;"
      ]
     },
     "metadata": {},
     "output_type": "display_data"
    },
    {
     "data": {
      "text/html": [
       "<pre>    To use these columns in scoring predictions, use a model that allows the use of additional features.</pre>"
      ],
      "text/plain": [
       "    To use these columns in scoring predictions, use a model that allows the use of additional features."
      ]
     },
     "metadata": {},
     "output_type": "display_data"
    },
    {
     "data": {
      "text/html": [
       "<pre>Preparing data set.</pre>"
      ],
      "text/plain": [
       "Preparing data set."
      ]
     },
     "metadata": {},
     "output_type": "display_data"
    },
    {
     "data": {
      "text/html": [
       "<pre>    Data has 96765 observations with 671 users and 898 items.</pre>"
      ],
      "text/plain": [
       "    Data has 96765 observations with 671 users and 898 items."
      ]
     },
     "metadata": {},
     "output_type": "display_data"
    },
    {
     "data": {
      "text/html": [
       "<pre>    Data prepared in: 0.196928s</pre>"
      ],
      "text/plain": [
       "    Data prepared in: 0.196928s"
      ]
     },
     "metadata": {},
     "output_type": "display_data"
    },
    {
     "data": {
      "text/html": [
       "<pre>Training model from provided data.</pre>"
      ],
      "text/plain": [
       "Training model from provided data."
      ]
     },
     "metadata": {},
     "output_type": "display_data"
    },
    {
     "data": {
      "text/html": [
       "<pre>Gathering per-item and per-user statistics.</pre>"
      ],
      "text/plain": [
       "Gathering per-item and per-user statistics."
      ]
     },
     "metadata": {},
     "output_type": "display_data"
    },
    {
     "data": {
      "text/html": [
       "<pre>+--------------------------------+------------+</pre>"
      ],
      "text/plain": [
       "+--------------------------------+------------+"
      ]
     },
     "metadata": {},
     "output_type": "display_data"
    },
    {
     "data": {
      "text/html": [
       "<pre>| Elapsed Time (Item Statistics) | % Complete |</pre>"
      ],
      "text/plain": [
       "| Elapsed Time (Item Statistics) | % Complete |"
      ]
     },
     "metadata": {},
     "output_type": "display_data"
    },
    {
     "data": {
      "text/html": [
       "<pre>+--------------------------------+------------+</pre>"
      ],
      "text/plain": [
       "+--------------------------------+------------+"
      ]
     },
     "metadata": {},
     "output_type": "display_data"
    },
    {
     "data": {
      "text/html": [
       "<pre>| 2.527ms                        | 100        |</pre>"
      ],
      "text/plain": [
       "| 2.527ms                        | 100        |"
      ]
     },
     "metadata": {},
     "output_type": "display_data"
    },
    {
     "data": {
      "text/html": [
       "<pre>+--------------------------------+------------+</pre>"
      ],
      "text/plain": [
       "+--------------------------------+------------+"
      ]
     },
     "metadata": {},
     "output_type": "display_data"
    },
    {
     "data": {
      "text/html": [
       "<pre>Setting up lookup tables.</pre>"
      ],
      "text/plain": [
       "Setting up lookup tables."
      ]
     },
     "metadata": {},
     "output_type": "display_data"
    },
    {
     "data": {
      "text/html": [
       "<pre>Processing data in one pass using dense lookup tables.</pre>"
      ],
      "text/plain": [
       "Processing data in one pass using dense lookup tables."
      ]
     },
     "metadata": {},
     "output_type": "display_data"
    },
    {
     "data": {
      "text/html": [
       "<pre>+-------------------------------------+------------------+-----------------+</pre>"
      ],
      "text/plain": [
       "+-------------------------------------+------------------+-----------------+"
      ]
     },
     "metadata": {},
     "output_type": "display_data"
    },
    {
     "data": {
      "text/html": [
       "<pre>| Elapsed Time (Constructing Lookups) | Total % Complete | Items Processed |</pre>"
      ],
      "text/plain": [
       "| Elapsed Time (Constructing Lookups) | Total % Complete | Items Processed |"
      ]
     },
     "metadata": {},
     "output_type": "display_data"
    },
    {
     "data": {
      "text/html": [
       "<pre>+-------------------------------------+------------------+-----------------+</pre>"
      ],
      "text/plain": [
       "+-------------------------------------+------------------+-----------------+"
      ]
     },
     "metadata": {},
     "output_type": "display_data"
    },
    {
     "data": {
      "text/html": [
       "<pre>| 5.249ms                             | 0                | 0               |</pre>"
      ],
      "text/plain": [
       "| 5.249ms                             | 0                | 0               |"
      ]
     },
     "metadata": {},
     "output_type": "display_data"
    },
    {
     "data": {
      "text/html": [
       "<pre>| 52.243ms                            | 100              | 898             |</pre>"
      ],
      "text/plain": [
       "| 52.243ms                            | 100              | 898             |"
      ]
     },
     "metadata": {},
     "output_type": "display_data"
    },
    {
     "data": {
      "text/html": [
       "<pre>+-------------------------------------+------------------+-----------------+</pre>"
      ],
      "text/plain": [
       "+-------------------------------------+------------------+-----------------+"
      ]
     },
     "metadata": {},
     "output_type": "display_data"
    },
    {
     "data": {
      "text/html": [
       "<pre>Finalizing lookup tables.</pre>"
      ],
      "text/plain": [
       "Finalizing lookup tables."
      ]
     },
     "metadata": {},
     "output_type": "display_data"
    },
    {
     "data": {
      "text/html": [
       "<pre>Generating candidate set for working with new users.</pre>"
      ],
      "text/plain": [
       "Generating candidate set for working with new users."
      ]
     },
     "metadata": {},
     "output_type": "display_data"
    },
    {
     "data": {
      "text/html": [
       "<pre>Finished training in 0.067105s</pre>"
      ],
      "text/plain": [
       "Finished training in 0.067105s"
      ]
     },
     "metadata": {},
     "output_type": "display_data"
    },
    {
     "name": "stdout",
     "output_type": "stream",
     "text": [
      "\n",
      "Precision and recall summary statistics by cutoff\n",
      "+--------+----------------+-----------------+\n",
      "| cutoff | mean_precision |   mean_recall   |\n",
      "+--------+----------------+-----------------+\n",
      "|   1    |      0.22      | 0.0144872142458 |\n",
      "|   2    |      0.24      | 0.0330817578676 |\n",
      "|   3    |      0.26      | 0.0566695201041 |\n",
      "|   4    |     0.2575     | 0.0749072454544 |\n",
      "|   5    |      0.24      | 0.0846055284403 |\n",
      "|   6    |      0.23      | 0.0915673861374 |\n",
      "|   7    | 0.217142857143 |  0.098354946771 |\n",
      "|   8    |    0.20375     |  0.102463001849 |\n",
      "|   9    |      0.2       |  0.109694436283 |\n",
      "|   10   |     0.193      |  0.117125244507 |\n",
      "+--------+----------------+-----------------+\n",
      "[10 rows x 3 columns]\n",
      "\n",
      "('\\nOverall RMSE: ', 3.7338473413161495)\n",
      "\n",
      "Per User RMSE (best)\n",
      "+--------+-------+---------------+\n",
      "| userId | count |      rmse     |\n",
      "+--------+-------+---------------+\n",
      "|  325   |   5   | 2.31300670124 |\n",
      "+--------+-------+---------------+\n",
      "[1 rows x 3 columns]\n",
      "\n",
      "\n",
      "Per User RMSE (worst)\n",
      "+--------+-------+---------------+\n",
      "| userId | count |      rmse     |\n",
      "+--------+-------+---------------+\n",
      "|  546   |   15  | 4.78389088048 |\n",
      "+--------+-------+---------------+\n",
      "[1 rows x 3 columns]\n",
      "\n",
      "\n",
      "Per Item RMSE (best)\n",
      "+------------------------------+-------+----------------+\n",
      "|            genres            | count |      rmse      |\n",
      "+------------------------------+-------+----------------+\n",
      "| Action|Fantasy|Thriller|IMAX |   1   | 0.496794871795 |\n",
      "+------------------------------+-------+----------------+\n",
      "[1 rows x 3 columns]\n",
      "\n",
      "\n",
      "Per Item RMSE (worst)\n",
      "+-----------------------+-------+------+\n",
      "|         genres        | count | rmse |\n",
      "+-----------------------+-------+------+\n",
      "| Adventure|Documentary |   1   | 5.0  |\n",
      "+-----------------------+-------+------+\n",
      "[1 rows x 3 columns]\n",
      "\n"
     ]
    },
    {
     "data": {
      "text/html": [
       "<pre>Recsys training: model = item_similarity</pre>"
      ],
      "text/plain": [
       "Recsys training: model = item_similarity"
      ]
     },
     "metadata": {},
     "output_type": "display_data"
    },
    {
     "data": {
      "text/html": [
       "<pre>Warning: Ignoring columns movieId, title, genre_list;</pre>"
      ],
      "text/plain": [
       "Warning: Ignoring columns movieId, title, genre_list;"
      ]
     },
     "metadata": {},
     "output_type": "display_data"
    },
    {
     "data": {
      "text/html": [
       "<pre>    To use these columns in scoring predictions, use a model that allows the use of additional features.</pre>"
      ],
      "text/plain": [
       "    To use these columns in scoring predictions, use a model that allows the use of additional features."
      ]
     },
     "metadata": {},
     "output_type": "display_data"
    },
    {
     "data": {
      "text/html": [
       "<pre>Preparing data set.</pre>"
      ],
      "text/plain": [
       "Preparing data set."
      ]
     },
     "metadata": {},
     "output_type": "display_data"
    },
    {
     "data": {
      "text/html": [
       "<pre>    Data has 96765 observations with 671 users and 898 items.</pre>"
      ],
      "text/plain": [
       "    Data has 96765 observations with 671 users and 898 items."
      ]
     },
     "metadata": {},
     "output_type": "display_data"
    },
    {
     "data": {
      "text/html": [
       "<pre>    Data prepared in: 0.207109s</pre>"
      ],
      "text/plain": [
       "    Data prepared in: 0.207109s"
      ]
     },
     "metadata": {},
     "output_type": "display_data"
    },
    {
     "data": {
      "text/html": [
       "<pre>Training model from provided data.</pre>"
      ],
      "text/plain": [
       "Training model from provided data."
      ]
     },
     "metadata": {},
     "output_type": "display_data"
    },
    {
     "data": {
      "text/html": [
       "<pre>Gathering per-item and per-user statistics.</pre>"
      ],
      "text/plain": [
       "Gathering per-item and per-user statistics."
      ]
     },
     "metadata": {},
     "output_type": "display_data"
    },
    {
     "data": {
      "text/html": [
       "<pre>+--------------------------------+------------+</pre>"
      ],
      "text/plain": [
       "+--------------------------------+------------+"
      ]
     },
     "metadata": {},
     "output_type": "display_data"
    },
    {
     "data": {
      "text/html": [
       "<pre>| Elapsed Time (Item Statistics) | % Complete |</pre>"
      ],
      "text/plain": [
       "| Elapsed Time (Item Statistics) | % Complete |"
      ]
     },
     "metadata": {},
     "output_type": "display_data"
    },
    {
     "data": {
      "text/html": [
       "<pre>+--------------------------------+------------+</pre>"
      ],
      "text/plain": [
       "+--------------------------------+------------+"
      ]
     },
     "metadata": {},
     "output_type": "display_data"
    },
    {
     "data": {
      "text/html": [
       "<pre>| 3.211ms                        | 100        |</pre>"
      ],
      "text/plain": [
       "| 3.211ms                        | 100        |"
      ]
     },
     "metadata": {},
     "output_type": "display_data"
    },
    {
     "data": {
      "text/html": [
       "<pre>+--------------------------------+------------+</pre>"
      ],
      "text/plain": [
       "+--------------------------------+------------+"
      ]
     },
     "metadata": {},
     "output_type": "display_data"
    },
    {
     "data": {
      "text/html": [
       "<pre>Setting up lookup tables.</pre>"
      ],
      "text/plain": [
       "Setting up lookup tables."
      ]
     },
     "metadata": {},
     "output_type": "display_data"
    },
    {
     "data": {
      "text/html": [
       "<pre>Processing data in one pass using dense lookup tables.</pre>"
      ],
      "text/plain": [
       "Processing data in one pass using dense lookup tables."
      ]
     },
     "metadata": {},
     "output_type": "display_data"
    },
    {
     "data": {
      "text/html": [
       "<pre>+-------------------------------------+------------------+-----------------+</pre>"
      ],
      "text/plain": [
       "+-------------------------------------+------------------+-----------------+"
      ]
     },
     "metadata": {},
     "output_type": "display_data"
    },
    {
     "data": {
      "text/html": [
       "<pre>| Elapsed Time (Constructing Lookups) | Total % Complete | Items Processed |</pre>"
      ],
      "text/plain": [
       "| Elapsed Time (Constructing Lookups) | Total % Complete | Items Processed |"
      ]
     },
     "metadata": {},
     "output_type": "display_data"
    },
    {
     "data": {
      "text/html": [
       "<pre>+-------------------------------------+------------------+-----------------+</pre>"
      ],
      "text/plain": [
       "+-------------------------------------+------------------+-----------------+"
      ]
     },
     "metadata": {},
     "output_type": "display_data"
    },
    {
     "data": {
      "text/html": [
       "<pre>| 6.091ms                             | 0                | 0               |</pre>"
      ],
      "text/plain": [
       "| 6.091ms                             | 0                | 0               |"
      ]
     },
     "metadata": {},
     "output_type": "display_data"
    },
    {
     "data": {
      "text/html": [
       "<pre>| 59.773ms                            | 100              | 898             |</pre>"
      ],
      "text/plain": [
       "| 59.773ms                            | 100              | 898             |"
      ]
     },
     "metadata": {},
     "output_type": "display_data"
    },
    {
     "data": {
      "text/html": [
       "<pre>+-------------------------------------+------------------+-----------------+</pre>"
      ],
      "text/plain": [
       "+-------------------------------------+------------------+-----------------+"
      ]
     },
     "metadata": {},
     "output_type": "display_data"
    },
    {
     "data": {
      "text/html": [
       "<pre>Finalizing lookup tables.</pre>"
      ],
      "text/plain": [
       "Finalizing lookup tables."
      ]
     },
     "metadata": {},
     "output_type": "display_data"
    },
    {
     "data": {
      "text/html": [
       "<pre>Generating candidate set for working with new users.</pre>"
      ],
      "text/plain": [
       "Generating candidate set for working with new users."
      ]
     },
     "metadata": {},
     "output_type": "display_data"
    },
    {
     "data": {
      "text/html": [
       "<pre>Finished training in 0.072934s</pre>"
      ],
      "text/plain": [
       "Finished training in 0.072934s"
      ]
     },
     "metadata": {},
     "output_type": "display_data"
    },
    {
     "name": "stdout",
     "output_type": "stream",
     "text": [
      "\n",
      "Precision and recall summary statistics by cutoff\n",
      "+--------+----------------+-----------------+\n",
      "| cutoff | mean_precision |   mean_recall   |\n",
      "+--------+----------------+-----------------+\n",
      "|   1    |      0.31      | 0.0203676186483 |\n",
      "|   2    |     0.315      | 0.0392860459445 |\n",
      "|   3    | 0.303333333333 |  0.06528151363  |\n",
      "|   4    |     0.2675     | 0.0732803249705 |\n",
      "|   5    |     0.252      |  0.083273092545 |\n",
      "|   6    | 0.233333333333 | 0.0884412852969 |\n",
      "|   7    | 0.225714285714 | 0.0972678555607 |\n",
      "|   8    |     0.225      |  0.107122871672 |\n",
      "|   9    | 0.215555555556 |  0.112919140309 |\n",
      "|   10   |     0.211      |  0.121271136335 |\n",
      "+--------+----------------+-----------------+\n",
      "[10 rows x 3 columns]\n",
      "\n",
      "('\\nOverall RMSE: ', 3.398941320889276)\n",
      "\n",
      "Per User RMSE (best)\n",
      "+--------+-------+---------------+\n",
      "| userId | count |      rmse     |\n",
      "+--------+-------+---------------+\n",
      "|  657   |   5   | 2.11604736496 |\n",
      "+--------+-------+---------------+\n",
      "[1 rows x 3 columns]\n",
      "\n",
      "\n",
      "Per User RMSE (worst)\n",
      "+--------+-------+---------------+\n",
      "| userId | count |      rmse     |\n",
      "+--------+-------+---------------+\n",
      "|  546   |   15  | 4.50669701747 |\n",
      "+--------+-------+---------------+\n",
      "[1 rows x 3 columns]\n",
      "\n",
      "\n",
      "Per Item RMSE (best)\n",
      "+------------------------------+-------+----------------+\n",
      "|            genres            | count |      rmse      |\n",
      "+------------------------------+-------+----------------+\n",
      "| Action|Fantasy|Thriller|IMAX |   1   | 0.481315676983 |\n",
      "+------------------------------+-------+----------------+\n",
      "[1 rows x 3 columns]\n",
      "\n",
      "\n",
      "Per Item RMSE (worst)\n",
      "+-----------------------+-------+------+\n",
      "|         genres        | count | rmse |\n",
      "+-----------------------+-------+------+\n",
      "| Drama|Fantasy|Mystery |   2   | 5.0  |\n",
      "+-----------------------+-------+------+\n",
      "[1 rows x 3 columns]\n",
      "\n"
     ]
    },
    {
     "data": {
      "text/html": [
       "<pre>Recsys training: model = item_similarity</pre>"
      ],
      "text/plain": [
       "Recsys training: model = item_similarity"
      ]
     },
     "metadata": {},
     "output_type": "display_data"
    },
    {
     "data": {
      "text/html": [
       "<pre>Warning: Ignoring columns movieId, title, genre_list;</pre>"
      ],
      "text/plain": [
       "Warning: Ignoring columns movieId, title, genre_list;"
      ]
     },
     "metadata": {},
     "output_type": "display_data"
    },
    {
     "data": {
      "text/html": [
       "<pre>    To use these columns in scoring predictions, use a model that allows the use of additional features.</pre>"
      ],
      "text/plain": [
       "    To use these columns in scoring predictions, use a model that allows the use of additional features."
      ]
     },
     "metadata": {},
     "output_type": "display_data"
    },
    {
     "data": {
      "text/html": [
       "<pre>Preparing data set.</pre>"
      ],
      "text/plain": [
       "Preparing data set."
      ]
     },
     "metadata": {},
     "output_type": "display_data"
    },
    {
     "data": {
      "text/html": [
       "<pre>    Data has 96765 observations with 671 users and 898 items.</pre>"
      ],
      "text/plain": [
       "    Data has 96765 observations with 671 users and 898 items."
      ]
     },
     "metadata": {},
     "output_type": "display_data"
    },
    {
     "data": {
      "text/html": [
       "<pre>    Data prepared in: 0.202889s</pre>"
      ],
      "text/plain": [
       "    Data prepared in: 0.202889s"
      ]
     },
     "metadata": {},
     "output_type": "display_data"
    },
    {
     "data": {
      "text/html": [
       "<pre>Training model from provided data.</pre>"
      ],
      "text/plain": [
       "Training model from provided data."
      ]
     },
     "metadata": {},
     "output_type": "display_data"
    },
    {
     "data": {
      "text/html": [
       "<pre>Gathering per-item and per-user statistics.</pre>"
      ],
      "text/plain": [
       "Gathering per-item and per-user statistics."
      ]
     },
     "metadata": {},
     "output_type": "display_data"
    },
    {
     "data": {
      "text/html": [
       "<pre>+--------------------------------+------------+</pre>"
      ],
      "text/plain": [
       "+--------------------------------+------------+"
      ]
     },
     "metadata": {},
     "output_type": "display_data"
    },
    {
     "data": {
      "text/html": [
       "<pre>| Elapsed Time (Item Statistics) | % Complete |</pre>"
      ],
      "text/plain": [
       "| Elapsed Time (Item Statistics) | % Complete |"
      ]
     },
     "metadata": {},
     "output_type": "display_data"
    },
    {
     "data": {
      "text/html": [
       "<pre>+--------------------------------+------------+</pre>"
      ],
      "text/plain": [
       "+--------------------------------+------------+"
      ]
     },
     "metadata": {},
     "output_type": "display_data"
    },
    {
     "data": {
      "text/html": [
       "<pre>| 3.884ms                        | 100        |</pre>"
      ],
      "text/plain": [
       "| 3.884ms                        | 100        |"
      ]
     },
     "metadata": {},
     "output_type": "display_data"
    },
    {
     "data": {
      "text/html": [
       "<pre>+--------------------------------+------------+</pre>"
      ],
      "text/plain": [
       "+--------------------------------+------------+"
      ]
     },
     "metadata": {},
     "output_type": "display_data"
    },
    {
     "data": {
      "text/html": [
       "<pre>Setting up lookup tables.</pre>"
      ],
      "text/plain": [
       "Setting up lookup tables."
      ]
     },
     "metadata": {},
     "output_type": "display_data"
    },
    {
     "data": {
      "text/html": [
       "<pre>Processing data in one pass using dense lookup tables.</pre>"
      ],
      "text/plain": [
       "Processing data in one pass using dense lookup tables."
      ]
     },
     "metadata": {},
     "output_type": "display_data"
    },
    {
     "data": {
      "text/html": [
       "<pre>+-------------------------------------+------------------+-----------------+</pre>"
      ],
      "text/plain": [
       "+-------------------------------------+------------------+-----------------+"
      ]
     },
     "metadata": {},
     "output_type": "display_data"
    },
    {
     "data": {
      "text/html": [
       "<pre>| Elapsed Time (Constructing Lookups) | Total % Complete | Items Processed |</pre>"
      ],
      "text/plain": [
       "| Elapsed Time (Constructing Lookups) | Total % Complete | Items Processed |"
      ]
     },
     "metadata": {},
     "output_type": "display_data"
    },
    {
     "data": {
      "text/html": [
       "<pre>+-------------------------------------+------------------+-----------------+</pre>"
      ],
      "text/plain": [
       "+-------------------------------------+------------------+-----------------+"
      ]
     },
     "metadata": {},
     "output_type": "display_data"
    },
    {
     "data": {
      "text/html": [
       "<pre>| 6.825ms                             | 0                | 0               |</pre>"
      ],
      "text/plain": [
       "| 6.825ms                             | 0                | 0               |"
      ]
     },
     "metadata": {},
     "output_type": "display_data"
    },
    {
     "data": {
      "text/html": [
       "<pre>| 125.949ms                           | 100              | 898             |</pre>"
      ],
      "text/plain": [
       "| 125.949ms                           | 100              | 898             |"
      ]
     },
     "metadata": {},
     "output_type": "display_data"
    },
    {
     "data": {
      "text/html": [
       "<pre>+-------------------------------------+------------------+-----------------+</pre>"
      ],
      "text/plain": [
       "+-------------------------------------+------------------+-----------------+"
      ]
     },
     "metadata": {},
     "output_type": "display_data"
    },
    {
     "data": {
      "text/html": [
       "<pre>Finalizing lookup tables.</pre>"
      ],
      "text/plain": [
       "Finalizing lookup tables."
      ]
     },
     "metadata": {},
     "output_type": "display_data"
    },
    {
     "data": {
      "text/html": [
       "<pre>Generating candidate set for working with new users.</pre>"
      ],
      "text/plain": [
       "Generating candidate set for working with new users."
      ]
     },
     "metadata": {},
     "output_type": "display_data"
    },
    {
     "data": {
      "text/html": [
       "<pre>Finished training in 0.141217s</pre>"
      ],
      "text/plain": [
       "Finished training in 0.141217s"
      ]
     },
     "metadata": {},
     "output_type": "display_data"
    },
    {
     "name": "stdout",
     "output_type": "stream",
     "text": [
      "\n",
      "Precision and recall summary statistics by cutoff\n",
      "+--------+----------------+-------------+\n",
      "| cutoff | mean_precision | mean_recall |\n",
      "+--------+----------------+-------------+\n",
      "|   1    |      0.0       |     0.0     |\n",
      "|   2    |      0.0       |     0.0     |\n",
      "|   3    |      0.0       |     0.0     |\n",
      "|   4    |      0.0       |     0.0     |\n",
      "|   5    |      0.0       |     0.0     |\n",
      "|   6    |      0.0       |     0.0     |\n",
      "|   7    |      0.0       |     0.0     |\n",
      "|   8    |      0.0       |     0.0     |\n",
      "|   9    |      0.0       |     0.0     |\n",
      "|   10   |      0.0       |     0.0     |\n",
      "+--------+----------------+-------------+\n",
      "[10 rows x 3 columns]\n",
      "\n",
      "('\\nOverall RMSE: ', 0.9771947614854433)\n",
      "\n",
      "Per User RMSE (best)\n",
      "+--------+-------+----------------+\n",
      "| userId | count |      rmse      |\n",
      "+--------+-------+----------------+\n",
      "|  506   |   2   | 0.421348180164 |\n",
      "+--------+-------+----------------+\n",
      "[1 rows x 3 columns]\n",
      "\n",
      "\n",
      "Per User RMSE (worst)\n",
      "+--------+-------+---------------+\n",
      "| userId | count |      rmse     |\n",
      "+--------+-------+---------------+\n",
      "|  315   |   9   | 1.89944532524 |\n",
      "+--------+-------+---------------+\n",
      "[1 rows x 3 columns]\n",
      "\n",
      "\n",
      "Per Item RMSE (best)\n",
      "+--------------------------------+-------+-----------------+\n",
      "|             genres             | count |       rmse      |\n",
      "+--------------------------------+-------+-----------------+\n",
      "| Crime|Mystery|Romance|Thriller |   1   | 0.0259808098943 |\n",
      "+--------------------------------+-------+-----------------+\n",
      "[1 rows x 3 columns]\n",
      "\n",
      "\n",
      "Per Item RMSE (worst)\n",
      "+-------------------------------+-------+------+\n",
      "|             genres            | count | rmse |\n",
      "+-------------------------------+-------+------+\n",
      "| Drama|Fantasy|Musical|Myst... |   1   | 5.0  |\n",
      "+-------------------------------+-------+------+\n",
      "[1 rows x 3 columns]\n",
      "\n"
     ]
    },
    {
     "data": {
      "text/html": [
       "<pre>Recsys training: model = item_similarity</pre>"
      ],
      "text/plain": [
       "Recsys training: model = item_similarity"
      ]
     },
     "metadata": {},
     "output_type": "display_data"
    },
    {
     "data": {
      "text/html": [
       "<pre>Warning: Ignoring columns movieId, title, genre_list;</pre>"
      ],
      "text/plain": [
       "Warning: Ignoring columns movieId, title, genre_list;"
      ]
     },
     "metadata": {},
     "output_type": "display_data"
    },
    {
     "data": {
      "text/html": [
       "<pre>    To use these columns in scoring predictions, use a model that allows the use of additional features.</pre>"
      ],
      "text/plain": [
       "    To use these columns in scoring predictions, use a model that allows the use of additional features."
      ]
     },
     "metadata": {},
     "output_type": "display_data"
    },
    {
     "data": {
      "text/html": [
       "<pre>Preparing data set.</pre>"
      ],
      "text/plain": [
       "Preparing data set."
      ]
     },
     "metadata": {},
     "output_type": "display_data"
    },
    {
     "data": {
      "text/html": [
       "<pre>    Data has 96765 observations with 671 users and 898 items.</pre>"
      ],
      "text/plain": [
       "    Data has 96765 observations with 671 users and 898 items."
      ]
     },
     "metadata": {},
     "output_type": "display_data"
    },
    {
     "data": {
      "text/html": [
       "<pre>    Data prepared in: 0.184798s</pre>"
      ],
      "text/plain": [
       "    Data prepared in: 0.184798s"
      ]
     },
     "metadata": {},
     "output_type": "display_data"
    },
    {
     "data": {
      "text/html": [
       "<pre>Training model from provided data.</pre>"
      ],
      "text/plain": [
       "Training model from provided data."
      ]
     },
     "metadata": {},
     "output_type": "display_data"
    },
    {
     "data": {
      "text/html": [
       "<pre>Gathering per-item and per-user statistics.</pre>"
      ],
      "text/plain": [
       "Gathering per-item and per-user statistics."
      ]
     },
     "metadata": {},
     "output_type": "display_data"
    },
    {
     "data": {
      "text/html": [
       "<pre>+--------------------------------+------------+</pre>"
      ],
      "text/plain": [
       "+--------------------------------+------------+"
      ]
     },
     "metadata": {},
     "output_type": "display_data"
    },
    {
     "data": {
      "text/html": [
       "<pre>| Elapsed Time (Item Statistics) | % Complete |</pre>"
      ],
      "text/plain": [
       "| Elapsed Time (Item Statistics) | % Complete |"
      ]
     },
     "metadata": {},
     "output_type": "display_data"
    },
    {
     "data": {
      "text/html": [
       "<pre>+--------------------------------+------------+</pre>"
      ],
      "text/plain": [
       "+--------------------------------+------------+"
      ]
     },
     "metadata": {},
     "output_type": "display_data"
    },
    {
     "data": {
      "text/html": [
       "<pre>| 2.675ms                        | 100        |</pre>"
      ],
      "text/plain": [
       "| 2.675ms                        | 100        |"
      ]
     },
     "metadata": {},
     "output_type": "display_data"
    },
    {
     "data": {
      "text/html": [
       "<pre>+--------------------------------+------------+</pre>"
      ],
      "text/plain": [
       "+--------------------------------+------------+"
      ]
     },
     "metadata": {},
     "output_type": "display_data"
    },
    {
     "data": {
      "text/html": [
       "<pre>Setting up lookup tables.</pre>"
      ],
      "text/plain": [
       "Setting up lookup tables."
      ]
     },
     "metadata": {},
     "output_type": "display_data"
    },
    {
     "data": {
      "text/html": [
       "<pre>Processing data in one pass using dense lookup tables.</pre>"
      ],
      "text/plain": [
       "Processing data in one pass using dense lookup tables."
      ]
     },
     "metadata": {},
     "output_type": "display_data"
    },
    {
     "data": {
      "text/html": [
       "<pre>+-------------------------------------+------------------+-----------------+</pre>"
      ],
      "text/plain": [
       "+-------------------------------------+------------------+-----------------+"
      ]
     },
     "metadata": {},
     "output_type": "display_data"
    },
    {
     "data": {
      "text/html": [
       "<pre>| Elapsed Time (Constructing Lookups) | Total % Complete | Items Processed |</pre>"
      ],
      "text/plain": [
       "| Elapsed Time (Constructing Lookups) | Total % Complete | Items Processed |"
      ]
     },
     "metadata": {},
     "output_type": "display_data"
    },
    {
     "data": {
      "text/html": [
       "<pre>+-------------------------------------+------------------+-----------------+</pre>"
      ],
      "text/plain": [
       "+-------------------------------------+------------------+-----------------+"
      ]
     },
     "metadata": {},
     "output_type": "display_data"
    },
    {
     "data": {
      "text/html": [
       "<pre>| 5.966ms                             | 0                | 0               |</pre>"
      ],
      "text/plain": [
       "| 5.966ms                             | 0                | 0               |"
      ]
     },
     "metadata": {},
     "output_type": "display_data"
    },
    {
     "data": {
      "text/html": [
       "<pre>| 68.198ms                            | 100              | 898             |</pre>"
      ],
      "text/plain": [
       "| 68.198ms                            | 100              | 898             |"
      ]
     },
     "metadata": {},
     "output_type": "display_data"
    },
    {
     "data": {
      "text/html": [
       "<pre>+-------------------------------------+------------------+-----------------+</pre>"
      ],
      "text/plain": [
       "+-------------------------------------+------------------+-----------------+"
      ]
     },
     "metadata": {},
     "output_type": "display_data"
    },
    {
     "data": {
      "text/html": [
       "<pre>Finalizing lookup tables.</pre>"
      ],
      "text/plain": [
       "Finalizing lookup tables."
      ]
     },
     "metadata": {},
     "output_type": "display_data"
    },
    {
     "data": {
      "text/html": [
       "<pre>Generating candidate set for working with new users.</pre>"
      ],
      "text/plain": [
       "Generating candidate set for working with new users."
      ]
     },
     "metadata": {},
     "output_type": "display_data"
    },
    {
     "data": {
      "text/html": [
       "<pre>Finished training in 0.082948s</pre>"
      ],
      "text/plain": [
       "Finished training in 0.082948s"
      ]
     },
     "metadata": {},
     "output_type": "display_data"
    },
    {
     "name": "stdout",
     "output_type": "stream",
     "text": [
      "\n",
      "Precision and recall summary statistics by cutoff\n",
      "+--------+----------------+-----------------+\n",
      "| cutoff | mean_precision |   mean_recall   |\n",
      "+--------+----------------+-----------------+\n",
      "|   1    |      0.28      | 0.0197231774717 |\n",
      "|   2    |      0.29      | 0.0384703151288 |\n",
      "|   3    | 0.273333333333 | 0.0589930736668 |\n",
      "|   4    |     0.2525     | 0.0671618996862 |\n",
      "|   5    |     0.232      | 0.0739877021598 |\n",
      "|   6    | 0.228333333333 | 0.0832273999184 |\n",
      "|   7    | 0.224285714286 | 0.0956926792085 |\n",
      "|   8    |     0.2175     |  0.105789506533 |\n",
      "|   9    | 0.213333333333 |  0.112637667263 |\n",
      "|   10   |     0.203      |  0.118929663149 |\n",
      "+--------+----------------+-----------------+\n",
      "[10 rows x 3 columns]\n",
      "\n",
      "('\\nOverall RMSE: ', 3.6972527644385247)\n",
      "\n",
      "Per User RMSE (best)\n",
      "+--------+-------+---------------+\n",
      "| userId | count |      rmse     |\n",
      "+--------+-------+---------------+\n",
      "|  325   |   5   | 2.31300670124 |\n",
      "+--------+-------+---------------+\n",
      "[1 rows x 3 columns]\n",
      "\n",
      "\n",
      "Per User RMSE (worst)\n",
      "+--------+-------+---------------+\n",
      "| userId | count |      rmse     |\n",
      "+--------+-------+---------------+\n",
      "|  546   |   15  | 4.76247850723 |\n",
      "+--------+-------+---------------+\n",
      "[1 rows x 3 columns]\n",
      "\n",
      "\n",
      "Per Item RMSE (best)\n",
      "+------------------------------+-------+----------------+\n",
      "|            genres            | count |      rmse      |\n",
      "+------------------------------+-------+----------------+\n",
      "| Action|Fantasy|Thriller|IMAX |   1   | 0.496794871795 |\n",
      "+------------------------------+-------+----------------+\n",
      "[1 rows x 3 columns]\n",
      "\n",
      "\n",
      "Per Item RMSE (worst)\n",
      "+-----------------------+-------+------+\n",
      "|         genres        | count | rmse |\n",
      "+-----------------------+-------+------+\n",
      "| Drama|Fantasy|Mystery |   2   | 5.0  |\n",
      "+-----------------------+-------+------+\n",
      "[1 rows x 3 columns]\n",
      "\n"
     ]
    },
    {
     "data": {
      "text/html": [
       "<pre>Recsys training: model = item_similarity</pre>"
      ],
      "text/plain": [
       "Recsys training: model = item_similarity"
      ]
     },
     "metadata": {},
     "output_type": "display_data"
    },
    {
     "data": {
      "text/html": [
       "<pre>Warning: Ignoring columns movieId, title, genre_list;</pre>"
      ],
      "text/plain": [
       "Warning: Ignoring columns movieId, title, genre_list;"
      ]
     },
     "metadata": {},
     "output_type": "display_data"
    },
    {
     "data": {
      "text/html": [
       "<pre>    To use these columns in scoring predictions, use a model that allows the use of additional features.</pre>"
      ],
      "text/plain": [
       "    To use these columns in scoring predictions, use a model that allows the use of additional features."
      ]
     },
     "metadata": {},
     "output_type": "display_data"
    },
    {
     "data": {
      "text/html": [
       "<pre>Preparing data set.</pre>"
      ],
      "text/plain": [
       "Preparing data set."
      ]
     },
     "metadata": {},
     "output_type": "display_data"
    },
    {
     "data": {
      "text/html": [
       "<pre>    Data has 96765 observations with 671 users and 898 items.</pre>"
      ],
      "text/plain": [
       "    Data has 96765 observations with 671 users and 898 items."
      ]
     },
     "metadata": {},
     "output_type": "display_data"
    },
    {
     "data": {
      "text/html": [
       "<pre>    Data prepared in: 0.195009s</pre>"
      ],
      "text/plain": [
       "    Data prepared in: 0.195009s"
      ]
     },
     "metadata": {},
     "output_type": "display_data"
    },
    {
     "data": {
      "text/html": [
       "<pre>Training model from provided data.</pre>"
      ],
      "text/plain": [
       "Training model from provided data."
      ]
     },
     "metadata": {},
     "output_type": "display_data"
    },
    {
     "data": {
      "text/html": [
       "<pre>Gathering per-item and per-user statistics.</pre>"
      ],
      "text/plain": [
       "Gathering per-item and per-user statistics."
      ]
     },
     "metadata": {},
     "output_type": "display_data"
    },
    {
     "data": {
      "text/html": [
       "<pre>+--------------------------------+------------+</pre>"
      ],
      "text/plain": [
       "+--------------------------------+------------+"
      ]
     },
     "metadata": {},
     "output_type": "display_data"
    },
    {
     "data": {
      "text/html": [
       "<pre>| Elapsed Time (Item Statistics) | % Complete |</pre>"
      ],
      "text/plain": [
       "| Elapsed Time (Item Statistics) | % Complete |"
      ]
     },
     "metadata": {},
     "output_type": "display_data"
    },
    {
     "data": {
      "text/html": [
       "<pre>+--------------------------------+------------+</pre>"
      ],
      "text/plain": [
       "+--------------------------------+------------+"
      ]
     },
     "metadata": {},
     "output_type": "display_data"
    },
    {
     "data": {
      "text/html": [
       "<pre>| 2.661ms                        | 100        |</pre>"
      ],
      "text/plain": [
       "| 2.661ms                        | 100        |"
      ]
     },
     "metadata": {},
     "output_type": "display_data"
    },
    {
     "data": {
      "text/html": [
       "<pre>+--------------------------------+------------+</pre>"
      ],
      "text/plain": [
       "+--------------------------------+------------+"
      ]
     },
     "metadata": {},
     "output_type": "display_data"
    },
    {
     "data": {
      "text/html": [
       "<pre>Setting up lookup tables.</pre>"
      ],
      "text/plain": [
       "Setting up lookup tables."
      ]
     },
     "metadata": {},
     "output_type": "display_data"
    },
    {
     "data": {
      "text/html": [
       "<pre>Processing data in one pass using dense lookup tables.</pre>"
      ],
      "text/plain": [
       "Processing data in one pass using dense lookup tables."
      ]
     },
     "metadata": {},
     "output_type": "display_data"
    },
    {
     "data": {
      "text/html": [
       "<pre>+-------------------------------------+------------------+-----------------+</pre>"
      ],
      "text/plain": [
       "+-------------------------------------+------------------+-----------------+"
      ]
     },
     "metadata": {},
     "output_type": "display_data"
    },
    {
     "data": {
      "text/html": [
       "<pre>| Elapsed Time (Constructing Lookups) | Total % Complete | Items Processed |</pre>"
      ],
      "text/plain": [
       "| Elapsed Time (Constructing Lookups) | Total % Complete | Items Processed |"
      ]
     },
     "metadata": {},
     "output_type": "display_data"
    },
    {
     "data": {
      "text/html": [
       "<pre>+-------------------------------------+------------------+-----------------+</pre>"
      ],
      "text/plain": [
       "+-------------------------------------+------------------+-----------------+"
      ]
     },
     "metadata": {},
     "output_type": "display_data"
    },
    {
     "data": {
      "text/html": [
       "<pre>| 5.067ms                             | 0                | 0               |</pre>"
      ],
      "text/plain": [
       "| 5.067ms                             | 0                | 0               |"
      ]
     },
     "metadata": {},
     "output_type": "display_data"
    },
    {
     "data": {
      "text/html": [
       "<pre>| 60.102ms                            | 100              | 898             |</pre>"
      ],
      "text/plain": [
       "| 60.102ms                            | 100              | 898             |"
      ]
     },
     "metadata": {},
     "output_type": "display_data"
    },
    {
     "data": {
      "text/html": [
       "<pre>+-------------------------------------+------------------+-----------------+</pre>"
      ],
      "text/plain": [
       "+-------------------------------------+------------------+-----------------+"
      ]
     },
     "metadata": {},
     "output_type": "display_data"
    },
    {
     "data": {
      "text/html": [
       "<pre>Finalizing lookup tables.</pre>"
      ],
      "text/plain": [
       "Finalizing lookup tables."
      ]
     },
     "metadata": {},
     "output_type": "display_data"
    },
    {
     "data": {
      "text/html": [
       "<pre>Generating candidate set for working with new users.</pre>"
      ],
      "text/plain": [
       "Generating candidate set for working with new users."
      ]
     },
     "metadata": {},
     "output_type": "display_data"
    },
    {
     "data": {
      "text/html": [
       "<pre>Finished training in 0.079096s</pre>"
      ],
      "text/plain": [
       "Finished training in 0.079096s"
      ]
     },
     "metadata": {},
     "output_type": "display_data"
    },
    {
     "name": "stdout",
     "output_type": "stream",
     "text": [
      "\n",
      "Precision and recall summary statistics by cutoff\n",
      "+--------+----------------+-----------------+\n",
      "| cutoff | mean_precision |   mean_recall   |\n",
      "+--------+----------------+-----------------+\n",
      "|   1    |      0.35      | 0.0278297911063 |\n",
      "|   2    |     0.315      | 0.0461544705335 |\n",
      "|   3    | 0.293333333333 | 0.0605977878393 |\n",
      "|   4    |      0.27      | 0.0702724216069 |\n",
      "|   5    |     0.258      | 0.0826636863465 |\n",
      "|   6    |      0.24      | 0.0936130394735 |\n",
      "|   7    |      0.23      |  0.102520264297 |\n",
      "|   8    |    0.21625     |  0.10752730613  |\n",
      "|   9    | 0.213333333333 |  0.114355798815 |\n",
      "|   10   |     0.208      |  0.120523921639 |\n",
      "+--------+----------------+-----------------+\n",
      "[10 rows x 3 columns]\n",
      "\n",
      "('\\nOverall RMSE: ', 3.256577702859186)\n",
      "\n",
      "Per User RMSE (best)\n",
      "+--------+-------+---------------+\n",
      "| userId | count |      rmse     |\n",
      "+--------+-------+---------------+\n",
      "|  657   |   5   | 1.65693688916 |\n",
      "+--------+-------+---------------+\n",
      "[1 rows x 3 columns]\n",
      "\n",
      "\n",
      "Per User RMSE (worst)\n",
      "+--------+-------+---------------+\n",
      "| userId | count |      rmse     |\n",
      "+--------+-------+---------------+\n",
      "|  546   |   15  | 4.41116867343 |\n",
      "+--------+-------+---------------+\n",
      "[1 rows x 3 columns]\n",
      "\n",
      "\n",
      "Per Item RMSE (best)\n",
      "+------------------------------+-------+----------------+\n",
      "|            genres            | count |      rmse      |\n",
      "+------------------------------+-------+----------------+\n",
      "| Action|Fantasy|Thriller|IMAX |   1   | 0.474373771976 |\n",
      "+------------------------------+-------+----------------+\n",
      "[1 rows x 3 columns]\n",
      "\n",
      "\n",
      "Per Item RMSE (worst)\n",
      "+-----------------------+-------+------+\n",
      "|         genres        | count | rmse |\n",
      "+-----------------------+-------+------+\n",
      "| Drama|Fantasy|Mystery |   2   | 5.0  |\n",
      "+-----------------------+-------+------+\n",
      "[1 rows x 3 columns]\n",
      "\n"
     ]
    },
    {
     "data": {
      "text/html": [
       "<pre>Recsys training: model = item_similarity</pre>"
      ],
      "text/plain": [
       "Recsys training: model = item_similarity"
      ]
     },
     "metadata": {},
     "output_type": "display_data"
    },
    {
     "data": {
      "text/html": [
       "<pre>Warning: Ignoring columns movieId, title, genre_list;</pre>"
      ],
      "text/plain": [
       "Warning: Ignoring columns movieId, title, genre_list;"
      ]
     },
     "metadata": {},
     "output_type": "display_data"
    },
    {
     "data": {
      "text/html": [
       "<pre>    To use these columns in scoring predictions, use a model that allows the use of additional features.</pre>"
      ],
      "text/plain": [
       "    To use these columns in scoring predictions, use a model that allows the use of additional features."
      ]
     },
     "metadata": {},
     "output_type": "display_data"
    },
    {
     "data": {
      "text/html": [
       "<pre>Preparing data set.</pre>"
      ],
      "text/plain": [
       "Preparing data set."
      ]
     },
     "metadata": {},
     "output_type": "display_data"
    },
    {
     "data": {
      "text/html": [
       "<pre>    Data has 96765 observations with 671 users and 898 items.</pre>"
      ],
      "text/plain": [
       "    Data has 96765 observations with 671 users and 898 items."
      ]
     },
     "metadata": {},
     "output_type": "display_data"
    },
    {
     "data": {
      "text/html": [
       "<pre>    Data prepared in: 0.176728s</pre>"
      ],
      "text/plain": [
       "    Data prepared in: 0.176728s"
      ]
     },
     "metadata": {},
     "output_type": "display_data"
    },
    {
     "data": {
      "text/html": [
       "<pre>Training model from provided data.</pre>"
      ],
      "text/plain": [
       "Training model from provided data."
      ]
     },
     "metadata": {},
     "output_type": "display_data"
    },
    {
     "data": {
      "text/html": [
       "<pre>Gathering per-item and per-user statistics.</pre>"
      ],
      "text/plain": [
       "Gathering per-item and per-user statistics."
      ]
     },
     "metadata": {},
     "output_type": "display_data"
    },
    {
     "data": {
      "text/html": [
       "<pre>+--------------------------------+------------+</pre>"
      ],
      "text/plain": [
       "+--------------------------------+------------+"
      ]
     },
     "metadata": {},
     "output_type": "display_data"
    },
    {
     "data": {
      "text/html": [
       "<pre>| Elapsed Time (Item Statistics) | % Complete |</pre>"
      ],
      "text/plain": [
       "| Elapsed Time (Item Statistics) | % Complete |"
      ]
     },
     "metadata": {},
     "output_type": "display_data"
    },
    {
     "data": {
      "text/html": [
       "<pre>+--------------------------------+------------+</pre>"
      ],
      "text/plain": [
       "+--------------------------------+------------+"
      ]
     },
     "metadata": {},
     "output_type": "display_data"
    },
    {
     "data": {
      "text/html": [
       "<pre>| 3.694ms                        | 100        |</pre>"
      ],
      "text/plain": [
       "| 3.694ms                        | 100        |"
      ]
     },
     "metadata": {},
     "output_type": "display_data"
    },
    {
     "data": {
      "text/html": [
       "<pre>+--------------------------------+------------+</pre>"
      ],
      "text/plain": [
       "+--------------------------------+------------+"
      ]
     },
     "metadata": {},
     "output_type": "display_data"
    },
    {
     "data": {
      "text/html": [
       "<pre>Setting up lookup tables.</pre>"
      ],
      "text/plain": [
       "Setting up lookup tables."
      ]
     },
     "metadata": {},
     "output_type": "display_data"
    },
    {
     "data": {
      "text/html": [
       "<pre>Processing data in one pass using dense lookup tables.</pre>"
      ],
      "text/plain": [
       "Processing data in one pass using dense lookup tables."
      ]
     },
     "metadata": {},
     "output_type": "display_data"
    },
    {
     "data": {
      "text/html": [
       "<pre>+-------------------------------------+------------------+-----------------+</pre>"
      ],
      "text/plain": [
       "+-------------------------------------+------------------+-----------------+"
      ]
     },
     "metadata": {},
     "output_type": "display_data"
    },
    {
     "data": {
      "text/html": [
       "<pre>| Elapsed Time (Constructing Lookups) | Total % Complete | Items Processed |</pre>"
      ],
      "text/plain": [
       "| Elapsed Time (Constructing Lookups) | Total % Complete | Items Processed |"
      ]
     },
     "metadata": {},
     "output_type": "display_data"
    },
    {
     "data": {
      "text/html": [
       "<pre>+-------------------------------------+------------------+-----------------+</pre>"
      ],
      "text/plain": [
       "+-------------------------------------+------------------+-----------------+"
      ]
     },
     "metadata": {},
     "output_type": "display_data"
    },
    {
     "data": {
      "text/html": [
       "<pre>| 6.821ms                             | 0                | 0               |</pre>"
      ],
      "text/plain": [
       "| 6.821ms                             | 0                | 0               |"
      ]
     },
     "metadata": {},
     "output_type": "display_data"
    },
    {
     "data": {
      "text/html": [
       "<pre>| 116.804ms                           | 100              | 898             |</pre>"
      ],
      "text/plain": [
       "| 116.804ms                           | 100              | 898             |"
      ]
     },
     "metadata": {},
     "output_type": "display_data"
    },
    {
     "data": {
      "text/html": [
       "<pre>+-------------------------------------+------------------+-----------------+</pre>"
      ],
      "text/plain": [
       "+-------------------------------------+------------------+-----------------+"
      ]
     },
     "metadata": {},
     "output_type": "display_data"
    },
    {
     "data": {
      "text/html": [
       "<pre>Finalizing lookup tables.</pre>"
      ],
      "text/plain": [
       "Finalizing lookup tables."
      ]
     },
     "metadata": {},
     "output_type": "display_data"
    },
    {
     "data": {
      "text/html": [
       "<pre>Generating candidate set for working with new users.</pre>"
      ],
      "text/plain": [
       "Generating candidate set for working with new users."
      ]
     },
     "metadata": {},
     "output_type": "display_data"
    },
    {
     "data": {
      "text/html": [
       "<pre>Finished training in 0.129999s</pre>"
      ],
      "text/plain": [
       "Finished training in 0.129999s"
      ]
     },
     "metadata": {},
     "output_type": "display_data"
    },
    {
     "name": "stdout",
     "output_type": "stream",
     "text": [
      "\n",
      "Precision and recall summary statistics by cutoff\n",
      "+--------+----------------+-------------+\n",
      "| cutoff | mean_precision | mean_recall |\n",
      "+--------+----------------+-------------+\n",
      "|   1    |      0.0       |     0.0     |\n",
      "|   2    |      0.0       |     0.0     |\n",
      "|   3    |      0.0       |     0.0     |\n",
      "|   4    |      0.0       |     0.0     |\n",
      "|   5    |      0.0       |     0.0     |\n",
      "|   6    |      0.0       |     0.0     |\n",
      "|   7    |      0.0       |     0.0     |\n",
      "|   8    |      0.0       |     0.0     |\n",
      "|   9    |      0.0       |     0.0     |\n",
      "|   10   |      0.0       |     0.0     |\n",
      "+--------+----------------+-------------+\n",
      "[10 rows x 3 columns]\n",
      "\n",
      "('\\nOverall RMSE: ', 0.9762099910500338)\n",
      "\n",
      "Per User RMSE (best)\n",
      "+--------+-------+----------------+\n",
      "| userId | count |      rmse      |\n",
      "+--------+-------+----------------+\n",
      "|  506   |   2   | 0.421369103082 |\n",
      "+--------+-------+----------------+\n",
      "[1 rows x 3 columns]\n",
      "\n",
      "\n",
      "Per User RMSE (worst)\n",
      "+--------+-------+---------------+\n",
      "| userId | count |      rmse     |\n",
      "+--------+-------+---------------+\n",
      "|  315   |   9   | 1.88669223538 |\n",
      "+--------+-------+---------------+\n",
      "[1 rows x 3 columns]\n",
      "\n",
      "\n",
      "Per Item RMSE (best)\n",
      "+-------------------------------+-------+-----------------+\n",
      "|             genres            | count |       rmse      |\n",
      "+-------------------------------+-------+-----------------+\n",
      "| Action|Children|Comedy|Fan... |   1   | 0.0265257674105 |\n",
      "+-------------------------------+-------+-----------------+\n",
      "[1 rows x 3 columns]\n",
      "\n",
      "\n",
      "Per Item RMSE (worst)\n",
      "+-------------------------------+-------+------+\n",
      "|             genres            | count | rmse |\n",
      "+-------------------------------+-------+------+\n",
      "| Drama|Fantasy|Musical|Myst... |   1   | 5.0  |\n",
      "+-------------------------------+-------+------+\n",
      "[1 rows x 3 columns]\n",
      "\n"
     ]
    },
    {
     "data": {
      "text/html": [
       "<pre>Recsys training: model = item_similarity</pre>"
      ],
      "text/plain": [
       "Recsys training: model = item_similarity"
      ]
     },
     "metadata": {},
     "output_type": "display_data"
    },
    {
     "data": {
      "text/html": [
       "<pre>Warning: Ignoring columns movieId, title, genre_list;</pre>"
      ],
      "text/plain": [
       "Warning: Ignoring columns movieId, title, genre_list;"
      ]
     },
     "metadata": {},
     "output_type": "display_data"
    },
    {
     "data": {
      "text/html": [
       "<pre>    To use these columns in scoring predictions, use a model that allows the use of additional features.</pre>"
      ],
      "text/plain": [
       "    To use these columns in scoring predictions, use a model that allows the use of additional features."
      ]
     },
     "metadata": {},
     "output_type": "display_data"
    },
    {
     "data": {
      "text/html": [
       "<pre>Preparing data set.</pre>"
      ],
      "text/plain": [
       "Preparing data set."
      ]
     },
     "metadata": {},
     "output_type": "display_data"
    },
    {
     "data": {
      "text/html": [
       "<pre>    Data has 96765 observations with 671 users and 898 items.</pre>"
      ],
      "text/plain": [
       "    Data has 96765 observations with 671 users and 898 items."
      ]
     },
     "metadata": {},
     "output_type": "display_data"
    },
    {
     "data": {
      "text/html": [
       "<pre>    Data prepared in: 0.195699s</pre>"
      ],
      "text/plain": [
       "    Data prepared in: 0.195699s"
      ]
     },
     "metadata": {},
     "output_type": "display_data"
    },
    {
     "data": {
      "text/html": [
       "<pre>Training model from provided data.</pre>"
      ],
      "text/plain": [
       "Training model from provided data."
      ]
     },
     "metadata": {},
     "output_type": "display_data"
    },
    {
     "data": {
      "text/html": [
       "<pre>Gathering per-item and per-user statistics.</pre>"
      ],
      "text/plain": [
       "Gathering per-item and per-user statistics."
      ]
     },
     "metadata": {},
     "output_type": "display_data"
    },
    {
     "data": {
      "text/html": [
       "<pre>+--------------------------------+------------+</pre>"
      ],
      "text/plain": [
       "+--------------------------------+------------+"
      ]
     },
     "metadata": {},
     "output_type": "display_data"
    },
    {
     "data": {
      "text/html": [
       "<pre>| Elapsed Time (Item Statistics) | % Complete |</pre>"
      ],
      "text/plain": [
       "| Elapsed Time (Item Statistics) | % Complete |"
      ]
     },
     "metadata": {},
     "output_type": "display_data"
    },
    {
     "data": {
      "text/html": [
       "<pre>+--------------------------------+------------+</pre>"
      ],
      "text/plain": [
       "+--------------------------------+------------+"
      ]
     },
     "metadata": {},
     "output_type": "display_data"
    },
    {
     "data": {
      "text/html": [
       "<pre>| 4.069ms                        | 100        |</pre>"
      ],
      "text/plain": [
       "| 4.069ms                        | 100        |"
      ]
     },
     "metadata": {},
     "output_type": "display_data"
    },
    {
     "data": {
      "text/html": [
       "<pre>+--------------------------------+------------+</pre>"
      ],
      "text/plain": [
       "+--------------------------------+------------+"
      ]
     },
     "metadata": {},
     "output_type": "display_data"
    },
    {
     "data": {
      "text/html": [
       "<pre>Setting up lookup tables.</pre>"
      ],
      "text/plain": [
       "Setting up lookup tables."
      ]
     },
     "metadata": {},
     "output_type": "display_data"
    },
    {
     "data": {
      "text/html": [
       "<pre>Processing data in one pass using dense lookup tables.</pre>"
      ],
      "text/plain": [
       "Processing data in one pass using dense lookup tables."
      ]
     },
     "metadata": {},
     "output_type": "display_data"
    },
    {
     "data": {
      "text/html": [
       "<pre>+-------------------------------------+------------------+-----------------+</pre>"
      ],
      "text/plain": [
       "+-------------------------------------+------------------+-----------------+"
      ]
     },
     "metadata": {},
     "output_type": "display_data"
    },
    {
     "data": {
      "text/html": [
       "<pre>| Elapsed Time (Constructing Lookups) | Total % Complete | Items Processed |</pre>"
      ],
      "text/plain": [
       "| Elapsed Time (Constructing Lookups) | Total % Complete | Items Processed |"
      ]
     },
     "metadata": {},
     "output_type": "display_data"
    },
    {
     "data": {
      "text/html": [
       "<pre>+-------------------------------------+------------------+-----------------+</pre>"
      ],
      "text/plain": [
       "+-------------------------------------+------------------+-----------------+"
      ]
     },
     "metadata": {},
     "output_type": "display_data"
    },
    {
     "data": {
      "text/html": [
       "<pre>| 7.465ms                             | 0                | 0               |</pre>"
      ],
      "text/plain": [
       "| 7.465ms                             | 0                | 0               |"
      ]
     },
     "metadata": {},
     "output_type": "display_data"
    },
    {
     "data": {
      "text/html": [
       "<pre>| 68.52ms                             | 100              | 898             |</pre>"
      ],
      "text/plain": [
       "| 68.52ms                             | 100              | 898             |"
      ]
     },
     "metadata": {},
     "output_type": "display_data"
    },
    {
     "data": {
      "text/html": [
       "<pre>+-------------------------------------+------------------+-----------------+</pre>"
      ],
      "text/plain": [
       "+-------------------------------------+------------------+-----------------+"
      ]
     },
     "metadata": {},
     "output_type": "display_data"
    },
    {
     "data": {
      "text/html": [
       "<pre>Finalizing lookup tables.</pre>"
      ],
      "text/plain": [
       "Finalizing lookup tables."
      ]
     },
     "metadata": {},
     "output_type": "display_data"
    },
    {
     "data": {
      "text/html": [
       "<pre>Generating candidate set for working with new users.</pre>"
      ],
      "text/plain": [
       "Generating candidate set for working with new users."
      ]
     },
     "metadata": {},
     "output_type": "display_data"
    },
    {
     "data": {
      "text/html": [
       "<pre>Finished training in 0.084722s</pre>"
      ],
      "text/plain": [
       "Finished training in 0.084722s"
      ]
     },
     "metadata": {},
     "output_type": "display_data"
    },
    {
     "name": "stdout",
     "output_type": "stream",
     "text": [
      "\n",
      "Precision and recall summary statistics by cutoff\n",
      "+--------+----------------+-----------------+\n",
      "| cutoff | mean_precision |   mean_recall   |\n",
      "+--------+----------------+-----------------+\n",
      "|   1    |      0.32      | 0.0170306227394 |\n",
      "|   2    |      0.26      | 0.0367262003516 |\n",
      "|   3    | 0.263333333333 | 0.0563089682178 |\n",
      "|   4    |      0.25      | 0.0667797637533 |\n",
      "|   5    |      0.24      | 0.0787086345092 |\n",
      "|   6    |     0.235      | 0.0933290104841 |\n",
      "|   7    | 0.228571428571 |  0.102749590528 |\n",
      "|   8    |      0.22      |  0.109473389922 |\n",
      "|   9    | 0.208888888889 |  0.115222367988 |\n",
      "|   10   |     0.208      |  0.120815887579 |\n",
      "+--------+----------------+-----------------+\n",
      "[10 rows x 3 columns]\n",
      "\n",
      "('\\nOverall RMSE: ', 3.6725844195667428)\n",
      "\n",
      "Per User RMSE (best)\n",
      "+--------+-------+---------------+\n",
      "| userId | count |      rmse     |\n",
      "+--------+-------+---------------+\n",
      "|  325   |   5   | 2.31094733258 |\n",
      "+--------+-------+---------------+\n",
      "[1 rows x 3 columns]\n",
      "\n",
      "\n",
      "Per User RMSE (worst)\n",
      "+--------+-------+---------------+\n",
      "| userId | count |      rmse     |\n",
      "+--------+-------+---------------+\n",
      "|  546   |   15  | 4.74367004046 |\n",
      "+--------+-------+---------------+\n",
      "[1 rows x 3 columns]\n",
      "\n",
      "\n",
      "Per Item RMSE (best)\n",
      "+--------------------------------+-------+----------------+\n",
      "|             genres             | count |      rmse      |\n",
      "+--------------------------------+-------+----------------+\n",
      "| Action|Fantasy|Horror|Thriller |   1   | 0.491431334829 |\n",
      "+--------------------------------+-------+----------------+\n",
      "[1 rows x 3 columns]\n",
      "\n",
      "\n",
      "Per Item RMSE (worst)\n",
      "+-----------------------+-------+------+\n",
      "|         genres        | count | rmse |\n",
      "+-----------------------+-------+------+\n",
      "| Drama|Fantasy|Mystery |   2   | 5.0  |\n",
      "+-----------------------+-------+------+\n",
      "[1 rows x 3 columns]\n",
      "\n"
     ]
    }
   ],
   "source": [
    "recs_item_similarity = item_sim_parameter_search(params,train,test)"
   ]
  },
  {
   "cell_type": "markdown",
   "metadata": {},
   "source": [
    "<h4> Models based on stacked Genre List </h4>"
   ]
  },
  {
   "cell_type": "code",
   "execution_count": 139,
   "metadata": {},
   "outputs": [
    {
     "data": {
      "text/html": [
       "<pre>Recsys training: model = item_similarity</pre>"
      ],
      "text/plain": [
       "Recsys training: model = item_similarity"
      ]
     },
     "metadata": {},
     "output_type": "display_data"
    },
    {
     "data": {
      "text/html": [
       "<pre>Warning: Ignoring columns movieId, title, genres;</pre>"
      ],
      "text/plain": [
       "Warning: Ignoring columns movieId, title, genres;"
      ]
     },
     "metadata": {},
     "output_type": "display_data"
    },
    {
     "data": {
      "text/html": [
       "<pre>    To use these columns in scoring predictions, use a model that allows the use of additional features.</pre>"
      ],
      "text/plain": [
       "    To use these columns in scoring predictions, use a model that allows the use of additional features."
      ]
     },
     "metadata": {},
     "output_type": "display_data"
    },
    {
     "data": {
      "text/html": [
       "<pre>Preparing data set.</pre>"
      ],
      "text/plain": [
       "Preparing data set."
      ]
     },
     "metadata": {},
     "output_type": "display_data"
    },
    {
     "data": {
      "text/html": [
       "<pre>    Data has 257193 observations with 671 users and 20 items.</pre>"
      ],
      "text/plain": [
       "    Data has 257193 observations with 671 users and 20 items."
      ]
     },
     "metadata": {},
     "output_type": "display_data"
    },
    {
     "data": {
      "text/html": [
       "<pre>    Data prepared in: 0.358603s</pre>"
      ],
      "text/plain": [
       "    Data prepared in: 0.358603s"
      ]
     },
     "metadata": {},
     "output_type": "display_data"
    },
    {
     "data": {
      "text/html": [
       "<pre>Training model from provided data.</pre>"
      ],
      "text/plain": [
       "Training model from provided data."
      ]
     },
     "metadata": {},
     "output_type": "display_data"
    },
    {
     "data": {
      "text/html": [
       "<pre>Gathering per-item and per-user statistics.</pre>"
      ],
      "text/plain": [
       "Gathering per-item and per-user statistics."
      ]
     },
     "metadata": {},
     "output_type": "display_data"
    },
    {
     "data": {
      "text/html": [
       "<pre>+--------------------------------+------------+</pre>"
      ],
      "text/plain": [
       "+--------------------------------+------------+"
      ]
     },
     "metadata": {},
     "output_type": "display_data"
    },
    {
     "data": {
      "text/html": [
       "<pre>| Elapsed Time (Item Statistics) | % Complete |</pre>"
      ],
      "text/plain": [
       "| Elapsed Time (Item Statistics) | % Complete |"
      ]
     },
     "metadata": {},
     "output_type": "display_data"
    },
    {
     "data": {
      "text/html": [
       "<pre>+--------------------------------+------------+</pre>"
      ],
      "text/plain": [
       "+--------------------------------+------------+"
      ]
     },
     "metadata": {},
     "output_type": "display_data"
    },
    {
     "data": {
      "text/html": [
       "<pre>| 34.49ms                        | 100        |</pre>"
      ],
      "text/plain": [
       "| 34.49ms                        | 100        |"
      ]
     },
     "metadata": {},
     "output_type": "display_data"
    },
    {
     "data": {
      "text/html": [
       "<pre>+--------------------------------+------------+</pre>"
      ],
      "text/plain": [
       "+--------------------------------+------------+"
      ]
     },
     "metadata": {},
     "output_type": "display_data"
    },
    {
     "data": {
      "text/html": [
       "<pre>Setting up lookup tables.</pre>"
      ],
      "text/plain": [
       "Setting up lookup tables."
      ]
     },
     "metadata": {},
     "output_type": "display_data"
    },
    {
     "data": {
      "text/html": [
       "<pre>Processing data in one pass using dense lookup tables.</pre>"
      ],
      "text/plain": [
       "Processing data in one pass using dense lookup tables."
      ]
     },
     "metadata": {},
     "output_type": "display_data"
    },
    {
     "data": {
      "text/html": [
       "<pre>+-------------------------------------+------------------+-----------------+</pre>"
      ],
      "text/plain": [
       "+-------------------------------------+------------------+-----------------+"
      ]
     },
     "metadata": {},
     "output_type": "display_data"
    },
    {
     "data": {
      "text/html": [
       "<pre>| Elapsed Time (Constructing Lookups) | Total % Complete | Items Processed |</pre>"
      ],
      "text/plain": [
       "| Elapsed Time (Constructing Lookups) | Total % Complete | Items Processed |"
      ]
     },
     "metadata": {},
     "output_type": "display_data"
    },
    {
     "data": {
      "text/html": [
       "<pre>+-------------------------------------+------------------+-----------------+</pre>"
      ],
      "text/plain": [
       "+-------------------------------------+------------------+-----------------+"
      ]
     },
     "metadata": {},
     "output_type": "display_data"
    },
    {
     "data": {
      "text/html": [
       "<pre>| 34.779ms                            | 0                | 0               |</pre>"
      ],
      "text/plain": [
       "| 34.779ms                            | 0                | 0               |"
      ]
     },
     "metadata": {},
     "output_type": "display_data"
    },
    {
     "data": {
      "text/html": [
       "<pre>| 40.293ms                            | 100              | 20              |</pre>"
      ],
      "text/plain": [
       "| 40.293ms                            | 100              | 20              |"
      ]
     },
     "metadata": {},
     "output_type": "display_data"
    },
    {
     "data": {
      "text/html": [
       "<pre>+-------------------------------------+------------------+-----------------+</pre>"
      ],
      "text/plain": [
       "+-------------------------------------+------------------+-----------------+"
      ]
     },
     "metadata": {},
     "output_type": "display_data"
    },
    {
     "data": {
      "text/html": [
       "<pre>Finalizing lookup tables.</pre>"
      ],
      "text/plain": [
       "Finalizing lookup tables."
      ]
     },
     "metadata": {},
     "output_type": "display_data"
    },
    {
     "data": {
      "text/html": [
       "<pre>Generating candidate set for working with new users.</pre>"
      ],
      "text/plain": [
       "Generating candidate set for working with new users."
      ]
     },
     "metadata": {},
     "output_type": "display_data"
    },
    {
     "data": {
      "text/html": [
       "<pre>Finished training in 0.087296s</pre>"
      ],
      "text/plain": [
       "Finished training in 0.087296s"
      ]
     },
     "metadata": {},
     "output_type": "display_data"
    },
    {
     "name": "stdout",
     "output_type": "stream",
     "text": [
      "\n",
      "Precision and recall summary statistics by cutoff\n",
      "+--------+-----------------+------------------+\n",
      "| cutoff |  mean_precision |   mean_recall    |\n",
      "+--------+-----------------+------------------+\n",
      "|   1    |       0.17      | 0.00483739553432 |\n",
      "|   2    |      0.125      | 0.00676090978576 |\n",
      "|   3    |      0.115      | 0.0097948312449  |\n",
      "|   4    |      0.115      | 0.0140547033331  |\n",
      "|   5    |      0.104      | 0.0144547033331  |\n",
      "|   6    | 0.0993333333333 | 0.0150429386273  |\n",
      "|   7    | 0.0948095238095 | 0.0150429386273  |\n",
      "|   8    | 0.0923095238095 | 0.0150429386273  |\n",
      "|   9    | 0.0913373015873 | 0.0150429386273  |\n",
      "|   10   | 0.0906706349206 | 0.0150429386273  |\n",
      "+--------+-----------------+------------------+\n",
      "[10 rows x 3 columns]\n",
      "\n",
      "('\\nOverall RMSE: ', 2.46623443630994)\n",
      "\n",
      "Per User RMSE (best)\n",
      "+--------+-------+---------------+\n",
      "| userId | count |      rmse     |\n",
      "+--------+-------+---------------+\n",
      "|  301   |   13  | 1.45813251733 |\n",
      "+--------+-------+---------------+\n",
      "[1 rows x 3 columns]\n",
      "\n",
      "\n",
      "Per User RMSE (worst)\n",
      "+--------+-------+---------------+\n",
      "| userId | count |      rmse     |\n",
      "+--------+-------+---------------+\n",
      "|  167   |   15  | 3.51695262908 |\n",
      "+--------+-------+---------------+\n",
      "[1 rows x 3 columns]\n",
      "\n",
      "\n",
      "Per Item RMSE (best)\n",
      "+-------+-------+---------------+\n",
      "| genre | count |      rmse     |\n",
      "+-------+-------+---------------+\n",
      "| Drama |  1511 | 1.46381216176 |\n",
      "+-------+-------+---------------+\n",
      "[1 rows x 3 columns]\n",
      "\n",
      "\n",
      "Per Item RMSE (worst)\n",
      "+-------------+-------+---------------+\n",
      "|    genre    | count |      rmse     |\n",
      "+-------------+-------+---------------+\n",
      "| Documentary |   55  | 4.05359434187 |\n",
      "+-------------+-------+---------------+\n",
      "[1 rows x 3 columns]\n",
      "\n"
     ]
    },
    {
     "data": {
      "text/html": [
       "<pre>Recsys training: model = item_similarity</pre>"
      ],
      "text/plain": [
       "Recsys training: model = item_similarity"
      ]
     },
     "metadata": {},
     "output_type": "display_data"
    },
    {
     "data": {
      "text/html": [
       "<pre>Warning: Ignoring columns movieId, title, genres;</pre>"
      ],
      "text/plain": [
       "Warning: Ignoring columns movieId, title, genres;"
      ]
     },
     "metadata": {},
     "output_type": "display_data"
    },
    {
     "data": {
      "text/html": [
       "<pre>    To use these columns in scoring predictions, use a model that allows the use of additional features.</pre>"
      ],
      "text/plain": [
       "    To use these columns in scoring predictions, use a model that allows the use of additional features."
      ]
     },
     "metadata": {},
     "output_type": "display_data"
    },
    {
     "data": {
      "text/html": [
       "<pre>Preparing data set.</pre>"
      ],
      "text/plain": [
       "Preparing data set."
      ]
     },
     "metadata": {},
     "output_type": "display_data"
    },
    {
     "data": {
      "text/html": [
       "<pre>    Data has 257193 observations with 671 users and 20 items.</pre>"
      ],
      "text/plain": [
       "    Data has 257193 observations with 671 users and 20 items."
      ]
     },
     "metadata": {},
     "output_type": "display_data"
    },
    {
     "data": {
      "text/html": [
       "<pre>    Data prepared in: 0.378517s</pre>"
      ],
      "text/plain": [
       "    Data prepared in: 0.378517s"
      ]
     },
     "metadata": {},
     "output_type": "display_data"
    },
    {
     "data": {
      "text/html": [
       "<pre>Training model from provided data.</pre>"
      ],
      "text/plain": [
       "Training model from provided data."
      ]
     },
     "metadata": {},
     "output_type": "display_data"
    },
    {
     "data": {
      "text/html": [
       "<pre>Gathering per-item and per-user statistics.</pre>"
      ],
      "text/plain": [
       "Gathering per-item and per-user statistics."
      ]
     },
     "metadata": {},
     "output_type": "display_data"
    },
    {
     "data": {
      "text/html": [
       "<pre>+--------------------------------+------------+</pre>"
      ],
      "text/plain": [
       "+--------------------------------+------------+"
      ]
     },
     "metadata": {},
     "output_type": "display_data"
    },
    {
     "data": {
      "text/html": [
       "<pre>| Elapsed Time (Item Statistics) | % Complete |</pre>"
      ],
      "text/plain": [
       "| Elapsed Time (Item Statistics) | % Complete |"
      ]
     },
     "metadata": {},
     "output_type": "display_data"
    },
    {
     "data": {
      "text/html": [
       "<pre>+--------------------------------+------------+</pre>"
      ],
      "text/plain": [
       "+--------------------------------+------------+"
      ]
     },
     "metadata": {},
     "output_type": "display_data"
    },
    {
     "data": {
      "text/html": [
       "<pre>| 1.443ms                        | 100        |</pre>"
      ],
      "text/plain": [
       "| 1.443ms                        | 100        |"
      ]
     },
     "metadata": {},
     "output_type": "display_data"
    },
    {
     "data": {
      "text/html": [
       "<pre>+--------------------------------+------------+</pre>"
      ],
      "text/plain": [
       "+--------------------------------+------------+"
      ]
     },
     "metadata": {},
     "output_type": "display_data"
    },
    {
     "data": {
      "text/html": [
       "<pre>Setting up lookup tables.</pre>"
      ],
      "text/plain": [
       "Setting up lookup tables."
      ]
     },
     "metadata": {},
     "output_type": "display_data"
    },
    {
     "data": {
      "text/html": [
       "<pre>Processing data in one pass using dense lookup tables.</pre>"
      ],
      "text/plain": [
       "Processing data in one pass using dense lookup tables."
      ]
     },
     "metadata": {},
     "output_type": "display_data"
    },
    {
     "data": {
      "text/html": [
       "<pre>+-------------------------------------+------------------+-----------------+</pre>"
      ],
      "text/plain": [
       "+-------------------------------------+------------------+-----------------+"
      ]
     },
     "metadata": {},
     "output_type": "display_data"
    },
    {
     "data": {
      "text/html": [
       "<pre>| Elapsed Time (Constructing Lookups) | Total % Complete | Items Processed |</pre>"
      ],
      "text/plain": [
       "| Elapsed Time (Constructing Lookups) | Total % Complete | Items Processed |"
      ]
     },
     "metadata": {},
     "output_type": "display_data"
    },
    {
     "data": {
      "text/html": [
       "<pre>+-------------------------------------+------------------+-----------------+</pre>"
      ],
      "text/plain": [
       "+-------------------------------------+------------------+-----------------+"
      ]
     },
     "metadata": {},
     "output_type": "display_data"
    },
    {
     "data": {
      "text/html": [
       "<pre>| 1.756ms                             | 0                | 0               |</pre>"
      ],
      "text/plain": [
       "| 1.756ms                             | 0                | 0               |"
      ]
     },
     "metadata": {},
     "output_type": "display_data"
    },
    {
     "data": {
      "text/html": [
       "<pre>| 32.521ms                            | 100              | 20              |</pre>"
      ],
      "text/plain": [
       "| 32.521ms                            | 100              | 20              |"
      ]
     },
     "metadata": {},
     "output_type": "display_data"
    },
    {
     "data": {
      "text/html": [
       "<pre>+-------------------------------------+------------------+-----------------+</pre>"
      ],
      "text/plain": [
       "+-------------------------------------+------------------+-----------------+"
      ]
     },
     "metadata": {},
     "output_type": "display_data"
    },
    {
     "data": {
      "text/html": [
       "<pre>Finalizing lookup tables.</pre>"
      ],
      "text/plain": [
       "Finalizing lookup tables."
      ]
     },
     "metadata": {},
     "output_type": "display_data"
    },
    {
     "data": {
      "text/html": [
       "<pre>Generating candidate set for working with new users.</pre>"
      ],
      "text/plain": [
       "Generating candidate set for working with new users."
      ]
     },
     "metadata": {},
     "output_type": "display_data"
    },
    {
     "data": {
      "text/html": [
       "<pre>Finished training in 0.066579s</pre>"
      ],
      "text/plain": [
       "Finished training in 0.066579s"
      ]
     },
     "metadata": {},
     "output_type": "display_data"
    },
    {
     "name": "stdout",
     "output_type": "stream",
     "text": [
      "\n",
      "Precision and recall summary statistics by cutoff\n",
      "+--------+-----------------+------------------+\n",
      "| cutoff |  mean_precision |   mean_recall    |\n",
      "+--------+-----------------+------------------+\n",
      "|   1    |       0.07      | 0.00151808248881 |\n",
      "|   2    |       0.07      | 0.00366121574476 |\n",
      "|   3    | 0.0683333333333 | 0.00475839634194 |\n",
      "|   4    |       0.08      | 0.00730297115268 |\n",
      "|   5    |      0.084      | 0.00890474754181 |\n",
      "|   6    | 0.0876666666667 | 0.0119288802718  |\n",
      "|   7    | 0.0876666666667 | 0.0126583232426  |\n",
      "|   8    | 0.0885595238095 | 0.0135429386273  |\n",
      "|   9    | 0.0891150793651 | 0.0140429386273  |\n",
      "|   10   | 0.0896706349206 | 0.0145429386273  |\n",
      "+--------+-----------------+------------------+\n",
      "[10 rows x 3 columns]\n",
      "\n",
      "('\\nOverall RMSE: ', 0.9772136052408656)\n",
      "\n",
      "Per User RMSE (best)\n",
      "+--------+-------+----------------+\n",
      "| userId | count |      rmse      |\n",
      "+--------+-------+----------------+\n",
      "|  323   |   12  | 0.366089616777 |\n",
      "+--------+-------+----------------+\n",
      "[1 rows x 3 columns]\n",
      "\n",
      "\n",
      "Per User RMSE (worst)\n",
      "+--------+-------+---------------+\n",
      "| userId | count |      rmse     |\n",
      "+--------+-------+---------------+\n",
      "|  325   |   20  | 1.95791792107 |\n",
      "+--------+-------+---------------+\n",
      "[1 rows x 3 columns]\n",
      "\n",
      "\n",
      "Per Item RMSE (best)\n",
      "+-------------+-------+----------------+\n",
      "|    genre    | count |      rmse      |\n",
      "+-------------+-------+----------------+\n",
      "| Documentary |   55  | 0.828446599824 |\n",
      "+-------------+-------+----------------+\n",
      "[1 rows x 3 columns]\n",
      "\n",
      "\n",
      "Per Item RMSE (worst)\n",
      "+--------+-------+---------------+\n",
      "| genre  | count |      rmse     |\n",
      "+--------+-------+---------------+\n",
      "| Horror |  212  | 1.07553840378 |\n",
      "+--------+-------+---------------+\n",
      "[1 rows x 3 columns]\n",
      "\n"
     ]
    },
    {
     "data": {
      "text/html": [
       "<pre>Recsys training: model = item_similarity</pre>"
      ],
      "text/plain": [
       "Recsys training: model = item_similarity"
      ]
     },
     "metadata": {},
     "output_type": "display_data"
    },
    {
     "data": {
      "text/html": [
       "<pre>Warning: Ignoring columns movieId, title, genres;</pre>"
      ],
      "text/plain": [
       "Warning: Ignoring columns movieId, title, genres;"
      ]
     },
     "metadata": {},
     "output_type": "display_data"
    },
    {
     "data": {
      "text/html": [
       "<pre>    To use these columns in scoring predictions, use a model that allows the use of additional features.</pre>"
      ],
      "text/plain": [
       "    To use these columns in scoring predictions, use a model that allows the use of additional features."
      ]
     },
     "metadata": {},
     "output_type": "display_data"
    },
    {
     "data": {
      "text/html": [
       "<pre>Preparing data set.</pre>"
      ],
      "text/plain": [
       "Preparing data set."
      ]
     },
     "metadata": {},
     "output_type": "display_data"
    },
    {
     "data": {
      "text/html": [
       "<pre>    Data has 257193 observations with 671 users and 20 items.</pre>"
      ],
      "text/plain": [
       "    Data has 257193 observations with 671 users and 20 items."
      ]
     },
     "metadata": {},
     "output_type": "display_data"
    },
    {
     "data": {
      "text/html": [
       "<pre>    Data prepared in: 0.302214s</pre>"
      ],
      "text/plain": [
       "    Data prepared in: 0.302214s"
      ]
     },
     "metadata": {},
     "output_type": "display_data"
    },
    {
     "data": {
      "text/html": [
       "<pre>Training model from provided data.</pre>"
      ],
      "text/plain": [
       "Training model from provided data."
      ]
     },
     "metadata": {},
     "output_type": "display_data"
    },
    {
     "data": {
      "text/html": [
       "<pre>Gathering per-item and per-user statistics.</pre>"
      ],
      "text/plain": [
       "Gathering per-item and per-user statistics."
      ]
     },
     "metadata": {},
     "output_type": "display_data"
    },
    {
     "data": {
      "text/html": [
       "<pre>+--------------------------------+------------+</pre>"
      ],
      "text/plain": [
       "+--------------------------------+------------+"
      ]
     },
     "metadata": {},
     "output_type": "display_data"
    },
    {
     "data": {
      "text/html": [
       "<pre>| Elapsed Time (Item Statistics) | % Complete |</pre>"
      ],
      "text/plain": [
       "| Elapsed Time (Item Statistics) | % Complete |"
      ]
     },
     "metadata": {},
     "output_type": "display_data"
    },
    {
     "data": {
      "text/html": [
       "<pre>+--------------------------------+------------+</pre>"
      ],
      "text/plain": [
       "+--------------------------------+------------+"
      ]
     },
     "metadata": {},
     "output_type": "display_data"
    },
    {
     "data": {
      "text/html": [
       "<pre>| 1.481ms                        | 100        |</pre>"
      ],
      "text/plain": [
       "| 1.481ms                        | 100        |"
      ]
     },
     "metadata": {},
     "output_type": "display_data"
    },
    {
     "data": {
      "text/html": [
       "<pre>+--------------------------------+------------+</pre>"
      ],
      "text/plain": [
       "+--------------------------------+------------+"
      ]
     },
     "metadata": {},
     "output_type": "display_data"
    },
    {
     "data": {
      "text/html": [
       "<pre>Setting up lookup tables.</pre>"
      ],
      "text/plain": [
       "Setting up lookup tables."
      ]
     },
     "metadata": {},
     "output_type": "display_data"
    },
    {
     "data": {
      "text/html": [
       "<pre>Processing data in one pass using dense lookup tables.</pre>"
      ],
      "text/plain": [
       "Processing data in one pass using dense lookup tables."
      ]
     },
     "metadata": {},
     "output_type": "display_data"
    },
    {
     "data": {
      "text/html": [
       "<pre>+-------------------------------------+------------------+-----------------+</pre>"
      ],
      "text/plain": [
       "+-------------------------------------+------------------+-----------------+"
      ]
     },
     "metadata": {},
     "output_type": "display_data"
    },
    {
     "data": {
      "text/html": [
       "<pre>| Elapsed Time (Constructing Lookups) | Total % Complete | Items Processed |</pre>"
      ],
      "text/plain": [
       "| Elapsed Time (Constructing Lookups) | Total % Complete | Items Processed |"
      ]
     },
     "metadata": {},
     "output_type": "display_data"
    },
    {
     "data": {
      "text/html": [
       "<pre>+-------------------------------------+------------------+-----------------+</pre>"
      ],
      "text/plain": [
       "+-------------------------------------+------------------+-----------------+"
      ]
     },
     "metadata": {},
     "output_type": "display_data"
    },
    {
     "data": {
      "text/html": [
       "<pre>| 1.755ms                             | 0                | 0               |</pre>"
      ],
      "text/plain": [
       "| 1.755ms                             | 0                | 0               |"
      ]
     },
     "metadata": {},
     "output_type": "display_data"
    },
    {
     "data": {
      "text/html": [
       "<pre>| 3.82ms                              | 100              | 20              |</pre>"
      ],
      "text/plain": [
       "| 3.82ms                              | 100              | 20              |"
      ]
     },
     "metadata": {},
     "output_type": "display_data"
    },
    {
     "data": {
      "text/html": [
       "<pre>+-------------------------------------+------------------+-----------------+</pre>"
      ],
      "text/plain": [
       "+-------------------------------------+------------------+-----------------+"
      ]
     },
     "metadata": {},
     "output_type": "display_data"
    },
    {
     "data": {
      "text/html": [
       "<pre>Finalizing lookup tables.</pre>"
      ],
      "text/plain": [
       "Finalizing lookup tables."
      ]
     },
     "metadata": {},
     "output_type": "display_data"
    },
    {
     "data": {
      "text/html": [
       "<pre>Generating candidate set for working with new users.</pre>"
      ],
      "text/plain": [
       "Generating candidate set for working with new users."
      ]
     },
     "metadata": {},
     "output_type": "display_data"
    },
    {
     "data": {
      "text/html": [
       "<pre>Finished training in 0.091268s</pre>"
      ],
      "text/plain": [
       "Finished training in 0.091268s"
      ]
     },
     "metadata": {},
     "output_type": "display_data"
    },
    {
     "name": "stdout",
     "output_type": "stream",
     "text": [
      "\n",
      "Precision and recall summary statistics by cutoff\n",
      "+--------+-----------------+------------------+\n",
      "| cutoff |  mean_precision |   mean_recall    |\n",
      "+--------+-----------------+------------------+\n",
      "|   1    |       0.15      | 0.00361361931054 |\n",
      "|   2    |      0.115      | 0.00588415213481 |\n",
      "|   3    |      0.115      | 0.0097948312449  |\n",
      "|   4    |      0.1125     | 0.0132854725639  |\n",
      "|   5    |      0.104      | 0.0144547033331  |\n",
      "|   6    | 0.0976666666667 | 0.0144547033331  |\n",
      "|   7    | 0.0948095238095 | 0.0150429386273  |\n",
      "|   8    | 0.0923095238095 | 0.0150429386273  |\n",
      "|   9    | 0.0913373015873 | 0.0150429386273  |\n",
      "|   10   | 0.0906706349206 | 0.0150429386273  |\n",
      "+--------+-----------------+------------------+\n",
      "[10 rows x 3 columns]\n",
      "\n",
      "('\\nOverall RMSE: ', 3.369860259506006)\n",
      "\n",
      "Per User RMSE (best)\n",
      "+--------+-------+---------------+\n",
      "| userId | count |      rmse     |\n",
      "+--------+-------+---------------+\n",
      "|  325   |   20  | 1.94616375155 |\n",
      "+--------+-------+---------------+\n",
      "[1 rows x 3 columns]\n",
      "\n",
      "\n",
      "Per User RMSE (worst)\n",
      "+--------+-------+---------------+\n",
      "| userId | count |      rmse     |\n",
      "+--------+-------+---------------+\n",
      "|  546   |   39  | 4.41565583512 |\n",
      "+--------+-------+---------------+\n",
      "[1 rows x 3 columns]\n",
      "\n",
      "\n",
      "Per Item RMSE (best)\n",
      "+--------+-------+---------------+\n",
      "| genre  | count |      rmse     |\n",
      "+--------+-------+---------------+\n",
      "| Action |  750  | 3.12032777152 |\n",
      "+--------+-------+---------------+\n",
      "[1 rows x 3 columns]\n",
      "\n",
      "\n",
      "Per Item RMSE (worst)\n",
      "+-----------+-------+---------------+\n",
      "|   genre   | count |      rmse     |\n",
      "+-----------+-------+---------------+\n",
      "| Film-Noir |   33  | 4.04778205046 |\n",
      "+-----------+-------+---------------+\n",
      "[1 rows x 3 columns]\n",
      "\n"
     ]
    },
    {
     "data": {
      "text/html": [
       "<pre>Recsys training: model = item_similarity</pre>"
      ],
      "text/plain": [
       "Recsys training: model = item_similarity"
      ]
     },
     "metadata": {},
     "output_type": "display_data"
    },
    {
     "data": {
      "text/html": [
       "<pre>Warning: Ignoring columns movieId, title, genres;</pre>"
      ],
      "text/plain": [
       "Warning: Ignoring columns movieId, title, genres;"
      ]
     },
     "metadata": {},
     "output_type": "display_data"
    },
    {
     "data": {
      "text/html": [
       "<pre>    To use these columns in scoring predictions, use a model that allows the use of additional features.</pre>"
      ],
      "text/plain": [
       "    To use these columns in scoring predictions, use a model that allows the use of additional features."
      ]
     },
     "metadata": {},
     "output_type": "display_data"
    },
    {
     "data": {
      "text/html": [
       "<pre>Preparing data set.</pre>"
      ],
      "text/plain": [
       "Preparing data set."
      ]
     },
     "metadata": {},
     "output_type": "display_data"
    },
    {
     "data": {
      "text/html": [
       "<pre>    Data has 257193 observations with 671 users and 20 items.</pre>"
      ],
      "text/plain": [
       "    Data has 257193 observations with 671 users and 20 items."
      ]
     },
     "metadata": {},
     "output_type": "display_data"
    },
    {
     "data": {
      "text/html": [
       "<pre>    Data prepared in: 0.323046s</pre>"
      ],
      "text/plain": [
       "    Data prepared in: 0.323046s"
      ]
     },
     "metadata": {},
     "output_type": "display_data"
    },
    {
     "data": {
      "text/html": [
       "<pre>Training model from provided data.</pre>"
      ],
      "text/plain": [
       "Training model from provided data."
      ]
     },
     "metadata": {},
     "output_type": "display_data"
    },
    {
     "data": {
      "text/html": [
       "<pre>Gathering per-item and per-user statistics.</pre>"
      ],
      "text/plain": [
       "Gathering per-item and per-user statistics."
      ]
     },
     "metadata": {},
     "output_type": "display_data"
    },
    {
     "data": {
      "text/html": [
       "<pre>+--------------------------------+------------+</pre>"
      ],
      "text/plain": [
       "+--------------------------------+------------+"
      ]
     },
     "metadata": {},
     "output_type": "display_data"
    },
    {
     "data": {
      "text/html": [
       "<pre>| Elapsed Time (Item Statistics) | % Complete |</pre>"
      ],
      "text/plain": [
       "| Elapsed Time (Item Statistics) | % Complete |"
      ]
     },
     "metadata": {},
     "output_type": "display_data"
    },
    {
     "data": {
      "text/html": [
       "<pre>+--------------------------------+------------+</pre>"
      ],
      "text/plain": [
       "+--------------------------------+------------+"
      ]
     },
     "metadata": {},
     "output_type": "display_data"
    },
    {
     "data": {
      "text/html": [
       "<pre>| 1.644ms                        | 100        |</pre>"
      ],
      "text/plain": [
       "| 1.644ms                        | 100        |"
      ]
     },
     "metadata": {},
     "output_type": "display_data"
    },
    {
     "data": {
      "text/html": [
       "<pre>+--------------------------------+------------+</pre>"
      ],
      "text/plain": [
       "+--------------------------------+------------+"
      ]
     },
     "metadata": {},
     "output_type": "display_data"
    },
    {
     "data": {
      "text/html": [
       "<pre>Setting up lookup tables.</pre>"
      ],
      "text/plain": [
       "Setting up lookup tables."
      ]
     },
     "metadata": {},
     "output_type": "display_data"
    },
    {
     "data": {
      "text/html": [
       "<pre>Processing data in one pass using dense lookup tables.</pre>"
      ],
      "text/plain": [
       "Processing data in one pass using dense lookup tables."
      ]
     },
     "metadata": {},
     "output_type": "display_data"
    },
    {
     "data": {
      "text/html": [
       "<pre>+-------------------------------------+------------------+-----------------+</pre>"
      ],
      "text/plain": [
       "+-------------------------------------+------------------+-----------------+"
      ]
     },
     "metadata": {},
     "output_type": "display_data"
    },
    {
     "data": {
      "text/html": [
       "<pre>| Elapsed Time (Constructing Lookups) | Total % Complete | Items Processed |</pre>"
      ],
      "text/plain": [
       "| Elapsed Time (Constructing Lookups) | Total % Complete | Items Processed |"
      ]
     },
     "metadata": {},
     "output_type": "display_data"
    },
    {
     "data": {
      "text/html": [
       "<pre>+-------------------------------------+------------------+-----------------+</pre>"
      ],
      "text/plain": [
       "+-------------------------------------+------------------+-----------------+"
      ]
     },
     "metadata": {},
     "output_type": "display_data"
    },
    {
     "data": {
      "text/html": [
       "<pre>| 1.959ms                             | 0                | 0               |</pre>"
      ],
      "text/plain": [
       "| 1.959ms                             | 0                | 0               |"
      ]
     },
     "metadata": {},
     "output_type": "display_data"
    },
    {
     "data": {
      "text/html": [
       "<pre>| 4.653ms                             | 100              | 20              |</pre>"
      ],
      "text/plain": [
       "| 4.653ms                             | 100              | 20              |"
      ]
     },
     "metadata": {},
     "output_type": "display_data"
    },
    {
     "data": {
      "text/html": [
       "<pre>+-------------------------------------+------------------+-----------------+</pre>"
      ],
      "text/plain": [
       "+-------------------------------------+------------------+-----------------+"
      ]
     },
     "metadata": {},
     "output_type": "display_data"
    },
    {
     "data": {
      "text/html": [
       "<pre>Finalizing lookup tables.</pre>"
      ],
      "text/plain": [
       "Finalizing lookup tables."
      ]
     },
     "metadata": {},
     "output_type": "display_data"
    },
    {
     "data": {
      "text/html": [
       "<pre>Generating candidate set for working with new users.</pre>"
      ],
      "text/plain": [
       "Generating candidate set for working with new users."
      ]
     },
     "metadata": {},
     "output_type": "display_data"
    },
    {
     "data": {
      "text/html": [
       "<pre>Finished training in 0.041603s</pre>"
      ],
      "text/plain": [
       "Finished training in 0.041603s"
      ]
     },
     "metadata": {},
     "output_type": "display_data"
    },
    {
     "name": "stdout",
     "output_type": "stream",
     "text": [
      "\n",
      "Precision and recall summary statistics by cutoff\n",
      "+--------+-----------------+-----------------+\n",
      "| cutoff |  mean_precision |   mean_recall   |\n",
      "+--------+-----------------+-----------------+\n",
      "|   1    |       0.23      | 0.0077783958054 |\n",
      "|   2    |      0.155      | 0.0105044405091 |\n",
      "|   3    |      0.125      | 0.0118834600074 |\n",
      "|   4    |      0.115      | 0.0140429386273 |\n",
      "|   5    |      0.104      | 0.0145429386273 |\n",
      "|   6    | 0.0993333333333 | 0.0150429386273 |\n",
      "|   7    | 0.0948095238095 | 0.0150429386273 |\n",
      "|   8    | 0.0923095238095 | 0.0150429386273 |\n",
      "|   9    | 0.0913373015873 | 0.0150429386273 |\n",
      "|   10   | 0.0906706349206 | 0.0150429386273 |\n",
      "+--------+-----------------+-----------------+\n",
      "[10 rows x 3 columns]\n",
      "\n",
      "('\\nOverall RMSE: ', 1.2153686272561128)\n",
      "\n",
      "Per User RMSE (best)\n",
      "+--------+-------+----------------+\n",
      "| userId | count |      rmse      |\n",
      "+--------+-------+----------------+\n",
      "|  127   |   13  | 0.574284253269 |\n",
      "+--------+-------+----------------+\n",
      "[1 rows x 3 columns]\n",
      "\n",
      "\n",
      "Per User RMSE (worst)\n",
      "+--------+-------+---------------+\n",
      "| userId | count |      rmse     |\n",
      "+--------+-------+---------------+\n",
      "|  477   |   9   | 2.28799762116 |\n",
      "+--------+-------+---------------+\n",
      "[1 rows x 3 columns]\n",
      "\n",
      "\n",
      "Per Item RMSE (best)\n",
      "+----------+-------+----------------+\n",
      "|  genre   | count |      rmse      |\n",
      "+----------+-------+----------------+\n",
      "| Children |  253  | 0.997611227709 |\n",
      "+----------+-------+----------------+\n",
      "[1 rows x 3 columns]\n",
      "\n",
      "\n",
      "Per Item RMSE (worst)\n",
      "+-----------+-------+---------------+\n",
      "|   genre   | count |      rmse     |\n",
      "+-----------+-------+---------------+\n",
      "| Film-Noir |   33  | 3.97413952315 |\n",
      "+-----------+-------+---------------+\n",
      "[1 rows x 3 columns]\n",
      "\n"
     ]
    },
    {
     "data": {
      "text/html": [
       "<pre>Recsys training: model = item_similarity</pre>"
      ],
      "text/plain": [
       "Recsys training: model = item_similarity"
      ]
     },
     "metadata": {},
     "output_type": "display_data"
    },
    {
     "data": {
      "text/html": [
       "<pre>Warning: Ignoring columns movieId, title, genres;</pre>"
      ],
      "text/plain": [
       "Warning: Ignoring columns movieId, title, genres;"
      ]
     },
     "metadata": {},
     "output_type": "display_data"
    },
    {
     "data": {
      "text/html": [
       "<pre>    To use these columns in scoring predictions, use a model that allows the use of additional features.</pre>"
      ],
      "text/plain": [
       "    To use these columns in scoring predictions, use a model that allows the use of additional features."
      ]
     },
     "metadata": {},
     "output_type": "display_data"
    },
    {
     "data": {
      "text/html": [
       "<pre>Preparing data set.</pre>"
      ],
      "text/plain": [
       "Preparing data set."
      ]
     },
     "metadata": {},
     "output_type": "display_data"
    },
    {
     "data": {
      "text/html": [
       "<pre>    Data has 257193 observations with 671 users and 20 items.</pre>"
      ],
      "text/plain": [
       "    Data has 257193 observations with 671 users and 20 items."
      ]
     },
     "metadata": {},
     "output_type": "display_data"
    },
    {
     "data": {
      "text/html": [
       "<pre>    Data prepared in: 0.286158s</pre>"
      ],
      "text/plain": [
       "    Data prepared in: 0.286158s"
      ]
     },
     "metadata": {},
     "output_type": "display_data"
    },
    {
     "data": {
      "text/html": [
       "<pre>Training model from provided data.</pre>"
      ],
      "text/plain": [
       "Training model from provided data."
      ]
     },
     "metadata": {},
     "output_type": "display_data"
    },
    {
     "data": {
      "text/html": [
       "<pre>Gathering per-item and per-user statistics.</pre>"
      ],
      "text/plain": [
       "Gathering per-item and per-user statistics."
      ]
     },
     "metadata": {},
     "output_type": "display_data"
    },
    {
     "data": {
      "text/html": [
       "<pre>+--------------------------------+------------+</pre>"
      ],
      "text/plain": [
       "+--------------------------------+------------+"
      ]
     },
     "metadata": {},
     "output_type": "display_data"
    },
    {
     "data": {
      "text/html": [
       "<pre>| Elapsed Time (Item Statistics) | % Complete |</pre>"
      ],
      "text/plain": [
       "| Elapsed Time (Item Statistics) | % Complete |"
      ]
     },
     "metadata": {},
     "output_type": "display_data"
    },
    {
     "data": {
      "text/html": [
       "<pre>+--------------------------------+------------+</pre>"
      ],
      "text/plain": [
       "+--------------------------------+------------+"
      ]
     },
     "metadata": {},
     "output_type": "display_data"
    },
    {
     "data": {
      "text/html": [
       "<pre>| 1.421ms                        | 100        |</pre>"
      ],
      "text/plain": [
       "| 1.421ms                        | 100        |"
      ]
     },
     "metadata": {},
     "output_type": "display_data"
    },
    {
     "data": {
      "text/html": [
       "<pre>+--------------------------------+------------+</pre>"
      ],
      "text/plain": [
       "+--------------------------------+------------+"
      ]
     },
     "metadata": {},
     "output_type": "display_data"
    },
    {
     "data": {
      "text/html": [
       "<pre>Setting up lookup tables.</pre>"
      ],
      "text/plain": [
       "Setting up lookup tables."
      ]
     },
     "metadata": {},
     "output_type": "display_data"
    },
    {
     "data": {
      "text/html": [
       "<pre>Processing data in one pass using dense lookup tables.</pre>"
      ],
      "text/plain": [
       "Processing data in one pass using dense lookup tables."
      ]
     },
     "metadata": {},
     "output_type": "display_data"
    },
    {
     "data": {
      "text/html": [
       "<pre>+-------------------------------------+------------------+-----------------+</pre>"
      ],
      "text/plain": [
       "+-------------------------------------+------------------+-----------------+"
      ]
     },
     "metadata": {},
     "output_type": "display_data"
    },
    {
     "data": {
      "text/html": [
       "<pre>| Elapsed Time (Constructing Lookups) | Total % Complete | Items Processed |</pre>"
      ],
      "text/plain": [
       "| Elapsed Time (Constructing Lookups) | Total % Complete | Items Processed |"
      ]
     },
     "metadata": {},
     "output_type": "display_data"
    },
    {
     "data": {
      "text/html": [
       "<pre>+-------------------------------------+------------------+-----------------+</pre>"
      ],
      "text/plain": [
       "+-------------------------------------+------------------+-----------------+"
      ]
     },
     "metadata": {},
     "output_type": "display_data"
    },
    {
     "data": {
      "text/html": [
       "<pre>| 1.989ms                             | 0                | 0               |</pre>"
      ],
      "text/plain": [
       "| 1.989ms                             | 0                | 0               |"
      ]
     },
     "metadata": {},
     "output_type": "display_data"
    },
    {
     "data": {
      "text/html": [
       "<pre>| 5.714ms                             | 100              | 20              |</pre>"
      ],
      "text/plain": [
       "| 5.714ms                             | 100              | 20              |"
      ]
     },
     "metadata": {},
     "output_type": "display_data"
    },
    {
     "data": {
      "text/html": [
       "<pre>+-------------------------------------+------------------+-----------------+</pre>"
      ],
      "text/plain": [
       "+-------------------------------------+------------------+-----------------+"
      ]
     },
     "metadata": {},
     "output_type": "display_data"
    },
    {
     "data": {
      "text/html": [
       "<pre>Finalizing lookup tables.</pre>"
      ],
      "text/plain": [
       "Finalizing lookup tables."
      ]
     },
     "metadata": {},
     "output_type": "display_data"
    },
    {
     "data": {
      "text/html": [
       "<pre>Generating candidate set for working with new users.</pre>"
      ],
      "text/plain": [
       "Generating candidate set for working with new users."
      ]
     },
     "metadata": {},
     "output_type": "display_data"
    },
    {
     "data": {
      "text/html": [
       "<pre>Finished training in 0.055674s</pre>"
      ],
      "text/plain": [
       "Finished training in 0.055674s"
      ]
     },
     "metadata": {},
     "output_type": "display_data"
    },
    {
     "name": "stdout",
     "output_type": "stream",
     "text": [
      "\n",
      "Precision and recall summary statistics by cutoff\n",
      "+--------+-----------------+------------------+\n",
      "| cutoff |  mean_precision |   mean_recall    |\n",
      "+--------+-----------------+------------------+\n",
      "|   1    |       0.08      | 0.00186291007502 |\n",
      "|   2    |      0.075      | 0.00414408287763 |\n",
      "|   3    | 0.0716666666667 | 0.00571586240529 |\n",
      "|   4    |      0.085      | 0.00855787311346 |\n",
      "|   5    |      0.088      | 0.0101596495026  |\n",
      "|   6    | 0.0876666666667 | 0.0115442648872  |\n",
      "|   7    | 0.0876666666667 | 0.0126583232426  |\n",
      "|   8    | 0.0885595238095 | 0.0135429386273  |\n",
      "|   9    | 0.0891150793651 | 0.0140429386273  |\n",
      "|   10   | 0.0896706349206 | 0.0145429386273  |\n",
      "+--------+-----------------+------------------+\n",
      "[10 rows x 3 columns]\n",
      "\n",
      "('\\nOverall RMSE: ', 0.961300740605053)\n",
      "\n",
      "Per User RMSE (best)\n",
      "+--------+-------+----------------+\n",
      "| userId | count |      rmse      |\n",
      "+--------+-------+----------------+\n",
      "|  323   |   12  | 0.360154454911 |\n",
      "+--------+-------+----------------+\n",
      "[1 rows x 3 columns]\n",
      "\n",
      "\n",
      "Per User RMSE (worst)\n",
      "+--------+-------+---------------+\n",
      "| userId | count |      rmse     |\n",
      "+--------+-------+---------------+\n",
      "|   52   |   29  | 1.87591972335 |\n",
      "+--------+-------+---------------+\n",
      "[1 rows x 3 columns]\n",
      "\n",
      "\n",
      "Per Item RMSE (best)\n",
      "+-------------+-------+----------------+\n",
      "|    genre    | count |      rmse      |\n",
      "+-------------+-------+----------------+\n",
      "| Documentary |   55  | 0.829408657827 |\n",
      "+-------------+-------+----------------+\n",
      "[1 rows x 3 columns]\n",
      "\n",
      "\n",
      "Per Item RMSE (worst)\n",
      "+--------+-------+--------------+\n",
      "| genre  | count |     rmse     |\n",
      "+--------+-------+--------------+\n",
      "| Horror |  212  | 1.0351472066 |\n",
      "+--------+-------+--------------+\n",
      "[1 rows x 3 columns]\n",
      "\n"
     ]
    },
    {
     "data": {
      "text/html": [
       "<pre>Recsys training: model = item_similarity</pre>"
      ],
      "text/plain": [
       "Recsys training: model = item_similarity"
      ]
     },
     "metadata": {},
     "output_type": "display_data"
    },
    {
     "data": {
      "text/html": [
       "<pre>Warning: Ignoring columns movieId, title, genres;</pre>"
      ],
      "text/plain": [
       "Warning: Ignoring columns movieId, title, genres;"
      ]
     },
     "metadata": {},
     "output_type": "display_data"
    },
    {
     "data": {
      "text/html": [
       "<pre>    To use these columns in scoring predictions, use a model that allows the use of additional features.</pre>"
      ],
      "text/plain": [
       "    To use these columns in scoring predictions, use a model that allows the use of additional features."
      ]
     },
     "metadata": {},
     "output_type": "display_data"
    },
    {
     "data": {
      "text/html": [
       "<pre>Preparing data set.</pre>"
      ],
      "text/plain": [
       "Preparing data set."
      ]
     },
     "metadata": {},
     "output_type": "display_data"
    },
    {
     "data": {
      "text/html": [
       "<pre>    Data has 257193 observations with 671 users and 20 items.</pre>"
      ],
      "text/plain": [
       "    Data has 257193 observations with 671 users and 20 items."
      ]
     },
     "metadata": {},
     "output_type": "display_data"
    },
    {
     "data": {
      "text/html": [
       "<pre>    Data prepared in: 0.313443s</pre>"
      ],
      "text/plain": [
       "    Data prepared in: 0.313443s"
      ]
     },
     "metadata": {},
     "output_type": "display_data"
    },
    {
     "data": {
      "text/html": [
       "<pre>Training model from provided data.</pre>"
      ],
      "text/plain": [
       "Training model from provided data."
      ]
     },
     "metadata": {},
     "output_type": "display_data"
    },
    {
     "data": {
      "text/html": [
       "<pre>Gathering per-item and per-user statistics.</pre>"
      ],
      "text/plain": [
       "Gathering per-item and per-user statistics."
      ]
     },
     "metadata": {},
     "output_type": "display_data"
    },
    {
     "data": {
      "text/html": [
       "<pre>+--------------------------------+------------+</pre>"
      ],
      "text/plain": [
       "+--------------------------------+------------+"
      ]
     },
     "metadata": {},
     "output_type": "display_data"
    },
    {
     "data": {
      "text/html": [
       "<pre>| Elapsed Time (Item Statistics) | % Complete |</pre>"
      ],
      "text/plain": [
       "| Elapsed Time (Item Statistics) | % Complete |"
      ]
     },
     "metadata": {},
     "output_type": "display_data"
    },
    {
     "data": {
      "text/html": [
       "<pre>+--------------------------------+------------+</pre>"
      ],
      "text/plain": [
       "+--------------------------------+------------+"
      ]
     },
     "metadata": {},
     "output_type": "display_data"
    },
    {
     "data": {
      "text/html": [
       "<pre>| 2.014ms                        | 100        |</pre>"
      ],
      "text/plain": [
       "| 2.014ms                        | 100        |"
      ]
     },
     "metadata": {},
     "output_type": "display_data"
    },
    {
     "data": {
      "text/html": [
       "<pre>+--------------------------------+------------+</pre>"
      ],
      "text/plain": [
       "+--------------------------------+------------+"
      ]
     },
     "metadata": {},
     "output_type": "display_data"
    },
    {
     "data": {
      "text/html": [
       "<pre>Setting up lookup tables.</pre>"
      ],
      "text/plain": [
       "Setting up lookup tables."
      ]
     },
     "metadata": {},
     "output_type": "display_data"
    },
    {
     "data": {
      "text/html": [
       "<pre>Processing data in one pass using dense lookup tables.</pre>"
      ],
      "text/plain": [
       "Processing data in one pass using dense lookup tables."
      ]
     },
     "metadata": {},
     "output_type": "display_data"
    },
    {
     "data": {
      "text/html": [
       "<pre>+-------------------------------------+------------------+-----------------+</pre>"
      ],
      "text/plain": [
       "+-------------------------------------+------------------+-----------------+"
      ]
     },
     "metadata": {},
     "output_type": "display_data"
    },
    {
     "data": {
      "text/html": [
       "<pre>| Elapsed Time (Constructing Lookups) | Total % Complete | Items Processed |</pre>"
      ],
      "text/plain": [
       "| Elapsed Time (Constructing Lookups) | Total % Complete | Items Processed |"
      ]
     },
     "metadata": {},
     "output_type": "display_data"
    },
    {
     "data": {
      "text/html": [
       "<pre>+-------------------------------------+------------------+-----------------+</pre>"
      ],
      "text/plain": [
       "+-------------------------------------+------------------+-----------------+"
      ]
     },
     "metadata": {},
     "output_type": "display_data"
    },
    {
     "data": {
      "text/html": [
       "<pre>| 2.451ms                             | 0                | 0               |</pre>"
      ],
      "text/plain": [
       "| 2.451ms                             | 0                | 0               |"
      ]
     },
     "metadata": {},
     "output_type": "display_data"
    },
    {
     "data": {
      "text/html": [
       "<pre>| 17.383ms                            | 100              | 20              |</pre>"
      ],
      "text/plain": [
       "| 17.383ms                            | 100              | 20              |"
      ]
     },
     "metadata": {},
     "output_type": "display_data"
    },
    {
     "data": {
      "text/html": [
       "<pre>+-------------------------------------+------------------+-----------------+</pre>"
      ],
      "text/plain": [
       "+-------------------------------------+------------------+-----------------+"
      ]
     },
     "metadata": {},
     "output_type": "display_data"
    },
    {
     "data": {
      "text/html": [
       "<pre>Finalizing lookup tables.</pre>"
      ],
      "text/plain": [
       "Finalizing lookup tables."
      ]
     },
     "metadata": {},
     "output_type": "display_data"
    },
    {
     "data": {
      "text/html": [
       "<pre>Generating candidate set for working with new users.</pre>"
      ],
      "text/plain": [
       "Generating candidate set for working with new users."
      ]
     },
     "metadata": {},
     "output_type": "display_data"
    },
    {
     "data": {
      "text/html": [
       "<pre>Finished training in 0.059826s</pre>"
      ],
      "text/plain": [
       "Finished training in 0.059826s"
      ]
     },
     "metadata": {},
     "output_type": "display_data"
    },
    {
     "name": "stdout",
     "output_type": "stream",
     "text": [
      "\n",
      "Precision and recall summary statistics by cutoff\n",
      "+--------+-----------------+-----------------+\n",
      "| cutoff |  mean_precision |   mean_recall   |\n",
      "+--------+-----------------+-----------------+\n",
      "|   1    |       0.23      | 0.0077783958054 |\n",
      "|   2    |      0.155      | 0.0105044405091 |\n",
      "|   3    |  0.128333333333 | 0.0122834600074 |\n",
      "|   4    |      0.1125     | 0.0134547033331 |\n",
      "|   5    |      0.104      | 0.0145429386273 |\n",
      "|   6    | 0.0993333333333 | 0.0150429386273 |\n",
      "|   7    | 0.0948095238095 | 0.0150429386273 |\n",
      "|   8    | 0.0923095238095 | 0.0150429386273 |\n",
      "|   9    | 0.0913373015873 | 0.0150429386273 |\n",
      "|   10   | 0.0906706349206 | 0.0150429386273 |\n",
      "+--------+-----------------+-----------------+\n",
      "[10 rows x 3 columns]\n",
      "\n",
      "('\\nOverall RMSE: ', 2.996539413507062)\n",
      "\n",
      "Per User RMSE (best)\n",
      "+--------+-------+---------------+\n",
      "| userId | count |      rmse     |\n",
      "+--------+-------+---------------+\n",
      "|  325   |   20  | 1.67228558327 |\n",
      "+--------+-------+---------------+\n",
      "[1 rows x 3 columns]\n",
      "\n",
      "\n",
      "Per User RMSE (worst)\n",
      "+--------+-------+---------------+\n",
      "| userId | count |      rmse     |\n",
      "+--------+-------+---------------+\n",
      "|  546   |   39  | 3.97325584301 |\n",
      "+--------+-------+---------------+\n",
      "[1 rows x 3 columns]\n",
      "\n",
      "\n",
      "Per Item RMSE (best)\n",
      "+----------+-------+---------------+\n",
      "|  genre   | count |      rmse     |\n",
      "+----------+-------+---------------+\n",
      "| Children |  253  | 2.81761118803 |\n",
      "+----------+-------+---------------+\n",
      "[1 rows x 3 columns]\n",
      "\n",
      "\n",
      "Per Item RMSE (worst)\n",
      "+-----------+-------+---------------+\n",
      "|   genre   | count |      rmse     |\n",
      "+-----------+-------+---------------+\n",
      "| Film-Noir |   33  | 4.04778205046 |\n",
      "+-----------+-------+---------------+\n",
      "[1 rows x 3 columns]\n",
      "\n"
     ]
    },
    {
     "data": {
      "text/html": [
       "<pre>Recsys training: model = item_similarity</pre>"
      ],
      "text/plain": [
       "Recsys training: model = item_similarity"
      ]
     },
     "metadata": {},
     "output_type": "display_data"
    },
    {
     "data": {
      "text/html": [
       "<pre>Warning: Ignoring columns movieId, title, genres;</pre>"
      ],
      "text/plain": [
       "Warning: Ignoring columns movieId, title, genres;"
      ]
     },
     "metadata": {},
     "output_type": "display_data"
    },
    {
     "data": {
      "text/html": [
       "<pre>    To use these columns in scoring predictions, use a model that allows the use of additional features.</pre>"
      ],
      "text/plain": [
       "    To use these columns in scoring predictions, use a model that allows the use of additional features."
      ]
     },
     "metadata": {},
     "output_type": "display_data"
    },
    {
     "data": {
      "text/html": [
       "<pre>Preparing data set.</pre>"
      ],
      "text/plain": [
       "Preparing data set."
      ]
     },
     "metadata": {},
     "output_type": "display_data"
    },
    {
     "data": {
      "text/html": [
       "<pre>    Data has 257193 observations with 671 users and 20 items.</pre>"
      ],
      "text/plain": [
       "    Data has 257193 observations with 671 users and 20 items."
      ]
     },
     "metadata": {},
     "output_type": "display_data"
    },
    {
     "data": {
      "text/html": [
       "<pre>    Data prepared in: 0.319424s</pre>"
      ],
      "text/plain": [
       "    Data prepared in: 0.319424s"
      ]
     },
     "metadata": {},
     "output_type": "display_data"
    },
    {
     "data": {
      "text/html": [
       "<pre>Training model from provided data.</pre>"
      ],
      "text/plain": [
       "Training model from provided data."
      ]
     },
     "metadata": {},
     "output_type": "display_data"
    },
    {
     "data": {
      "text/html": [
       "<pre>Gathering per-item and per-user statistics.</pre>"
      ],
      "text/plain": [
       "Gathering per-item and per-user statistics."
      ]
     },
     "metadata": {},
     "output_type": "display_data"
    },
    {
     "data": {
      "text/html": [
       "<pre>+--------------------------------+------------+</pre>"
      ],
      "text/plain": [
       "+--------------------------------+------------+"
      ]
     },
     "metadata": {},
     "output_type": "display_data"
    },
    {
     "data": {
      "text/html": [
       "<pre>| Elapsed Time (Item Statistics) | % Complete |</pre>"
      ],
      "text/plain": [
       "| Elapsed Time (Item Statistics) | % Complete |"
      ]
     },
     "metadata": {},
     "output_type": "display_data"
    },
    {
     "data": {
      "text/html": [
       "<pre>+--------------------------------+------------+</pre>"
      ],
      "text/plain": [
       "+--------------------------------+------------+"
      ]
     },
     "metadata": {},
     "output_type": "display_data"
    },
    {
     "data": {
      "text/html": [
       "<pre>| 1.37ms                         | 100        |</pre>"
      ],
      "text/plain": [
       "| 1.37ms                         | 100        |"
      ]
     },
     "metadata": {},
     "output_type": "display_data"
    },
    {
     "data": {
      "text/html": [
       "<pre>+--------------------------------+------------+</pre>"
      ],
      "text/plain": [
       "+--------------------------------+------------+"
      ]
     },
     "metadata": {},
     "output_type": "display_data"
    },
    {
     "data": {
      "text/html": [
       "<pre>Setting up lookup tables.</pre>"
      ],
      "text/plain": [
       "Setting up lookup tables."
      ]
     },
     "metadata": {},
     "output_type": "display_data"
    },
    {
     "data": {
      "text/html": [
       "<pre>Processing data in one pass using dense lookup tables.</pre>"
      ],
      "text/plain": [
       "Processing data in one pass using dense lookup tables."
      ]
     },
     "metadata": {},
     "output_type": "display_data"
    },
    {
     "data": {
      "text/html": [
       "<pre>+-------------------------------------+------------------+-----------------+</pre>"
      ],
      "text/plain": [
       "+-------------------------------------+------------------+-----------------+"
      ]
     },
     "metadata": {},
     "output_type": "display_data"
    },
    {
     "data": {
      "text/html": [
       "<pre>| Elapsed Time (Constructing Lookups) | Total % Complete | Items Processed |</pre>"
      ],
      "text/plain": [
       "| Elapsed Time (Constructing Lookups) | Total % Complete | Items Processed |"
      ]
     },
     "metadata": {},
     "output_type": "display_data"
    },
    {
     "data": {
      "text/html": [
       "<pre>+-------------------------------------+------------------+-----------------+</pre>"
      ],
      "text/plain": [
       "+-------------------------------------+------------------+-----------------+"
      ]
     },
     "metadata": {},
     "output_type": "display_data"
    },
    {
     "data": {
      "text/html": [
       "<pre>| 1.718ms                             | 0                | 0               |</pre>"
      ],
      "text/plain": [
       "| 1.718ms                             | 0                | 0               |"
      ]
     },
     "metadata": {},
     "output_type": "display_data"
    },
    {
     "data": {
      "text/html": [
       "<pre>| 5.642ms                             | 100              | 20              |</pre>"
      ],
      "text/plain": [
       "| 5.642ms                             | 100              | 20              |"
      ]
     },
     "metadata": {},
     "output_type": "display_data"
    },
    {
     "data": {
      "text/html": [
       "<pre>+-------------------------------------+------------------+-----------------+</pre>"
      ],
      "text/plain": [
       "+-------------------------------------+------------------+-----------------+"
      ]
     },
     "metadata": {},
     "output_type": "display_data"
    },
    {
     "data": {
      "text/html": [
       "<pre>Finalizing lookup tables.</pre>"
      ],
      "text/plain": [
       "Finalizing lookup tables."
      ]
     },
     "metadata": {},
     "output_type": "display_data"
    },
    {
     "data": {
      "text/html": [
       "<pre>Generating candidate set for working with new users.</pre>"
      ],
      "text/plain": [
       "Generating candidate set for working with new users."
      ]
     },
     "metadata": {},
     "output_type": "display_data"
    },
    {
     "data": {
      "text/html": [
       "<pre>Finished training in 0.05378s</pre>"
      ],
      "text/plain": [
       "Finished training in 0.05378s"
      ]
     },
     "metadata": {},
     "output_type": "display_data"
    },
    {
     "name": "stdout",
     "output_type": "stream",
     "text": [
      "\n",
      "Precision and recall summary statistics by cutoff\n",
      "+--------+-----------------+------------------+\n",
      "| cutoff |  mean_precision |   mean_recall    |\n",
      "+--------+-----------------+------------------+\n",
      "|   1    |       0.23      | 0.00821316201958 |\n",
      "|   2    |      0.175      | 0.0118116413205  |\n",
      "|   3    |      0.135      | 0.0133411842413  |\n",
      "|   4    |      0.115      | 0.0140429386273  |\n",
      "|   5    |      0.104      | 0.0145429386273  |\n",
      "|   6    | 0.0993333333333 | 0.0150429386273  |\n",
      "|   7    | 0.0948095238095 | 0.0150429386273  |\n",
      "|   8    | 0.0923095238095 | 0.0150429386273  |\n",
      "|   9    | 0.0913373015873 | 0.0150429386273  |\n",
      "|   10   | 0.0906706349206 | 0.0150429386273  |\n",
      "+--------+-----------------+------------------+\n",
      "[10 rows x 3 columns]\n",
      "\n",
      "('\\nOverall RMSE: ', 1.0974848877308745)\n",
      "\n",
      "Per User RMSE (best)\n",
      "+--------+-------+----------------+\n",
      "| userId | count |      rmse      |\n",
      "+--------+-------+----------------+\n",
      "|   50   |   19  | 0.549736357732 |\n",
      "+--------+-------+----------------+\n",
      "[1 rows x 3 columns]\n",
      "\n",
      "\n",
      "Per User RMSE (worst)\n",
      "+--------+-------+---------------+\n",
      "| userId | count |      rmse     |\n",
      "+--------+-------+---------------+\n",
      "|  477   |   9   | 2.28799762116 |\n",
      "+--------+-------+---------------+\n",
      "[1 rows x 3 columns]\n",
      "\n",
      "\n",
      "Per Item RMSE (best)\n",
      "+----------+-------+----------------+\n",
      "|  genre   | count |      rmse      |\n",
      "+----------+-------+----------------+\n",
      "| Children |  253  | 0.997611227709 |\n",
      "+----------+-------+----------------+\n",
      "[1 rows x 3 columns]\n",
      "\n",
      "\n",
      "Per Item RMSE (worst)\n",
      "+-------------+-------+---------------+\n",
      "|    genre    | count |      rmse     |\n",
      "+-------------+-------+---------------+\n",
      "| Documentary |   55  | 2.09760189873 |\n",
      "+-------------+-------+---------------+\n",
      "[1 rows x 3 columns]\n",
      "\n"
     ]
    },
    {
     "data": {
      "text/html": [
       "<pre>Recsys training: model = item_similarity</pre>"
      ],
      "text/plain": [
       "Recsys training: model = item_similarity"
      ]
     },
     "metadata": {},
     "output_type": "display_data"
    },
    {
     "data": {
      "text/html": [
       "<pre>Warning: Ignoring columns movieId, title, genres;</pre>"
      ],
      "text/plain": [
       "Warning: Ignoring columns movieId, title, genres;"
      ]
     },
     "metadata": {},
     "output_type": "display_data"
    },
    {
     "data": {
      "text/html": [
       "<pre>    To use these columns in scoring predictions, use a model that allows the use of additional features.</pre>"
      ],
      "text/plain": [
       "    To use these columns in scoring predictions, use a model that allows the use of additional features."
      ]
     },
     "metadata": {},
     "output_type": "display_data"
    },
    {
     "data": {
      "text/html": [
       "<pre>Preparing data set.</pre>"
      ],
      "text/plain": [
       "Preparing data set."
      ]
     },
     "metadata": {},
     "output_type": "display_data"
    },
    {
     "data": {
      "text/html": [
       "<pre>    Data has 257193 observations with 671 users and 20 items.</pre>"
      ],
      "text/plain": [
       "    Data has 257193 observations with 671 users and 20 items."
      ]
     },
     "metadata": {},
     "output_type": "display_data"
    },
    {
     "data": {
      "text/html": [
       "<pre>    Data prepared in: 0.285697s</pre>"
      ],
      "text/plain": [
       "    Data prepared in: 0.285697s"
      ]
     },
     "metadata": {},
     "output_type": "display_data"
    },
    {
     "data": {
      "text/html": [
       "<pre>Training model from provided data.</pre>"
      ],
      "text/plain": [
       "Training model from provided data."
      ]
     },
     "metadata": {},
     "output_type": "display_data"
    },
    {
     "data": {
      "text/html": [
       "<pre>Gathering per-item and per-user statistics.</pre>"
      ],
      "text/plain": [
       "Gathering per-item and per-user statistics."
      ]
     },
     "metadata": {},
     "output_type": "display_data"
    },
    {
     "data": {
      "text/html": [
       "<pre>+--------------------------------+------------+</pre>"
      ],
      "text/plain": [
       "+--------------------------------+------------+"
      ]
     },
     "metadata": {},
     "output_type": "display_data"
    },
    {
     "data": {
      "text/html": [
       "<pre>| Elapsed Time (Item Statistics) | % Complete |</pre>"
      ],
      "text/plain": [
       "| Elapsed Time (Item Statistics) | % Complete |"
      ]
     },
     "metadata": {},
     "output_type": "display_data"
    },
    {
     "data": {
      "text/html": [
       "<pre>+--------------------------------+------------+</pre>"
      ],
      "text/plain": [
       "+--------------------------------+------------+"
      ]
     },
     "metadata": {},
     "output_type": "display_data"
    },
    {
     "data": {
      "text/html": [
       "<pre>| 1.308ms                        | 100        |</pre>"
      ],
      "text/plain": [
       "| 1.308ms                        | 100        |"
      ]
     },
     "metadata": {},
     "output_type": "display_data"
    },
    {
     "data": {
      "text/html": [
       "<pre>+--------------------------------+------------+</pre>"
      ],
      "text/plain": [
       "+--------------------------------+------------+"
      ]
     },
     "metadata": {},
     "output_type": "display_data"
    },
    {
     "data": {
      "text/html": [
       "<pre>Setting up lookup tables.</pre>"
      ],
      "text/plain": [
       "Setting up lookup tables."
      ]
     },
     "metadata": {},
     "output_type": "display_data"
    },
    {
     "data": {
      "text/html": [
       "<pre>Processing data in one pass using dense lookup tables.</pre>"
      ],
      "text/plain": [
       "Processing data in one pass using dense lookup tables."
      ]
     },
     "metadata": {},
     "output_type": "display_data"
    },
    {
     "data": {
      "text/html": [
       "<pre>+-------------------------------------+------------------+-----------------+</pre>"
      ],
      "text/plain": [
       "+-------------------------------------+------------------+-----------------+"
      ]
     },
     "metadata": {},
     "output_type": "display_data"
    },
    {
     "data": {
      "text/html": [
       "<pre>| Elapsed Time (Constructing Lookups) | Total % Complete | Items Processed |</pre>"
      ],
      "text/plain": [
       "| Elapsed Time (Constructing Lookups) | Total % Complete | Items Processed |"
      ]
     },
     "metadata": {},
     "output_type": "display_data"
    },
    {
     "data": {
      "text/html": [
       "<pre>+-------------------------------------+------------------+-----------------+</pre>"
      ],
      "text/plain": [
       "+-------------------------------------+------------------+-----------------+"
      ]
     },
     "metadata": {},
     "output_type": "display_data"
    },
    {
     "data": {
      "text/html": [
       "<pre>| 1.801ms                             | 0                | 0               |</pre>"
      ],
      "text/plain": [
       "| 1.801ms                             | 0                | 0               |"
      ]
     },
     "metadata": {},
     "output_type": "display_data"
    },
    {
     "data": {
      "text/html": [
       "<pre>| 5.673ms                             | 100              | 20              |</pre>"
      ],
      "text/plain": [
       "| 5.673ms                             | 100              | 20              |"
      ]
     },
     "metadata": {},
     "output_type": "display_data"
    },
    {
     "data": {
      "text/html": [
       "<pre>+-------------------------------------+------------------+-----------------+</pre>"
      ],
      "text/plain": [
       "+-------------------------------------+------------------+-----------------+"
      ]
     },
     "metadata": {},
     "output_type": "display_data"
    },
    {
     "data": {
      "text/html": [
       "<pre>Finalizing lookup tables.</pre>"
      ],
      "text/plain": [
       "Finalizing lookup tables."
      ]
     },
     "metadata": {},
     "output_type": "display_data"
    },
    {
     "data": {
      "text/html": [
       "<pre>Generating candidate set for working with new users.</pre>"
      ],
      "text/plain": [
       "Generating candidate set for working with new users."
      ]
     },
     "metadata": {},
     "output_type": "display_data"
    },
    {
     "data": {
      "text/html": [
       "<pre>Finished training in 0.06711s</pre>"
      ],
      "text/plain": [
       "Finished training in 0.06711s"
      ]
     },
     "metadata": {},
     "output_type": "display_data"
    },
    {
     "name": "stdout",
     "output_type": "stream",
     "text": [
      "\n",
      "Precision and recall summary statistics by cutoff\n",
      "+--------+-----------------+------------------+\n",
      "| cutoff |  mean_precision |   mean_recall    |\n",
      "+--------+-----------------+------------------+\n",
      "|   1    |       0.08      | 0.00177449274522 |\n",
      "|   2    |       0.06      | 0.00311415692123 |\n",
      "|   3    | 0.0683333333333 | 0.00512762711117 |\n",
      "|   4    |       0.08      | 0.00730297115268 |\n",
      "|   5    |      0.086      | 0.00949298283593 |\n",
      "|   6    | 0.0876666666667 | 0.0115442648872  |\n",
      "|   7    | 0.0876666666667 | 0.0126583232426  |\n",
      "|   8    | 0.0885595238095 | 0.0135429386273  |\n",
      "|   9    | 0.0891150793651 | 0.0140429386273  |\n",
      "|   10   | 0.0896706349206 | 0.0145429386273  |\n",
      "+--------+-----------------+------------------+\n",
      "[10 rows x 3 columns]\n",
      "\n",
      "('\\nOverall RMSE: ', 0.9608981184646781)\n",
      "\n",
      "Per User RMSE (best)\n",
      "+--------+-------+----------------+\n",
      "| userId | count |      rmse      |\n",
      "+--------+-------+----------------+\n",
      "|  323   |   12  | 0.360128120723 |\n",
      "+--------+-------+----------------+\n",
      "[1 rows x 3 columns]\n",
      "\n",
      "\n",
      "Per User RMSE (worst)\n",
      "+--------+-------+---------------+\n",
      "| userId | count |      rmse     |\n",
      "+--------+-------+---------------+\n",
      "|   52   |   29  | 1.87607881466 |\n",
      "+--------+-------+---------------+\n",
      "[1 rows x 3 columns]\n",
      "\n",
      "\n",
      "Per Item RMSE (best)\n",
      "+-------------+-------+----------------+\n",
      "|    genre    | count |      rmse      |\n",
      "+-------------+-------+----------------+\n",
      "| Documentary |   55  | 0.812059179526 |\n",
      "+-------------+-------+----------------+\n",
      "[1 rows x 3 columns]\n",
      "\n",
      "\n",
      "Per Item RMSE (worst)\n",
      "+--------+-------+---------------+\n",
      "| genre  | count |      rmse     |\n",
      "+--------+-------+---------------+\n",
      "| Horror |  212  | 1.03583233484 |\n",
      "+--------+-------+---------------+\n",
      "[1 rows x 3 columns]\n",
      "\n"
     ]
    },
    {
     "data": {
      "text/html": [
       "<pre>Recsys training: model = item_similarity</pre>"
      ],
      "text/plain": [
       "Recsys training: model = item_similarity"
      ]
     },
     "metadata": {},
     "output_type": "display_data"
    },
    {
     "data": {
      "text/html": [
       "<pre>Warning: Ignoring columns movieId, title, genres;</pre>"
      ],
      "text/plain": [
       "Warning: Ignoring columns movieId, title, genres;"
      ]
     },
     "metadata": {},
     "output_type": "display_data"
    },
    {
     "data": {
      "text/html": [
       "<pre>    To use these columns in scoring predictions, use a model that allows the use of additional features.</pre>"
      ],
      "text/plain": [
       "    To use these columns in scoring predictions, use a model that allows the use of additional features."
      ]
     },
     "metadata": {},
     "output_type": "display_data"
    },
    {
     "data": {
      "text/html": [
       "<pre>Preparing data set.</pre>"
      ],
      "text/plain": [
       "Preparing data set."
      ]
     },
     "metadata": {},
     "output_type": "display_data"
    },
    {
     "data": {
      "text/html": [
       "<pre>    Data has 257193 observations with 671 users and 20 items.</pre>"
      ],
      "text/plain": [
       "    Data has 257193 observations with 671 users and 20 items."
      ]
     },
     "metadata": {},
     "output_type": "display_data"
    },
    {
     "data": {
      "text/html": [
       "<pre>    Data prepared in: 0.302891s</pre>"
      ],
      "text/plain": [
       "    Data prepared in: 0.302891s"
      ]
     },
     "metadata": {},
     "output_type": "display_data"
    },
    {
     "data": {
      "text/html": [
       "<pre>Training model from provided data.</pre>"
      ],
      "text/plain": [
       "Training model from provided data."
      ]
     },
     "metadata": {},
     "output_type": "display_data"
    },
    {
     "data": {
      "text/html": [
       "<pre>Gathering per-item and per-user statistics.</pre>"
      ],
      "text/plain": [
       "Gathering per-item and per-user statistics."
      ]
     },
     "metadata": {},
     "output_type": "display_data"
    },
    {
     "data": {
      "text/html": [
       "<pre>+--------------------------------+------------+</pre>"
      ],
      "text/plain": [
       "+--------------------------------+------------+"
      ]
     },
     "metadata": {},
     "output_type": "display_data"
    },
    {
     "data": {
      "text/html": [
       "<pre>| Elapsed Time (Item Statistics) | % Complete |</pre>"
      ],
      "text/plain": [
       "| Elapsed Time (Item Statistics) | % Complete |"
      ]
     },
     "metadata": {},
     "output_type": "display_data"
    },
    {
     "data": {
      "text/html": [
       "<pre>+--------------------------------+------------+</pre>"
      ],
      "text/plain": [
       "+--------------------------------+------------+"
      ]
     },
     "metadata": {},
     "output_type": "display_data"
    },
    {
     "data": {
      "text/html": [
       "<pre>| 1.151ms                        | 100        |</pre>"
      ],
      "text/plain": [
       "| 1.151ms                        | 100        |"
      ]
     },
     "metadata": {},
     "output_type": "display_data"
    },
    {
     "data": {
      "text/html": [
       "<pre>+--------------------------------+------------+</pre>"
      ],
      "text/plain": [
       "+--------------------------------+------------+"
      ]
     },
     "metadata": {},
     "output_type": "display_data"
    },
    {
     "data": {
      "text/html": [
       "<pre>Setting up lookup tables.</pre>"
      ],
      "text/plain": [
       "Setting up lookup tables."
      ]
     },
     "metadata": {},
     "output_type": "display_data"
    },
    {
     "data": {
      "text/html": [
       "<pre>Processing data in one pass using dense lookup tables.</pre>"
      ],
      "text/plain": [
       "Processing data in one pass using dense lookup tables."
      ]
     },
     "metadata": {},
     "output_type": "display_data"
    },
    {
     "data": {
      "text/html": [
       "<pre>+-------------------------------------+------------------+-----------------+</pre>"
      ],
      "text/plain": [
       "+-------------------------------------+------------------+-----------------+"
      ]
     },
     "metadata": {},
     "output_type": "display_data"
    },
    {
     "data": {
      "text/html": [
       "<pre>| Elapsed Time (Constructing Lookups) | Total % Complete | Items Processed |</pre>"
      ],
      "text/plain": [
       "| Elapsed Time (Constructing Lookups) | Total % Complete | Items Processed |"
      ]
     },
     "metadata": {},
     "output_type": "display_data"
    },
    {
     "data": {
      "text/html": [
       "<pre>+-------------------------------------+------------------+-----------------+</pre>"
      ],
      "text/plain": [
       "+-------------------------------------+------------------+-----------------+"
      ]
     },
     "metadata": {},
     "output_type": "display_data"
    },
    {
     "data": {
      "text/html": [
       "<pre>| 1.586ms                             | 0                | 0               |</pre>"
      ],
      "text/plain": [
       "| 1.586ms                             | 0                | 0               |"
      ]
     },
     "metadata": {},
     "output_type": "display_data"
    },
    {
     "data": {
      "text/html": [
       "<pre>| 3.282ms                             | 100              | 20              |</pre>"
      ],
      "text/plain": [
       "| 3.282ms                             | 100              | 20              |"
      ]
     },
     "metadata": {},
     "output_type": "display_data"
    },
    {
     "data": {
      "text/html": [
       "<pre>+-------------------------------------+------------------+-----------------+</pre>"
      ],
      "text/plain": [
       "+-------------------------------------+------------------+-----------------+"
      ]
     },
     "metadata": {},
     "output_type": "display_data"
    },
    {
     "data": {
      "text/html": [
       "<pre>Finalizing lookup tables.</pre>"
      ],
      "text/plain": [
       "Finalizing lookup tables."
      ]
     },
     "metadata": {},
     "output_type": "display_data"
    },
    {
     "data": {
      "text/html": [
       "<pre>Generating candidate set for working with new users.</pre>"
      ],
      "text/plain": [
       "Generating candidate set for working with new users."
      ]
     },
     "metadata": {},
     "output_type": "display_data"
    },
    {
     "data": {
      "text/html": [
       "<pre>Finished training in 0.066876s</pre>"
      ],
      "text/plain": [
       "Finished training in 0.066876s"
      ]
     },
     "metadata": {},
     "output_type": "display_data"
    },
    {
     "name": "stdout",
     "output_type": "stream",
     "text": [
      "\n",
      "Precision and recall summary statistics by cutoff\n",
      "+--------+-----------------+------------------+\n",
      "| cutoff |  mean_precision |   mean_recall    |\n",
      "+--------+-----------------+------------------+\n",
      "|   1    |       0.24      | 0.00846957227599 |\n",
      "|   2    |      0.175      | 0.0118116413205  |\n",
      "|   3    |      0.135      | 0.0133411842413  |\n",
      "|   4    |      0.115      | 0.0140429386273  |\n",
      "|   5    |      0.104      | 0.0145429386273  |\n",
      "|   6    | 0.0993333333333 | 0.0150429386273  |\n",
      "|   7    | 0.0948095238095 | 0.0150429386273  |\n",
      "|   8    | 0.0923095238095 | 0.0150429386273  |\n",
      "|   9    | 0.0913373015873 | 0.0150429386273  |\n",
      "|   10   | 0.0906706349206 | 0.0150429386273  |\n",
      "+--------+-----------------+------------------+\n",
      "[10 rows x 3 columns]\n",
      "\n",
      "('\\nOverall RMSE: ', 2.9820809358130416)\n",
      "\n",
      "Per User RMSE (best)\n",
      "+--------+-------+---------------+\n",
      "| userId | count |      rmse     |\n",
      "+--------+-------+---------------+\n",
      "|  325   |   20  | 1.67228558327 |\n",
      "+--------+-------+---------------+\n",
      "[1 rows x 3 columns]\n",
      "\n",
      "\n",
      "Per User RMSE (worst)\n",
      "+--------+-------+---------------+\n",
      "| userId | count |      rmse     |\n",
      "+--------+-------+---------------+\n",
      "|  546   |   39  | 3.96988222371 |\n",
      "+--------+-------+---------------+\n",
      "[1 rows x 3 columns]\n",
      "\n",
      "\n",
      "Per Item RMSE (best)\n",
      "+----------+-------+---------------+\n",
      "|  genre   | count |      rmse     |\n",
      "+----------+-------+---------------+\n",
      "| Children |  253  | 2.81761118803 |\n",
      "+----------+-------+---------------+\n",
      "[1 rows x 3 columns]\n",
      "\n",
      "\n",
      "Per Item RMSE (worst)\n",
      "+-------------+-------+---------------+\n",
      "|    genre    | count |      rmse     |\n",
      "+-------------+-------+---------------+\n",
      "| Documentary |   55  | 3.69103690599 |\n",
      "+-------------+-------+---------------+\n",
      "[1 rows x 3 columns]\n",
      "\n"
     ]
    }
   ],
   "source": [
    "train_stacked = train.stack('genre_list', new_column_name='genre')\n",
    "test_stacked = test.stack('genre_list', new_column_name='genre')\n",
    "\n",
    "params = {'user_id': 'userId', \n",
    "          'item_id': ['genre'], \n",
    "          'target': 'rating',\n",
    "          'only_top_k': [5, 15, 25], \n",
    "          'similarity_type': ['cosine','pearson','jaccard']}\n",
    "\n",
    "recs_item_similarity_genrestack = item_sim_parameter_search(params,train_stacked,test_stacked)"
   ]
  },
  {
   "cell_type": "code",
   "execution_count": 133,
   "metadata": {
    "scrolled": true
   },
   "outputs": [
    {
     "name": "stdout",
     "output_type": "stream",
     "text": [
      "+---------+------------+----------------+-----------------+\n",
      "| item_id | only_top_k |  rmse_overall  | similarity_type |\n",
      "+---------+------------+----------------+-----------------+\n",
      "|  title  |     5      | 3.74647073017  |      cosine     |\n",
      "|  title  |     5      | 1.11039037735  |     pearson     |\n",
      "|  title  |     5      | 3.75956975098  |     jaccard     |\n",
      "|  title  |     15     | 3.72129621286  |      cosine     |\n",
      "|  title  |     15     | 1.11018615607  |     pearson     |\n",
      "|  title  |     15     | 3.75494824703  |     jaccard     |\n",
      "|  title  |     25     |  3.7014584061  |      cosine     |\n",
      "|  title  |     25     | 1.11002485957  |     pearson     |\n",
      "|  title  |     25     | 3.75126733067  |     jaccard     |\n",
      "|  genres |     5      | 3.59672138511  |      cosine     |\n",
      "|  genres |     5      | 0.978272481886 |     pearson     |\n",
      "|  genres |     5      | 3.73384734132  |     jaccard     |\n",
      "|  genres |     15     | 3.39894132089  |      cosine     |\n",
      "|  genres |     15     | 0.977194761485 |     pearson     |\n",
      "|  genres |     15     | 3.69725276444  |     jaccard     |\n",
      "|  genres |     25     | 3.25657770286  |      cosine     |\n",
      "|  genres |     25     | 0.97620999105  |     pearson     |\n",
      "|  genres |     25     | 3.67258441957  |     jaccard     |\n",
      "+---------+------------+----------------+-----------------+\n",
      "[18 rows x 4 columns]\n",
      "\n"
     ]
    }
   ],
   "source": [
    "recs_item_similarity = recs_item_similarity.append(recs_item_similarity_genrestack)"
   ]
  },
  {
   "cell_type": "markdown",
   "metadata": {},
   "source": [
    "<h3> Collaborative Filtering Recommendation Systems </h3>  \n",
    "<h4> Models based on Movie Title and Genres </h4>"
   ]
  },
  {
   "cell_type": "code",
   "execution_count": 76,
   "metadata": {},
   "outputs": [
    {
     "name": "stderr",
     "output_type": "stream",
     "text": [
      "[INFO] graphlab.deploy.job: Validating job.\n",
      "[INFO] graphlab.deploy.map_job: Validation complete. Job: 'Model-Parameter-Search-Dec-06-2017-23-53-2000000' ready for execution\n",
      "[INFO] graphlab.deploy.map_job: Job: 'Model-Parameter-Search-Dec-06-2017-23-53-2000000' scheduled.\n",
      "[INFO] graphlab.deploy.job: Validating job.\n",
      "[INFO] graphlab.deploy.map_job: A job with name 'Model-Parameter-Search-Dec-06-2017-23-53-2000000' already exists. Renaming the job to 'Model-Parameter-Search-Dec-06-2017-23-53-2000000-fa560'.\n",
      "[INFO] graphlab.deploy.map_job: Validation complete. Job: 'Model-Parameter-Search-Dec-06-2017-23-53-2000000-fa560' ready for execution\n",
      "[INFO] graphlab.deploy.map_job: Job: 'Model-Parameter-Search-Dec-06-2017-23-53-2000000-fa560' scheduled.\n",
      "[INFO] graphlab.deploy.job: Validating job.\n",
      "[INFO] graphlab.deploy.map_job: Validation complete. Job: 'Model-Parameter-Search-Dec-06-2017-23-53-2000001' ready for execution\n",
      "[INFO] graphlab.deploy.map_job: Job: 'Model-Parameter-Search-Dec-06-2017-23-53-2000001' scheduled.\n"
     ]
    }
   ],
   "source": [
    "params = {'user_id': 'userId', \n",
    "          'item_id': ['movieId','genres'], \n",
    "          'target': 'rating',\n",
    "          'num_factors': [8, 12, 16, 24, 32], \n",
    "          'regularization':[0.001] ,\n",
    "          'linear_regularization': [0.001]}\n",
    "\n",
    "job = gl.model_parameter_search.create( (train,test),\n",
    "        gl.recommender.ranking_factorization_recommender.create,\n",
    "        params,\n",
    "        max_models=15,\n",
    "        environment=None)"
   ]
  },
  {
   "cell_type": "code",
   "execution_count": 83,
   "metadata": {},
   "outputs": [
    {
     "data": {
      "text/plain": [
       "{'Canceled': 0, 'Completed': 12, 'Failed': 3, 'Pending': 0, 'Running': 0}"
      ]
     },
     "execution_count": 83,
     "metadata": {},
     "output_type": "execute_result"
    }
   ],
   "source": [
    "job.get_status()"
   ]
  },
  {
   "cell_type": "markdown",
   "metadata": {},
   "source": [
    "<h4> Models based on stacked Genre List </h4>"
   ]
  },
  {
   "cell_type": "code",
   "execution_count": 142,
   "metadata": {},
   "outputs": [
    {
     "name": "stderr",
     "output_type": "stream",
     "text": [
      "[INFO] graphlab.deploy.job: Validating job.\n",
      "[INFO] graphlab.deploy.map_job: Validation complete. Job: 'Model-Parameter-Search-Dec-07-2017-01-07-0400000' ready for execution\n",
      "[INFO] graphlab.deploy.map_job: Job: 'Model-Parameter-Search-Dec-07-2017-01-07-0400000' scheduled.\n",
      "[INFO] graphlab.deploy.job: Validating job.\n",
      "[INFO] graphlab.deploy.map_job: A job with name 'Model-Parameter-Search-Dec-07-2017-01-07-0400000' already exists. Renaming the job to 'Model-Parameter-Search-Dec-07-2017-01-07-0400000-90fe6'.\n",
      "[INFO] graphlab.deploy.map_job: Validation complete. Job: 'Model-Parameter-Search-Dec-07-2017-01-07-0400000-90fe6' ready for execution\n",
      "[INFO] graphlab.deploy.map_job: Job: 'Model-Parameter-Search-Dec-07-2017-01-07-0400000-90fe6' scheduled.\n"
     ]
    }
   ],
   "source": [
    "params = {'user_id': 'userId', \n",
    "          'item_id': ['genre'], \n",
    "          'target': 'rating',\n",
    "          'num_factors': [8, 12, 16, 24, 32], \n",
    "          'regularization':[0.001] ,\n",
    "          'linear_regularization': [0.001]}\n",
    "\n",
    "job_stacked = gl.model_parameter_search.create( (train_stacked,test_stacked),\n",
    "        gl.recommender.ranking_factorization_recommender.create,\n",
    "        params,\n",
    "        max_models=5,\n",
    "        environment=None)"
   ]
  },
  {
   "cell_type": "code",
   "execution_count": 145,
   "metadata": {},
   "outputs": [
    {
     "data": {
      "text/plain": [
       "{'Canceled': 0, 'Completed': 5, 'Failed': 0, 'Pending': 0, 'Running': 0}"
      ]
     },
     "execution_count": 145,
     "metadata": {},
     "output_type": "execute_result"
    }
   ],
   "source": [
    "job_stacked.get_status()"
   ]
  },
  {
   "cell_type": "code",
   "execution_count": 146,
   "metadata": {
    "scrolled": true
   },
   "outputs": [
    {
     "name": "stdout",
     "output_type": "stream",
     "text": [
      "+----------+---------+-----------------------+----------------+-------------+-------------------------------+\n",
      "| model_id | item_id | linear_regularization | max_iterations | num_factors | num_sampled_negative_examples |\n",
      "+----------+---------+-----------------------+----------------+-------------+-------------------------------+\n",
      "|    1     |  genre  |         0.001         |       25       |      12     |               4               |\n",
      "|    0     |  genre  |         0.001         |       50       |      8      |               8               |\n",
      "|    3     |  genre  |         0.001         |       25       |      24     |               8               |\n",
      "|    2     |  genre  |         0.001         |       25       |      32     |               4               |\n",
      "|    4     |  genre  |         0.001         |       25       |      12     |               4               |\n",
      "+----------+---------+-----------------------+----------------+-------------+-------------------------------+\n",
      "+------------------------+----------------+--------+---------+----------------------+\n",
      "| ranking_regularization | regularization | target | user_id | training_precision@5 |\n",
      "+------------------------+----------------+--------+---------+----------------------+\n",
      "|          0.1           |     0.001      | rating |  userId |    0.714157973174    |\n",
      "|          0.1           |     0.001      | rating |  userId |    0.732935916542    |\n",
      "|          0.5           |     0.001      | rating |  userId |    0.905514157973    |\n",
      "|          0.1           |     0.001      | rating |  userId |    0.72697466468     |\n",
      "|          0.5           |     0.001      | rating |  userId |    0.915052160954    |\n",
      "+------------------------+----------------+--------+---------+----------------------+\n",
      "+-------------------+----------------+------------------------+---------------------+\n",
      "| training_recall@5 | training_rmse  | validation_precision@5 | validation_recall@5 |\n",
      "+-------------------+----------------+------------------------+---------------------+\n",
      "|   0.020408198311  | 0.85158323738  |         0.092          |   0.0116044770888   |\n",
      "|  0.0212120576251  | 0.844183421194 |         0.094          |    0.012373707858   |\n",
      "|  0.0289681455996  | 0.851571311208 |         0.102          |   0.0140429386273   |\n",
      "|  0.0209129108374  | 0.846975585697 |         0.092          |   0.0116044770888   |\n",
      "|  0.0294742152909  | 0.859445475778 |         0.102          |   0.0140429386273   |\n",
      "+-------------------+----------------+------------------------+---------------------+\n",
      "+-----------------+\n",
      "| validation_rmse |\n",
      "+-----------------+\n",
      "|  0.872463739296 |\n",
      "|  0.867894671932 |\n",
      "|  0.872535924479 |\n",
      "|  0.868313504448 |\n",
      "|  0.877585312651 |\n",
      "+-----------------+\n",
      "[5 rows x 16 columns]\n",
      "\n"
     ]
    }
   ],
   "source": [
    "recs_rank_fact = job.get_resuts().append(job_stacked.get_results())"
   ]
  },
  {
   "cell_type": "markdown",
   "metadata": {},
   "source": [
    "<h2> Modeling and Evaluation 2 </h2>  \n",
    "Evaluate and compare."
   ]
  },
  {
   "cell_type": "code",
   "execution_count": 92,
   "metadata": {},
   "outputs": [],
   "source": [
    "def ViewBestResults(job):\n",
    "    keys = job.get_best_params().keys()\n",
    "    results = job.get_results()\n",
    "    for key in keys:\n",
    "        results = results.filter_by(job.get_best_params()[key],key)\n",
    "    return(results)    "
   ]
  },
  {
   "cell_type": "code",
   "execution_count": 93,
   "metadata": {
    "scrolled": false
   },
   "outputs": [
    {
     "data": {
      "text/html": [
       "<div style=\"max-height:1000px;max-width:1500px;overflow:auto;\"><table frame=\"box\" rules=\"cols\">\n",
       "    <tr>\n",
       "        <th style=\"padding-left: 1em; padding-right: 1em; text-align: center\">model_id</th>\n",
       "        <th style=\"padding-left: 1em; padding-right: 1em; text-align: center\">item_id</th>\n",
       "        <th style=\"padding-left: 1em; padding-right: 1em; text-align: center\">linear_regularization</th>\n",
       "        <th style=\"padding-left: 1em; padding-right: 1em; text-align: center\">max_iterations</th>\n",
       "        <th style=\"padding-left: 1em; padding-right: 1em; text-align: center\">num_factors</th>\n",
       "        <th style=\"padding-left: 1em; padding-right: 1em; text-align: center\">num_sampled_negative_exam<br>ples ...</th>\n",
       "        <th style=\"padding-left: 1em; padding-right: 1em; text-align: center\">ranking_regularization</th>\n",
       "    </tr>\n",
       "    <tr>\n",
       "        <td style=\"padding-left: 1em; padding-right: 1em; text-align: center; vertical-align: top\">8</td>\n",
       "        <td style=\"padding-left: 1em; padding-right: 1em; text-align: center; vertical-align: top\">genres</td>\n",
       "        <td style=\"padding-left: 1em; padding-right: 1em; text-align: center; vertical-align: top\">0.001</td>\n",
       "        <td style=\"padding-left: 1em; padding-right: 1em; text-align: center; vertical-align: top\">25</td>\n",
       "        <td style=\"padding-left: 1em; padding-right: 1em; text-align: center; vertical-align: top\">32</td>\n",
       "        <td style=\"padding-left: 1em; padding-right: 1em; text-align: center; vertical-align: top\">4</td>\n",
       "        <td style=\"padding-left: 1em; padding-right: 1em; text-align: center; vertical-align: top\">0.1</td>\n",
       "    </tr>\n",
       "</table>\n",
       "<table frame=\"box\" rules=\"cols\">\n",
       "    <tr>\n",
       "        <th style=\"padding-left: 1em; padding-right: 1em; text-align: center\">regularization</th>\n",
       "        <th style=\"padding-left: 1em; padding-right: 1em; text-align: center\">target</th>\n",
       "        <th style=\"padding-left: 1em; padding-right: 1em; text-align: center\">user_id</th>\n",
       "        <th style=\"padding-left: 1em; padding-right: 1em; text-align: center\">training_precision@5</th>\n",
       "        <th style=\"padding-left: 1em; padding-right: 1em; text-align: center\">training_recall@5</th>\n",
       "        <th style=\"padding-left: 1em; padding-right: 1em; text-align: center\">training_rmse</th>\n",
       "        <th style=\"padding-left: 1em; padding-right: 1em; text-align: center\">validation_precision@5</th>\n",
       "    </tr>\n",
       "    <tr>\n",
       "        <td style=\"padding-left: 1em; padding-right: 1em; text-align: center; vertical-align: top\">0.001</td>\n",
       "        <td style=\"padding-left: 1em; padding-right: 1em; text-align: center; vertical-align: top\">rating</td>\n",
       "        <td style=\"padding-left: 1em; padding-right: 1em; text-align: center; vertical-align: top\">userId</td>\n",
       "        <td style=\"padding-left: 1em; padding-right: 1em; text-align: center; vertical-align: top\">0.622652757079</td>\n",
       "        <td style=\"padding-left: 1em; padding-right: 1em; text-align: center; vertical-align: top\">0.0432438002815</td>\n",
       "        <td style=\"padding-left: 1em; padding-right: 1em; text-align: center; vertical-align: top\">0.833312997195</td>\n",
       "        <td style=\"padding-left: 1em; padding-right: 1em; text-align: center; vertical-align: top\">0.16</td>\n",
       "    </tr>\n",
       "</table>\n",
       "<table frame=\"box\" rules=\"cols\">\n",
       "    <tr>\n",
       "        <th style=\"padding-left: 1em; padding-right: 1em; text-align: center\">validation_recall@5</th>\n",
       "        <th style=\"padding-left: 1em; padding-right: 1em; text-align: center\">validation_rmse</th>\n",
       "    </tr>\n",
       "    <tr>\n",
       "        <td style=\"padding-left: 1em; padding-right: 1em; text-align: center; vertical-align: top\">0.0381954794746</td>\n",
       "        <td style=\"padding-left: 1em; padding-right: 1em; text-align: center; vertical-align: top\">0.854391484041</td>\n",
       "    </tr>\n",
       "</table>\n",
       "[1 rows x 16 columns]<br/>\n",
       "</div>"
      ],
      "text/plain": [
       "Columns:\n",
       "\tmodel_id\tint\n",
       "\titem_id\tstr\n",
       "\tlinear_regularization\tfloat\n",
       "\tmax_iterations\tint\n",
       "\tnum_factors\tint\n",
       "\tnum_sampled_negative_examples\tint\n",
       "\tranking_regularization\tfloat\n",
       "\tregularization\tfloat\n",
       "\ttarget\tstr\n",
       "\tuser_id\tstr\n",
       "\ttraining_precision@5\tfloat\n",
       "\ttraining_recall@5\tfloat\n",
       "\ttraining_rmse\tfloat\n",
       "\tvalidation_precision@5\tfloat\n",
       "\tvalidation_recall@5\tfloat\n",
       "\tvalidation_rmse\tfloat\n",
       "\n",
       "Rows: 1\n",
       "\n",
       "Data:\n",
       "+----------+---------+-----------------------+----------------+-------------+-------------------------------+\n",
       "| model_id | item_id | linear_regularization | max_iterations | num_factors | num_sampled_negative_examples |\n",
       "+----------+---------+-----------------------+----------------+-------------+-------------------------------+\n",
       "|    8     |  genres |         0.001         |       25       |      32     |               4               |\n",
       "+----------+---------+-----------------------+----------------+-------------+-------------------------------+\n",
       "+------------------------+----------------+--------+---------+----------------------+\n",
       "| ranking_regularization | regularization | target | user_id | training_precision@5 |\n",
       "+------------------------+----------------+--------+---------+----------------------+\n",
       "|          0.1           |     0.001      | rating |  userId |    0.622652757079    |\n",
       "+------------------------+----------------+--------+---------+----------------------+\n",
       "+-------------------+----------------+------------------------+---------------------+\n",
       "| training_recall@5 | training_rmse  | validation_precision@5 | validation_recall@5 |\n",
       "+-------------------+----------------+------------------------+---------------------+\n",
       "|  0.0432438002815  | 0.833312997195 |          0.16          |   0.0381954794746   |\n",
       "+-------------------+----------------+------------------------+---------------------+\n",
       "+-----------------+\n",
       "| validation_rmse |\n",
       "+-----------------+\n",
       "|  0.854391484041 |\n",
       "+-----------------+\n",
       "[1 rows x 16 columns]"
      ]
     },
     "execution_count": 93,
     "metadata": {},
     "output_type": "execute_result"
    }
   ],
   "source": [
    "ViewBestResults(job)"
   ]
  },
  {
   "cell_type": "code",
   "execution_count": null,
   "metadata": {},
   "outputs": [],
   "source": []
  },
  {
   "cell_type": "code",
   "execution_count": null,
   "metadata": {},
   "outputs": [],
   "source": []
  },
  {
   "cell_type": "markdown",
   "metadata": {},
   "source": [
    "<h2> Modeling and Evaluation 3 </h2>  \n",
    "Visualize results."
   ]
  },
  {
   "cell_type": "markdown",
   "metadata": {},
   "source": [
    "<h2> Modeling and Evaluation 4 </h2>  \n",
    "Summarize the ramifications."
   ]
  },
  {
   "cell_type": "markdown",
   "metadata": {},
   "source": [
    "<h2> Deployment </h2>  \n",
    "Be critical of your performance and tell the reader how your current model might be usable by other parties.  Did you achieve your goals?  If not, can you reign in the utility of you modeling?  How useful is your model for interested parties (i.e. the companies or organizations that might want to use it)?  How would you you deploy your model to interested parties.  What other data should be collected?  How often would the model need to be updated, etc?"
   ]
  },
  {
   "cell_type": "markdown",
   "metadata": {},
   "source": [
    "<h2> Exceptional Work </h2>  \n",
    "You have free reign to provide additional analyses or combine analyses"
   ]
  },
  {
   "cell_type": "markdown",
   "metadata": {},
   "source": [
    "<h4> Resources </h4>  \n",
    "\n",
    "*MovieLens Dataset*  \n",
    "<sup>[1]</sup> F. Maxwell Harper and Joseph A. Konstan. 2015. The MovieLens Datasets: History and Context. ACM Transactions on Interactive Intelligent Systems (TiiS) 5, 4, Article 19 (December 2015), 19 pages. DOI=http://dx.dio.org/10.1145/2827872  \n",
    "  \n",
    "*GraphLab API Documentation*  \n",
    "<sup>[2]</sup> Turi. 2016. GraphLab Create API Documentation. https://turi.com/products/create/docs  \n",
    "<sup>[3]</sup> Turi. 2016. Turi Machine Learning Platform User Guide. https://turi.com/learn/userguide/index.html  \n",
    "  \n",
    "*MSDS 7331: DataMiningNotebooks*  \n",
    "<sup>[4]</sup> Eric Larson. 13. Recommendation Systems.ipynb. (2017) Southern Methodist University. https://github.com/elarson/DataMiningNotebooks/blob/master/13.%20Recommendation%20Systems.ipynb "
   ]
  },
  {
   "cell_type": "code",
   "execution_count": null,
   "metadata": {},
   "outputs": [],
   "source": []
  }
 ],
 "metadata": {
  "kernelspec": {
   "display_name": "Python 2",
   "language": "python",
   "name": "python2"
  },
  "language_info": {
   "codemirror_mode": {
    "name": "ipython",
    "version": 2
   },
   "file_extension": ".py",
   "mimetype": "text/x-python",
   "name": "python",
   "nbconvert_exporter": "python",
   "pygments_lexer": "ipython2",
   "version": "2.7.14"
  }
 },
 "nbformat": 4,
 "nbformat_minor": 2
}
